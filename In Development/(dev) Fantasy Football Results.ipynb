{
 "cells": [
  {
   "cell_type": "code",
   "execution_count": 4,
   "metadata": {},
   "outputs": [],
   "source": [
    "import pandas as pd\n",
    "import matplotlib\n",
    "import matplotlib.pyplot as plt\n",
    "import seaborn as sns\n",
    "%matplotlib inline"
   ]
  },
  {
   "cell_type": "code",
   "execution_count": 11,
   "metadata": {},
   "outputs": [
    {
     "data": {
      "text/html": [
       "<div>\n",
       "<style scoped>\n",
       "    .dataframe tbody tr th:only-of-type {\n",
       "        vertical-align: middle;\n",
       "    }\n",
       "\n",
       "    .dataframe tbody tr th {\n",
       "        vertical-align: top;\n",
       "    }\n",
       "\n",
       "    .dataframe thead th {\n",
       "        text-align: right;\n",
       "    }\n",
       "</style>\n",
       "<table border=\"1\" class=\"dataframe\">\n",
       "  <thead>\n",
       "    <tr style=\"text-align: right;\">\n",
       "      <th></th>\n",
       "      <th>TEAM OWNER(S)</th>\n",
       "      <th>PF</th>\n",
       "      <th>PA</th>\n",
       "      <th>PCT</th>\n",
       "      <th>GB</th>\n",
       "      <th>STREAK</th>\n",
       "      <th>STREAK_</th>\n",
       "      <th>Div</th>\n",
       "    </tr>\n",
       "  </thead>\n",
       "  <tbody>\n",
       "    <tr>\n",
       "      <th>0</th>\n",
       "      <td>Learn to Reed (Alan Reed)</td>\n",
       "      <td>1377.5</td>\n",
       "      <td>1156.5</td>\n",
       "      <td>0.75</td>\n",
       "      <td>0</td>\n",
       "      <td>W6</td>\n",
       "      <td>6</td>\n",
       "      <td>GUARDIANS OF THE GALAXY</td>\n",
       "    </tr>\n",
       "    <tr>\n",
       "      <th>1</th>\n",
       "      <td>slime season (austin hoffe)</td>\n",
       "      <td>1225.5</td>\n",
       "      <td>1196.0</td>\n",
       "      <td>0.58</td>\n",
       "      <td>2</td>\n",
       "      <td>L2</td>\n",
       "      <td>-2</td>\n",
       "      <td>GUARDIANS OF THE GALAXY</td>\n",
       "    </tr>\n",
       "    <tr>\n",
       "      <th>2</th>\n",
       "      <td>She One Toe Shy (Sheila Hansen)</td>\n",
       "      <td>1401.0</td>\n",
       "      <td>1370.5</td>\n",
       "      <td>0.58</td>\n",
       "      <td>2</td>\n",
       "      <td>W2</td>\n",
       "      <td>2</td>\n",
       "      <td>GUARDIANS OF THE GALAXY</td>\n",
       "    </tr>\n",
       "    <tr>\n",
       "      <th>3</th>\n",
       "      <td>Team Corbin (Alex Corbin)</td>\n",
       "      <td>1170.5</td>\n",
       "      <td>1235.5</td>\n",
       "      <td>0.33</td>\n",
       "      <td>5</td>\n",
       "      <td>L4</td>\n",
       "      <td>-4</td>\n",
       "      <td>GUARDIANS OF THE GALAXY</td>\n",
       "    </tr>\n",
       "    <tr>\n",
       "      <th>4</th>\n",
       "      <td>Donny and The Flippers (Phillip H)</td>\n",
       "      <td>1411.5</td>\n",
       "      <td>1482.0</td>\n",
       "      <td>0.33</td>\n",
       "      <td>5</td>\n",
       "      <td>W2</td>\n",
       "      <td>2</td>\n",
       "      <td>GUARDIANS OF THE GALAXY</td>\n",
       "    </tr>\n",
       "  </tbody>\n",
       "</table>\n",
       "</div>"
      ],
      "text/plain": [
       "                        TEAM OWNER(S)      PF      PA   PCT  GB STREAK  \\\n",
       "0           Learn to Reed (Alan Reed)  1377.5  1156.5  0.75   0     W6   \n",
       "1         slime season (austin hoffe)  1225.5  1196.0  0.58   2     L2   \n",
       "2     She One Toe Shy (Sheila Hansen)  1401.0  1370.5  0.58   2     W2   \n",
       "3           Team Corbin (Alex Corbin)  1170.5  1235.5  0.33   5     L4   \n",
       "4  Donny and The Flippers (Phillip H)  1411.5  1482.0  0.33   5     W2   \n",
       "\n",
       "   STREAK_                      Div  \n",
       "0        6  GUARDIANS OF THE GALAXY  \n",
       "1       -2  GUARDIANS OF THE GALAXY  \n",
       "2        2  GUARDIANS OF THE GALAXY  \n",
       "3       -4  GUARDIANS OF THE GALAXY  \n",
       "4        2  GUARDIANS OF THE GALAXY  "
      ]
     },
     "execution_count": 11,
     "metadata": {},
     "output_type": "execute_result"
    }
   ],
   "source": [
    "standings = pd.read_csv(\"./jj_standings.csv\")\n",
    "standings.head()"
   ]
  },
  {
   "cell_type": "markdown",
   "metadata": {},
   "source": [
    "scatter plot"
   ]
  },
  {
   "cell_type": "code",
   "execution_count": 8,
   "metadata": {},
   "outputs": [
    {
     "data": {
      "text/plain": [
       "<matplotlib.collections.PathCollection at 0x1f6fa236400>"
      ]
     },
     "execution_count": 8,
     "metadata": {},
     "output_type": "execute_result"
    },
    {
     "data": {
      "image/png": "[encoded data removed]",
      "text/plain": [
       "<matplotlib.figure.Figure at 0x1f6fa1b4be0>"
      ]
     },
     "metadata": {},
     "output_type": "display_data"
    }
   ],
   "source": [
    "plt.scatter(x = 'PF', y = 'PA', data = standings)"
   ]
  },
  {
   "cell_type": "markdown",
   "metadata": {},
   "source": [
    "linear regression"
   ]
  },
  {
   "cell_type": "code",
   "execution_count": 15,
   "metadata": {},
   "outputs": [
    {
     "name": "stderr",
     "output_type": "stream",
     "text": [
      "C:\\Users\\phhale\\AppData\\Local\\Continuum\\anaconda3\\lib\\site-packages\\scipy\\stats\\stats.py:1706: FutureWarning: Using a non-tuple sequence for multidimensional indexing is deprecated; use `arr[tuple(seq)]` instead of `arr[seq]`. In the future this will be interpreted as an array index, `arr[np.array(seq)]`, which will result either in an error or a different result.\n",
      "  return np.add.reduce(sorted[indexer] * weights, axis=axis) / sumval\n"
     ]
    },
    {
     "data": {
      "text/plain": [
       "<matplotlib.axes._subplots.AxesSubplot at 0x1f6fa3bf6d8>"
      ]
     },
     "execution_count": 15,
     "metadata": {},
     "output_type": "execute_result"
    },
    {
     "data": {
      "image/png": "[encoded data removed]",
      "text/plain": [
       "<matplotlib.figure.Figure at 0x1f6fa392b00>"
      ]
     },
     "metadata": {},
     "output_type": "display_data"
    }
   ],
   "source": [
    "sns.regplot('PF', 'PCT', data = standings)"
   ]
  },
  {
   "cell_type": "code",
   "execution_count": 16,
   "metadata": {},
   "outputs": [
    {
     "data": {
      "text/plain": [
       "<matplotlib.axes._subplots.AxesSubplot at 0x1f6fa86de48>"
      ]
     },
     "execution_count": 16,
     "metadata": {},
     "output_type": "execute_result"
    },
    {
     "data": {
      "image/png": "[encoded data removed]",
      "text/plain": [
       "<matplotlib.figure.Figure at 0x1f6fa848208>"
      ]
     },
     "metadata": {},
     "output_type": "display_data"
    }
   ],
   "source": [
    "# nonparametric regression\n",
    "sns.regplot('PF', 'PCT', data = standings, lowess = True,)"
   ]
  },
  {
   "cell_type": "code",
   "execution_count": null,
   "metadata": {},
   "outputs": [],
   "source": []
  }
 ],
 "metadata": {
  "kernelspec": {
   "display_name": "Python 3",
   "language": "python",
   "name": "python3"
  },
  "language_info": {
   "codemirror_mode": {
    "name": "ipython",
    "version": 3
   },
   "file_extension": ".py",
   "mimetype": "text/x-python",
   "name": "python",
   "nbconvert_exporter": "python",
   "pygments_lexer": "ipython3",
   "version": "3.6.4"
  }
 },
 "nbformat": 4,
 "nbformat_minor": 2
}
