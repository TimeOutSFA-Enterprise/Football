{
 "cells": [
  {
   "cell_type": "code",
   "execution_count": 7,
   "metadata": {},
   "outputs": [],
   "source": [
    "import pandas as pd\n",
    "import numpy as np\n",
    "\n",
    "# Data Visualization\n",
    "import seaborn as sns\n",
    "sns.set(style=\"darkgrid\")\n",
    "import matplotlib.pyplot as plt \n",
    "%matplotlib inline\n",
    "from matplotlib import style"
   ]
  },
  {
   "cell_type": "code",
   "execution_count": 2,
   "metadata": {},
   "outputs": [
    {
     "data": {
      "text/html": [
       "<div>\n",
       "<style scoped>\n",
       "    .dataframe tbody tr th:only-of-type {\n",
       "        vertical-align: middle;\n",
       "    }\n",
       "\n",
       "    .dataframe tbody tr th {\n",
       "        vertical-align: top;\n",
       "    }\n",
       "\n",
       "    .dataframe thead th {\n",
       "        text-align: right;\n",
       "    }\n",
       "</style>\n",
       "<table border=\"1\" class=\"dataframe\">\n",
       "  <thead>\n",
       "    <tr style=\"text-align: right;\">\n",
       "      <th></th>\n",
       "      <th>index</th>\n",
       "      <th>rank_row</th>\n",
       "      <th>player</th>\n",
       "      <th>position</th>\n",
       "      <th>born</th>\n",
       "      <th>first_year</th>\n",
       "      <th>last_year</th>\n",
       "      <th>ap1</th>\n",
       "      <th>pb</th>\n",
       "      <th>st</th>\n",
       "      <th>...</th>\n",
       "      <th>sk_yds</th>\n",
       "      <th>run_att</th>\n",
       "      <th>run_yds</th>\n",
       "      <th>run_td</th>\n",
       "      <th>run_long</th>\n",
       "      <th>rec_rec</th>\n",
       "      <th>rec_yds</th>\n",
       "      <th>rec_td</th>\n",
       "      <th>rec_lng</th>\n",
       "      <th>month</th>\n",
       "    </tr>\n",
       "  </thead>\n",
       "  <tbody>\n",
       "    <tr>\n",
       "      <th>0</th>\n",
       "      <td>0</td>\n",
       "      <td>1</td>\n",
       "      <td>Grady Allen</td>\n",
       "      <td>LB</td>\n",
       "      <td>1946</td>\n",
       "      <td>1968</td>\n",
       "      <td>1972</td>\n",
       "      <td>0</td>\n",
       "      <td>0</td>\n",
       "      <td>3</td>\n",
       "      <td>...</td>\n",
       "      <td>NaN</td>\n",
       "      <td>NaN</td>\n",
       "      <td>NaN</td>\n",
       "      <td>NaN</td>\n",
       "      <td>NaN</td>\n",
       "      <td>NaN</td>\n",
       "      <td>NaN</td>\n",
       "      <td>NaN</td>\n",
       "      <td>NaN</td>\n",
       "      <td>1</td>\n",
       "    </tr>\n",
       "    <tr>\n",
       "      <th>1</th>\n",
       "      <td>1</td>\n",
       "      <td>2</td>\n",
       "      <td>Ralph Anderson</td>\n",
       "      <td>E</td>\n",
       "      <td>1937</td>\n",
       "      <td>1958</td>\n",
       "      <td>1960</td>\n",
       "      <td>0</td>\n",
       "      <td>0</td>\n",
       "      <td>2</td>\n",
       "      <td>...</td>\n",
       "      <td>NaN</td>\n",
       "      <td>NaN</td>\n",
       "      <td>NaN</td>\n",
       "      <td>NaN</td>\n",
       "      <td>NaN</td>\n",
       "      <td>55.0</td>\n",
       "      <td>791.0</td>\n",
       "      <td>6.0</td>\n",
       "      <td>46.0</td>\n",
       "      <td>1</td>\n",
       "    </tr>\n",
       "    <tr>\n",
       "      <th>2</th>\n",
       "      <td>2</td>\n",
       "      <td>3</td>\n",
       "      <td>Teddy Andrulewicz</td>\n",
       "      <td>WB</td>\n",
       "      <td>1905</td>\n",
       "      <td>1930</td>\n",
       "      <td>1930</td>\n",
       "      <td>0</td>\n",
       "      <td>0</td>\n",
       "      <td>0</td>\n",
       "      <td>...</td>\n",
       "      <td>NaN</td>\n",
       "      <td>NaN</td>\n",
       "      <td>NaN</td>\n",
       "      <td>NaN</td>\n",
       "      <td>NaN</td>\n",
       "      <td>0.0</td>\n",
       "      <td>0.0</td>\n",
       "      <td>1.0</td>\n",
       "      <td>0.0</td>\n",
       "      <td>1</td>\n",
       "    </tr>\n",
       "    <tr>\n",
       "      <th>3</th>\n",
       "      <td>3</td>\n",
       "      <td>4</td>\n",
       "      <td>Justin Armour</td>\n",
       "      <td>WR</td>\n",
       "      <td>1973</td>\n",
       "      <td>1995</td>\n",
       "      <td>1999</td>\n",
       "      <td>0</td>\n",
       "      <td>0</td>\n",
       "      <td>1</td>\n",
       "      <td>...</td>\n",
       "      <td>0.0</td>\n",
       "      <td>4.0</td>\n",
       "      <td>-5.0</td>\n",
       "      <td>0.0</td>\n",
       "      <td>6.0</td>\n",
       "      <td>64.0</td>\n",
       "      <td>861.0</td>\n",
       "      <td>7.0</td>\n",
       "      <td>54.0</td>\n",
       "      <td>1</td>\n",
       "    </tr>\n",
       "    <tr>\n",
       "      <th>4</th>\n",
       "      <td>4</td>\n",
       "      <td>5</td>\n",
       "      <td>Marvin Austin</td>\n",
       "      <td>DL</td>\n",
       "      <td>1989</td>\n",
       "      <td>2012</td>\n",
       "      <td>2014</td>\n",
       "      <td>0</td>\n",
       "      <td>0</td>\n",
       "      <td>0</td>\n",
       "      <td>...</td>\n",
       "      <td>NaN</td>\n",
       "      <td>NaN</td>\n",
       "      <td>NaN</td>\n",
       "      <td>NaN</td>\n",
       "      <td>NaN</td>\n",
       "      <td>NaN</td>\n",
       "      <td>NaN</td>\n",
       "      <td>NaN</td>\n",
       "      <td>NaN</td>\n",
       "      <td>1</td>\n",
       "    </tr>\n",
       "  </tbody>\n",
       "</table>\n",
       "<p>5 rows × 29 columns</p>\n",
       "</div>"
      ],
      "text/plain": [
       "   index  rank_row             player position  born  first_year  last_year  \\\n",
       "0      0         1        Grady Allen       LB  1946        1968       1972   \n",
       "1      1         2     Ralph Anderson        E  1937        1958       1960   \n",
       "2      2         3  Teddy Andrulewicz       WB  1905        1930       1930   \n",
       "3      3         4      Justin Armour       WR  1973        1995       1999   \n",
       "4      4         5      Marvin Austin       DL  1989        2012       2014   \n",
       "\n",
       "   ap1  pb  st  ...    sk_yds  run_att  run_yds  run_td  run_long  rec_rec  \\\n",
       "0    0   0   3  ...       NaN      NaN      NaN     NaN       NaN      NaN   \n",
       "1    0   0   2  ...       NaN      NaN      NaN     NaN       NaN     55.0   \n",
       "2    0   0   0  ...       NaN      NaN      NaN     NaN       NaN      0.0   \n",
       "3    0   0   1  ...       0.0      4.0     -5.0     0.0       6.0     64.0   \n",
       "4    0   0   0  ...       NaN      NaN      NaN     NaN       NaN      NaN   \n",
       "\n",
       "   rec_yds  rec_td  rec_lng  month  \n",
       "0      NaN     NaN      NaN      1  \n",
       "1    791.0     6.0     46.0      1  \n",
       "2      0.0     1.0      0.0      1  \n",
       "3    861.0     7.0     54.0      1  \n",
       "4      NaN     NaN      NaN      1  \n",
       "\n",
       "[5 rows x 29 columns]"
      ]
     },
     "execution_count": 2,
     "metadata": {},
     "output_type": "execute_result"
    }
   ],
   "source": [
    "bday = pd.read_csv('nfl_birthdays.csv', index_col=0)\n",
    "bday = bday.reset_index(drop=False)\n",
    "bday.head()"
   ]
  },
  {
   "cell_type": "markdown",
   "metadata": {},
   "source": [
    "Hypothesis\n",
    "* Ho: mu(Q1 bdays) - mu(Q2-Q4 bday) = 0\n",
    "* Ha: mu(Q1 bdays) - mu(Q2-Q4 bday) != 0"
   ]
  },
  {
   "cell_type": "code",
   "execution_count": 17,
   "metadata": {},
   "outputs": [],
   "source": [
    "q1_bday = bday[(bday.month <= 4) & (bday.born >= 1980)].month\n",
    "rest_bday = bday[(bday.month > 4) & (bday.born >= 1980)].month"
   ]
  },
  {
   "cell_type": "code",
   "execution_count": 18,
   "metadata": {},
   "outputs": [],
   "source": [
    "x = np.random.choice(bday.month, size=1000 , replace=False)\n",
    "y = np.random.choice(bday.month, size=1000 , replace=False)"
   ]
  },
  {
   "cell_type": "markdown",
   "metadata": {},
   "source": [
    "Difference in Mean"
   ]
  },
  {
   "cell_type": "code",
   "execution_count": 20,
   "metadata": {},
   "outputs": [
    {
     "data": {
      "text/plain": [
       "-6.052595070364846"
      ]
     },
     "execution_count": 20,
     "metadata": {},
     "output_type": "execute_result"
    }
   ],
   "source": [
    "diff_mean = q1_bday.mean() - rest_bday.mean()\n",
    "diff_mean"
   ]
  },
  {
   "cell_type": "markdown",
   "metadata": {},
   "source": [
    "The difference in mean fo"
   ]
  },
  {
   "cell_type": "code",
   "execution_count": 44,
   "metadata": {},
   "outputs": [
    {
     "name": "stdout",
     "output_type": "stream",
     "text": [
      "Number of values greater than the observed mean difference:  1000\n"
     ]
    }
   ],
   "source": [
    "# number of permutations required for the permutaiton test\n",
    "nperm = 1000\n",
    "\n",
    "# create list ot hold average mean values during permutation test\n",
    "perm_result = []\n",
    "\n",
    "for i in range(0,nperm):\n",
    "    q1_sample = np.random.choice(bday.month, size=100 , replace=False)     # randomly assign Q1 birthdays to sample group\n",
    "    rest_sample = np.random.choice(bday.month, size=100 , replace=False)   # randomly assign Q2-Q4 birthdayssample group\n",
    "    sample_diff = q1_sample.mean() - rest_sample.mean()                    # compute difference in sample menas\n",
    "    perm_result.append(sample_diff)\n",
    "    \n",
    "print(\"Number of values greater than the observed mean difference: \", len([i for i in perm_result if i > diff_mean]))"
   ]
  },
  {
   "cell_type": "code",
   "execution_count": 14,
   "metadata": {},
   "outputs": [
    {
     "data": {
      "image/png": "[encoded data removed]",
      "text/plain": [
       "<Figure size 432x288 with 1 Axes>"
      ]
     },
     "metadata": {
      "needs_background": "light"
     },
     "output_type": "display_data"
    }
   ],
   "source": [
    "plt.hist(x, bins=12, alpha=0.5, color='b')\n",
    "plt.hist(y, bins=12,alpha=0.5, color='r')\n",
    "leg = ['Sample X', 'Sample Y']\n",
    "plt.legend(leg)\n",
    "plt.show()"
   ]
  }
 ],
 "metadata": {
  "kernelspec": {
   "display_name": "Python 3",
   "language": "python",
   "name": "python3"
  },
  "language_info": {
   "codemirror_mode": {
    "name": "ipython",
    "version": 3
   },
   "file_extension": ".py",
   "mimetype": "text/x-python",
   "name": "python",
   "nbconvert_exporter": "python",
   "pygments_lexer": "ipython3",
   "version": "3.6.6"
  }
 },
 "nbformat": 4,
 "nbformat_minor": 2
}
