{
 "cells": [
  {
   "cell_type": "markdown",
   "metadata": {},
   "source": [
    "# NFL Birthday Analysis (Independent T-test)\n",
    "I am currently in the SMU Masters Data Science Program and we discussing a topic on observational vs experimental studies, and one of the studies we were analyzing was the study performed on the __relative age effect in athletics__. [Brewer, L. M., and Cochran, J. J.(June 2013), \"August’s Child Is...Favoured by Fortune.\"](https://rss.onlinelibrary.wiley.com/doi/full/10.1111/j.1740-9713.2013.00661.x) Per Lauren M. Bre and James J. Cochran study:\n",
    "\n",
    "![](https://cdn-s3.si.com/s3fs-public/styles/marquee_large_2x/public/2015/01/13/terrell-owens-popcorn-celebration.jpg?itok=GAAYT_9R)\n",
    "\n",
    "We will be working to determine if there is a significant difference between two groups. The two groups we will be looking at are NFL players birthdays January - April and those birthday May-December to see if there are differences in the two populations. \n",
    "\n",
    "\n",
    "### Independent T-test Assumptions\n",
    "\n",
    "As apart of any probability distribution test, there are a set of assumptions that we must assess and meet for the test results to be valid. These assumptions are as follows:\n",
    "1. The smaples are independent and randomly drawn\n",
    "2. The distribution of the residuals between the two groups should follow the normal distribution \n",
    "3. The variance between the two groups are equal. \n",
    "\n",
    "On the event that the above three distributions are violated, we will have to consider another test such as a non-parametric test or a permutation test. \n",
    "\n",
    "### Data Used\n",
    "The data used was came from https://www.pro-football-reference.com/ and in a scripted i used to pull the NFL players birthdays. This data set contains the NFL players names, position, year of birth, years they were in the NFL, birth month and other career statistitics. We will only use the the birth month for each player and birth year we will define a starting point where the relative age effect in athletics could have occured given the american education system. \n",
    "\n",
    "Below we import the required libraries and take a peak at the data"
   ]
  },
  {
   "cell_type": "code",
   "execution_count": 5,
   "metadata": {},
   "outputs": [],
   "source": [
    "import pandas as pd\n",
    "import numpy as np\n",
    "from scipy import stats\n",
    "\n",
    "# Data Visualization\n",
    "import seaborn as sns\n",
    "sns.set(style=\"darkgrid\")\n",
    "import matplotlib.pyplot as plt \n",
    "%matplotlib inline\n",
    "from matplotlib import style"
   ]
  },
  {
   "cell_type": "code",
   "execution_count": 6,
   "metadata": {},
   "outputs": [
    {
     "data": {
      "text/html": [
       "<div>\n",
       "<style scoped>\n",
       "    .dataframe tbody tr th:only-of-type {\n",
       "        vertical-align: middle;\n",
       "    }\n",
       "\n",
       "    .dataframe tbody tr th {\n",
       "        vertical-align: top;\n",
       "    }\n",
       "\n",
       "    .dataframe thead th {\n",
       "        text-align: right;\n",
       "    }\n",
       "</style>\n",
       "<table border=\"1\" class=\"dataframe\">\n",
       "  <thead>\n",
       "    <tr style=\"text-align: right;\">\n",
       "      <th></th>\n",
       "      <th>index</th>\n",
       "      <th>rank_row</th>\n",
       "      <th>player</th>\n",
       "      <th>position</th>\n",
       "      <th>born</th>\n",
       "      <th>first_year</th>\n",
       "      <th>last_year</th>\n",
       "      <th>ap1</th>\n",
       "      <th>pb</th>\n",
       "      <th>st</th>\n",
       "      <th>...</th>\n",
       "      <th>sk_yds</th>\n",
       "      <th>run_att</th>\n",
       "      <th>run_yds</th>\n",
       "      <th>run_td</th>\n",
       "      <th>run_long</th>\n",
       "      <th>rec_rec</th>\n",
       "      <th>rec_yds</th>\n",
       "      <th>rec_td</th>\n",
       "      <th>rec_lng</th>\n",
       "      <th>month</th>\n",
       "    </tr>\n",
       "  </thead>\n",
       "  <tbody>\n",
       "    <tr>\n",
       "      <th>4</th>\n",
       "      <td>4</td>\n",
       "      <td>5</td>\n",
       "      <td>Marvin Austin</td>\n",
       "      <td>DL</td>\n",
       "      <td>1989</td>\n",
       "      <td>2012</td>\n",
       "      <td>2014</td>\n",
       "      <td>0</td>\n",
       "      <td>0</td>\n",
       "      <td>0</td>\n",
       "      <td>...</td>\n",
       "      <td>NaN</td>\n",
       "      <td>NaN</td>\n",
       "      <td>NaN</td>\n",
       "      <td>NaN</td>\n",
       "      <td>NaN</td>\n",
       "      <td>NaN</td>\n",
       "      <td>NaN</td>\n",
       "      <td>NaN</td>\n",
       "      <td>NaN</td>\n",
       "      <td>1</td>\n",
       "    </tr>\n",
       "    <tr>\n",
       "      <th>5</th>\n",
       "      <td>5</td>\n",
       "      <td>6</td>\n",
       "      <td>Johnny Baldwin</td>\n",
       "      <td>LB</td>\n",
       "      <td>1984</td>\n",
       "      <td>2007</td>\n",
       "      <td>2007</td>\n",
       "      <td>0</td>\n",
       "      <td>0</td>\n",
       "      <td>0</td>\n",
       "      <td>...</td>\n",
       "      <td>NaN</td>\n",
       "      <td>NaN</td>\n",
       "      <td>NaN</td>\n",
       "      <td>NaN</td>\n",
       "      <td>NaN</td>\n",
       "      <td>NaN</td>\n",
       "      <td>NaN</td>\n",
       "      <td>NaN</td>\n",
       "      <td>NaN</td>\n",
       "      <td>1</td>\n",
       "    </tr>\n",
       "    <tr>\n",
       "      <th>6</th>\n",
       "      <td>6</td>\n",
       "      <td>7</td>\n",
       "      <td>Ramses Barden</td>\n",
       "      <td>WR</td>\n",
       "      <td>1986</td>\n",
       "      <td>2009</td>\n",
       "      <td>2012</td>\n",
       "      <td>0</td>\n",
       "      <td>0</td>\n",
       "      <td>0</td>\n",
       "      <td>...</td>\n",
       "      <td>NaN</td>\n",
       "      <td>NaN</td>\n",
       "      <td>NaN</td>\n",
       "      <td>NaN</td>\n",
       "      <td>NaN</td>\n",
       "      <td>29.0</td>\n",
       "      <td>394.0</td>\n",
       "      <td>0.0</td>\n",
       "      <td>31.0</td>\n",
       "      <td>1</td>\n",
       "    </tr>\n",
       "    <tr>\n",
       "      <th>7</th>\n",
       "      <td>7</td>\n",
       "      <td>8</td>\n",
       "      <td>Joe Barksdale</td>\n",
       "      <td>OL</td>\n",
       "      <td>1988</td>\n",
       "      <td>2011</td>\n",
       "      <td>2018</td>\n",
       "      <td>0</td>\n",
       "      <td>0</td>\n",
       "      <td>5</td>\n",
       "      <td>...</td>\n",
       "      <td>NaN</td>\n",
       "      <td>NaN</td>\n",
       "      <td>NaN</td>\n",
       "      <td>NaN</td>\n",
       "      <td>NaN</td>\n",
       "      <td>NaN</td>\n",
       "      <td>NaN</td>\n",
       "      <td>NaN</td>\n",
       "      <td>NaN</td>\n",
       "      <td>1</td>\n",
       "    </tr>\n",
       "    <tr>\n",
       "      <th>19</th>\n",
       "      <td>19</td>\n",
       "      <td>20</td>\n",
       "      <td>Zach Clayton</td>\n",
       "      <td>DT</td>\n",
       "      <td>1988</td>\n",
       "      <td>2011</td>\n",
       "      <td>2012</td>\n",
       "      <td>0</td>\n",
       "      <td>0</td>\n",
       "      <td>0</td>\n",
       "      <td>...</td>\n",
       "      <td>NaN</td>\n",
       "      <td>NaN</td>\n",
       "      <td>NaN</td>\n",
       "      <td>NaN</td>\n",
       "      <td>NaN</td>\n",
       "      <td>NaN</td>\n",
       "      <td>NaN</td>\n",
       "      <td>NaN</td>\n",
       "      <td>NaN</td>\n",
       "      <td>1</td>\n",
       "    </tr>\n",
       "  </tbody>\n",
       "</table>\n",
       "<p>5 rows × 29 columns</p>\n",
       "</div>"
      ],
      "text/plain": [
       "    index  rank_row          player position  born  first_year  last_year  \\\n",
       "4       4         5   Marvin Austin       DL  1989        2012       2014   \n",
       "5       5         6  Johnny Baldwin       LB  1984        2007       2007   \n",
       "6       6         7   Ramses Barden       WR  1986        2009       2012   \n",
       "7       7         8   Joe Barksdale       OL  1988        2011       2018   \n",
       "19     19        20    Zach Clayton       DT  1988        2011       2012   \n",
       "\n",
       "    ap1  pb  st  ...    sk_yds  run_att  run_yds  run_td  run_long  rec_rec  \\\n",
       "4     0   0   0  ...       NaN      NaN      NaN     NaN       NaN      NaN   \n",
       "5     0   0   0  ...       NaN      NaN      NaN     NaN       NaN      NaN   \n",
       "6     0   0   0  ...       NaN      NaN      NaN     NaN       NaN     29.0   \n",
       "7     0   0   5  ...       NaN      NaN      NaN     NaN       NaN      NaN   \n",
       "19    0   0   0  ...       NaN      NaN      NaN     NaN       NaN      NaN   \n",
       "\n",
       "    rec_yds  rec_td  rec_lng  month  \n",
       "4       NaN     NaN      NaN      1  \n",
       "5       NaN     NaN      NaN      1  \n",
       "6     394.0     0.0     31.0      1  \n",
       "7       NaN     NaN      NaN      1  \n",
       "19      NaN     NaN      NaN      1  \n",
       "\n",
       "[5 rows x 29 columns]"
      ]
     },
     "execution_count": 6,
     "metadata": {},
     "output_type": "execute_result"
    }
   ],
   "source": [
    "bday = pd.read_csv('nfl_birthdays.csv', index_col=0)\n",
    "bday = bday.reset_index(drop=False)\n",
    "bday = bday[(bday.born >= 1980)] # who played at least 7 games\n",
    "#bday = bday[['born', 'month']]\n",
    "bday.head()"
   ]
  },
  {
   "cell_type": "markdown",
   "metadata": {},
   "source": [
    "## Descriptive Statistics"
   ]
  },
  {
   "cell_type": "markdown",
   "metadata": {},
   "source": [
    "Distribtuion of birthday months by 5 yearh incements for those born after 1980."
   ]
  },
  {
   "cell_type": "code",
   "execution_count": 8,
   "metadata": {},
   "outputs": [
    {
     "data": {
      "image/png": "[encoded data removed]",
      "text/plain": [
       "<Figure size 1080x360 with 1 Axes>"
      ]
     },
     "metadata": {
      "needs_background": "light"
     },
     "output_type": "display_data"
    }
   ],
   "source": [
    "# compute the nearest 10 for player's decade birth\n",
    "bday['decade'] = (bday['born'] // 5) * 5\n",
    "\n",
    "# create box chart and plot players birth month disctribution arcross decades\n",
    "plt.figure(figsize=(15,5))\n",
    "sns.boxplot(x=\"decade\", y=\"month\", data=bday)   \n",
    "\n",
    "plt.show()\n",
    "plt.clf()\n",
    "plt.close()"
   ]
  },
  {
   "cell_type": "markdown",
   "metadata": {},
   "source": [
    "Next is a plot of QB's that have played more than 25 games born after then 1980s:\n"
   ]
  },
  {
   "cell_type": "code",
   "execution_count": 21,
   "metadata": {},
   "outputs": [
    {
     "data": {
      "image/png": "[encoded data removed]",
      "text/plain": [
       "<Figure size 720x576 with 3 Axes>"
      ]
     },
     "metadata": {
      "needs_background": "light"
     },
     "output_type": "display_data"
    },
    {
     "data": {
      "image/png": "[encoded data removed]",
      "text/plain": [
       "<Figure size 360x360 with 1 Axes>"
      ]
     },
     "metadata": {
      "needs_background": "light"
     },
     "output_type": "display_data"
    },
    {
     "data": {
      "image/png": "[encoded data removed]",
      "text/plain": [
       "<Figure size 360x360 with 1 Axes>"
      ]
     },
     "metadata": {
      "needs_background": "light"
     },
     "output_type": "display_data"
    },
    {
     "data": {
      "image/png": "[encoded data removed]",
      "text/plain": [
       "<Figure size 360x360 with 1 Axes>"
      ]
     },
     "metadata": {
      "needs_background": "light"
     },
     "output_type": "display_data"
    }
   ],
   "source": [
    "fig, (ax1, ax2, ax3) = plt.subplots(1,3,figsize=(10,8))\n",
    "sns.catplot(x=\"month\", kind=\"count\", \n",
    "            data=bday[(bday.games > 25) & (bday.position == 'QB')], ax=ax1)\n",
    "\n",
    "ax2.set_ylabel(\"\")  # remove y label, but keep ticks\n",
    "\n",
    "sns.catplot(x=\"month\", kind=\"count\", \n",
    "            data=bday[(bday.games > 25) & (bday.position == 'RB')], ax=ax2)\n",
    "sns.catplot(x=\"month\", kind=\"count\", \n",
    "            data=bday[(bday.games > 25) & (bday.position == 'WR')], ax=ax3)\n",
    "ax3.set_ylabel(\"\")  # remove y label, but keep ticks\n",
    "plt.show()"
   ]
  },
  {
   "cell_type": "markdown",
   "metadata": {},
   "source": [
    "looks for the QBs born after 1980 that played more than 100 games often are born in early winter or late spring. "
   ]
  },
  {
   "cell_type": "code",
   "execution_count": 35,
   "metadata": {},
   "outputs": [
    {
     "data": {
      "text/plain": [
       "Power_divergenceResult(statistic=284.656912209889, pvalue=1.9174679309994352e-11)"
      ]
     },
     "execution_count": 35,
     "metadata": {},
     "output_type": "execute_result"
    }
   ],
   "source": [
    "stats.chisquare(bday[(bday.games > 100) & (bday.position == 'QB')]['month'])"
   ]
  },
  {
   "cell_type": "code",
   "execution_count": 46,
   "metadata": {},
   "outputs": [
    {
     "data": {
      "text/html": [
       "<div>\n",
       "<style scoped>\n",
       "    .dataframe tbody tr th:only-of-type {\n",
       "        vertical-align: middle;\n",
       "    }\n",
       "\n",
       "    .dataframe tbody tr th {\n",
       "        vertical-align: top;\n",
       "    }\n",
       "\n",
       "    .dataframe thead th {\n",
       "        text-align: right;\n",
       "    }\n",
       "</style>\n",
       "<table border=\"1\" class=\"dataframe\">\n",
       "  <thead>\n",
       "    <tr style=\"text-align: right;\">\n",
       "      <th></th>\n",
       "      <th>month</th>\n",
       "      <th>player</th>\n",
       "    </tr>\n",
       "  </thead>\n",
       "  <tbody>\n",
       "    <tr>\n",
       "      <th>0</th>\n",
       "      <td>1</td>\n",
       "      <td>576</td>\n",
       "    </tr>\n",
       "    <tr>\n",
       "      <th>1</th>\n",
       "      <td>2</td>\n",
       "      <td>525</td>\n",
       "    </tr>\n",
       "    <tr>\n",
       "      <th>2</th>\n",
       "      <td>3</td>\n",
       "      <td>512</td>\n",
       "    </tr>\n",
       "    <tr>\n",
       "      <th>3</th>\n",
       "      <td>4</td>\n",
       "      <td>503</td>\n",
       "    </tr>\n",
       "    <tr>\n",
       "      <th>4</th>\n",
       "      <td>5</td>\n",
       "      <td>547</td>\n",
       "    </tr>\n",
       "    <tr>\n",
       "      <th>5</th>\n",
       "      <td>6</td>\n",
       "      <td>484</td>\n",
       "    </tr>\n",
       "    <tr>\n",
       "      <th>6</th>\n",
       "      <td>7</td>\n",
       "      <td>564</td>\n",
       "    </tr>\n",
       "    <tr>\n",
       "      <th>7</th>\n",
       "      <td>8</td>\n",
       "      <td>536</td>\n",
       "    </tr>\n",
       "    <tr>\n",
       "      <th>8</th>\n",
       "      <td>9</td>\n",
       "      <td>569</td>\n",
       "    </tr>\n",
       "    <tr>\n",
       "      <th>9</th>\n",
       "      <td>10</td>\n",
       "      <td>506</td>\n",
       "    </tr>\n",
       "    <tr>\n",
       "      <th>10</th>\n",
       "      <td>11</td>\n",
       "      <td>535</td>\n",
       "    </tr>\n",
       "    <tr>\n",
       "      <th>11</th>\n",
       "      <td>12</td>\n",
       "      <td>528</td>\n",
       "    </tr>\n",
       "  </tbody>\n",
       "</table>\n",
       "</div>"
      ],
      "text/plain": [
       "    month  player\n",
       "0       1     576\n",
       "1       2     525\n",
       "2       3     512\n",
       "3       4     503\n",
       "4       5     547\n",
       "5       6     484\n",
       "6       7     564\n",
       "7       8     536\n",
       "8       9     569\n",
       "9      10     506\n",
       "10     11     535\n",
       "11     12     528"
      ]
     },
     "execution_count": 46,
     "metadata": {},
     "output_type": "execute_result"
    }
   ],
   "source": [
    "month_ = bday.groupby(by = \"month\", as_index=False)['player'].count()\n",
    "month_"
   ]
  },
  {
   "cell_type": "code",
   "execution_count": 49,
   "metadata": {},
   "outputs": [
    {
     "data": {
      "image/png": "[encoded data removed]",
      "text/plain": [
       "<Figure size 360x360 with 1 Axes>"
      ]
     },
     "metadata": {
      "needs_background": "light"
     },
     "output_type": "display_data"
    }
   ],
   "source": [
    "sns.catplot(x=\"month\", kind=\"count\", data=bday[bday.games > 7], ax=axs[0]));"
   ]
  },
  {
   "cell_type": "markdown",
   "metadata": {},
   "source": [
    "create column indicating q1 birthday or other_birthday"
   ]
  },
  {
   "cell_type": "code",
   "execution_count": 23,
   "metadata": {},
   "outputs": [],
   "source": [
    "bday.loc[bday.month <=4, \"month_indicator\"] = 'q1'\n",
    "bday.loc[bday.month > 4, \"month_indicator\"] = 'other'\n",
    "\n",
    "q1 = bday[bday.month_indicator == 'q1']\n",
    "other = bday[bday.month_indicator == 'other']"
   ]
  },
  {
   "cell_type": "markdown",
   "metadata": {},
   "source": [
    "evaluate some initial descriptive statistics"
   ]
  },
  {
   "cell_type": "code",
   "execution_count": 19,
   "metadata": {},
   "outputs": [
    {
     "data": {
      "text/html": [
       "<div>\n",
       "<style scoped>\n",
       "    .dataframe tbody tr th:only-of-type {\n",
       "        vertical-align: middle;\n",
       "    }\n",
       "\n",
       "    .dataframe tbody tr th {\n",
       "        vertical-align: top;\n",
       "    }\n",
       "\n",
       "    .dataframe thead th {\n",
       "        text-align: right;\n",
       "    }\n",
       "</style>\n",
       "<table border=\"1\" class=\"dataframe\">\n",
       "  <thead>\n",
       "    <tr style=\"text-align: right;\">\n",
       "      <th></th>\n",
       "      <th>count</th>\n",
       "      <th>mean</th>\n",
       "      <th>std</th>\n",
       "      <th>min</th>\n",
       "      <th>25%</th>\n",
       "      <th>50%</th>\n",
       "      <th>75%</th>\n",
       "      <th>max</th>\n",
       "    </tr>\n",
       "    <tr>\n",
       "      <th>month_indicator</th>\n",
       "      <th></th>\n",
       "      <th></th>\n",
       "      <th></th>\n",
       "      <th></th>\n",
       "      <th></th>\n",
       "      <th></th>\n",
       "      <th></th>\n",
       "      <th></th>\n",
       "    </tr>\n",
       "  </thead>\n",
       "  <tbody>\n",
       "    <tr>\n",
       "      <th>other</th>\n",
       "      <td>3089.0</td>\n",
       "      <td>8.457753</td>\n",
       "      <td>2.280574</td>\n",
       "      <td>5.0</td>\n",
       "      <td>7.0</td>\n",
       "      <td>8.0</td>\n",
       "      <td>10.0</td>\n",
       "      <td>12.0</td>\n",
       "    </tr>\n",
       "    <tr>\n",
       "      <th>q1</th>\n",
       "      <td>1507.0</td>\n",
       "      <td>2.448573</td>\n",
       "      <td>1.119893</td>\n",
       "      <td>1.0</td>\n",
       "      <td>1.0</td>\n",
       "      <td>2.0</td>\n",
       "      <td>3.0</td>\n",
       "      <td>4.0</td>\n",
       "    </tr>\n",
       "  </tbody>\n",
       "</table>\n",
       "</div>"
      ],
      "text/plain": [
       "                  count      mean       std  min  25%  50%   75%   max\n",
       "month_indicator                                                       \n",
       "other            3089.0  8.457753  2.280574  5.0  7.0  8.0  10.0  12.0\n",
       "q1               1507.0  2.448573  1.119893  1.0  1.0  2.0   3.0   4.0"
      ]
     },
     "execution_count": 19,
     "metadata": {},
     "output_type": "execute_result"
    }
   ],
   "source": [
    "bday.groupby(\"month_indicator\")['month'].describe()"
   ]
  },
  {
   "cell_type": "markdown",
   "metadata": {},
   "source": [
    "There appears to be a difference between the average obviously since these are based on the month value\n",
    "\n",
    "### Assumption Check\n",
    "\n",
    "Lets evaluate to see if the t-test results can be trusted\n",
    "\n",
    "#### homogenity Variance"
   ]
  },
  {
   "cell_type": "code",
   "execution_count": 24,
   "metadata": {},
   "outputs": [
    {
     "data": {
      "text/plain": [
       "LeveneResult(statistic=826.548632110684, pvalue=2.716792989069281e-167)"
      ]
     },
     "execution_count": 24,
     "metadata": {},
     "output_type": "execute_result"
    }
   ],
   "source": [
    "stats.levene(q1['month'], other['month'])"
   ]
  },
  {
   "cell_type": "markdown",
   "metadata": {},
   "source": [
    "Check Normality Assumptions"
   ]
  },
  {
   "cell_type": "code",
   "execution_count": 3,
   "metadata": {},
   "outputs": [],
   "source": [
    "from statsmodels.graphics.gofplots import qqplot\n",
    "from matplotlib import pyplot"
   ]
  },
  {
   "cell_type": "markdown",
   "metadata": {},
   "source": [
    "Hypothesis\n",
    "* Ho: mu(Q1 bdays) - mu(Q2-Q4 bday) = 0\n",
    "* Ha: mu(Q1 bdays) - mu(Q2-Q4 bday) != 0"
   ]
  },
  {
   "cell_type": "code",
   "execution_count": 4,
   "metadata": {},
   "outputs": [],
   "source": [
    "q1_bday = bday[(bday.month <= 4) & (bday.born >= 1980)].month\n",
    "rest_bday = bday[(bday.month > 4) & (bday.born >= 1980)].month"
   ]
  },
  {
   "cell_type": "code",
   "execution_count": 5,
   "metadata": {},
   "outputs": [],
   "source": [
    "x = np.random.choice(bday.month, size=1000 , replace=False)\n",
    "y = np.random.choice(bday.month, size=1000 , replace=False)"
   ]
  },
  {
   "cell_type": "code",
   "execution_count": 6,
   "metadata": {},
   "outputs": [
    {
     "data": {
      "image/png": "[encoded data removed]",
      "text/plain": [
       "<Figure size 432x288 with 1 Axes>"
      ]
     },
     "metadata": {
      "needs_background": "light"
     },
     "output_type": "display_data"
    }
   ],
   "source": [
    "# q-q plot\n",
    "qqplot(x, line='s')\n",
    "pyplot.show()"
   ]
  },
  {
   "cell_type": "code",
   "execution_count": 7,
   "metadata": {},
   "outputs": [
    {
     "data": {
      "text/plain": [
       "(array([158., 107.,  71.,  72.,  73.,  87.,  99.,  98.,  81., 154.]),\n",
       " array([ 1. ,  2.1,  3.2,  4.3,  5.4,  6.5,  7.6,  8.7,  9.8, 10.9, 12. ]),\n",
       " <a list of 10 Patch objects>)"
      ]
     },
     "execution_count": 7,
     "metadata": {},
     "output_type": "execute_result"
    },
    {
     "data": {
      "image/png": "[encoded data removed]",
      "text/plain": [
       "<Figure size 432x288 with 1 Axes>"
      ]
     },
     "metadata": {
      "needs_background": "light"
     },
     "output_type": "display_data"
    }
   ],
   "source": [
    "plt.hist(x)"
   ]
  },
  {
   "cell_type": "markdown",
   "metadata": {},
   "source": [
    "it appears that we have a bimodal distribtution. "
   ]
  },
  {
   "cell_type": "code",
   "execution_count": 8,
   "metadata": {},
   "outputs": [
    {
     "name": "stdout",
     "output_type": "stream",
     "text": [
      "Statistics=0.941, p=0.000\n",
      "Sample does not look Gaussian (reject H0)\n"
     ]
    }
   ],
   "source": [
    "from scipy.stats import shapiro\n",
    "\n",
    "# shapiro normality test\n",
    "stat, p = shapiro(x)\n",
    "print('Statistics=%.3f, p=%.3f' % (stat, p))\n",
    "# interpret\n",
    "alpha = 0.05\n",
    "if p > alpha:\n",
    "    print('Sample looks Gaussian (fail to reject H0)')\n",
    "else:\n",
    "    print('Sample does not look Gaussian (reject H0)')"
   ]
  },
  {
   "cell_type": "markdown",
   "metadata": {},
   "source": [
    "### Testing Data for Normality (Kurtosis and Skewness)\n",
    "\n",
    "Since the data from the Q-Q plot and histrogram above appear to not resemble a normal distribution, lets take a further in testing for normality, specifically:\n",
    "- __Kurtosis__ which provides values on how flat or peak in respects ot the normal distribution\n",
    "- __Skewness__ which measures the horizontal symmetry of the data with respects to the normal distribution. "
   ]
  },
  {
   "cell_type": "code",
   "execution_count": 17,
   "metadata": {},
   "outputs": [
    {
     "name": "stderr",
     "output_type": "stream",
     "text": [
      "/home/redne/anaconda3/lib/python3.6/site-packages/matplotlib/axes/_axes.py:6571: UserWarning: The 'normed' kwarg is deprecated, and has been replaced by the 'density' kwarg.\n",
      "  warnings.warn(\"The 'normed' kwarg is deprecated, and has been \"\n"
     ]
    },
    {
     "data": {
      "image/png": "[encoded data removed]",
      "text/plain": [
       "<Figure size 432x288 with 1 Axes>"
      ]
     },
     "metadata": {
      "needs_background": "light"
     },
     "output_type": "display_data"
    }
   ],
   "source": [
    "# http://www.pythonforfinance.net/2016/04/04/python-skew-kurtosis/\n",
    "\n",
    "import scipy.stats as stats\n",
    "\n",
    "#convert pandas DataFrame object to numpy array and sort\n",
    "h = np.asarray(x)\n",
    "h = sorted(h)\n",
    "\n",
    "#use the scipy stats module to fit a normal distirbution with same mean and standard deviation\n",
    "fit = stats.norm.pdf(h, np.mean(h), np.std(h)) \n",
    "\n",
    "#plot both series on the histogram\n",
    "plt.plot(h,fit,'-',linewidth = 2)\n",
    "plt.hist(h,normed=True,bins = 12)      \n",
    "plt.show()"
   ]
  },
  {
   "cell_type": "markdown",
   "metadata": {},
   "source": [
    "This appears to be quite flat, but its a little difficult ot tell if there is any skewness. Lets run a the `skew()` and `kurt()` function to obtain numerical results:"
   ]
  },
  {
   "cell_type": "code",
   "execution_count": 21,
   "metadata": {},
   "outputs": [
    {
     "name": "stdout",
     "output_type": "stream",
     "text": [
      "Skew = -0.03158644438460896\n",
      "Kurtosis = -1.2187918406102412\n"
     ]
    }
   ],
   "source": [
    "print('Skew =', stats.skew(x))\n",
    "print('Kurtosis =', stats.kurtosis(x))"
   ]
  },
  {
   "cell_type": "markdown",
   "metadata": {},
   "source": [
    "TODO: Interpretations of results... "
   ]
  },
  {
   "cell_type": "markdown",
   "metadata": {},
   "source": []
  },
  {
   "cell_type": "markdown",
   "metadata": {},
   "source": [
    "## Permutation Test"
   ]
  },
  {
   "cell_type": "markdown",
   "metadata": {},
   "source": [
    "Difference in Mean"
   ]
  },
  {
   "cell_type": "code",
   "execution_count": 20,
   "metadata": {},
   "outputs": [
    {
     "data": {
      "text/plain": [
       "-6.052595070364846"
      ]
     },
     "execution_count": 20,
     "metadata": {},
     "output_type": "execute_result"
    }
   ],
   "source": [
    "diff_mean = q1_bday.mean() - rest_bday.mean()\n",
    "diff_mean"
   ]
  },
  {
   "cell_type": "markdown",
   "metadata": {},
   "source": [
    "The difference in mean fo"
   ]
  },
  {
   "cell_type": "code",
   "execution_count": 44,
   "metadata": {},
   "outputs": [
    {
     "name": "stdout",
     "output_type": "stream",
     "text": [
      "Number of values greater than the observed mean difference:  1000\n"
     ]
    }
   ],
   "source": [
    "# number of permutations required for the permutaiton test\n",
    "nperm = 1000\n",
    "\n",
    "# create list ot hold average mean values during permutation test\n",
    "perm_result = []\n",
    "\n",
    "for i in range(0,nperm):\n",
    "    q1_sample = np.random.choice(bday.month, size=100 , replace=False)     # randomly assign Q1 birthdays to sample group\n",
    "    rest_sample = np.random.choice(bday.month, size=100 , replace=False)   # randomly assign Q2-Q4 birthdayssample group\n",
    "    sample_diff = q1_sample.mean() - rest_sample.mean()                    # compute difference in sample menas\n",
    "    perm_result.append(sample_diff)\n",
    "    \n",
    "print(\"Number of values greater than the observed mean difference: \", len([i for i in perm_result if i > diff_mean]))"
   ]
  },
  {
   "cell_type": "code",
   "execution_count": 14,
   "metadata": {
    "scrolled": true
   },
   "outputs": [
    {
     "data": {
      "image/png": "[encoded data removed]",
      "text/plain": [
       "<Figure size 432x288 with 1 Axes>"
      ]
     },
     "metadata": {
      "needs_background": "light"
     },
     "output_type": "display_data"
    }
   ],
   "source": [
    "plt.hist(x, bins=12, alpha=0.5, color='b')\n",
    "plt.hist(y, bins=12,alpha=0.5, color='r')\n",
    "leg = ['Sample X', 'Sample Y']\n",
    "plt.legend(leg)\n",
    "plt.show()"
   ]
  },
  {
   "cell_type": "markdown",
   "metadata": {},
   "source": [
    "Other Studies - https://www.sciencenewsforstudents.org/article/why-many-olympic-athletes-have-early-birthdays"
   ]
  },
  {
   "cell_type": "code",
   "execution_count": null,
   "metadata": {},
   "outputs": [],
   "source": []
  }
 ],
 "metadata": {
  "kernelspec": {
   "display_name": "Python 3",
   "language": "python",
   "name": "python3"
  },
  "language_info": {
   "codemirror_mode": {
    "name": "ipython",
    "version": 3
   },
   "file_extension": ".py",
   "mimetype": "text/x-python",
   "name": "python",
   "nbconvert_exporter": "python",
   "pygments_lexer": "ipython3",
   "version": "3.6.6"
  }
 },
 "nbformat": 4,
 "nbformat_minor": 2
}
