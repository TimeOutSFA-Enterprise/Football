{
 "cells": [
  {
   "cell_type": "markdown",
   "metadata": {},
   "source": [
    "# NFL Birthday Analysis (ANOVA)\n",
    "I am currently in the SMU Masters Data Science Program and we discussing a topic on observational vs experimental studies, and one of the studies we were analyzing was the study performed on the __relative age effect in athletics__. [Brewer, L. M., and Cochran, J. J.(June 2013), \"August’s Child Is...Favoured by Fortune.\"](https://rss.onlinelibrary.wiley.com/doi/full/10.1111/j.1740-9713.2013.00661.x) Per Lauren M. Bre and James J. Cochran study:\n",
    "\n",
    "![](https://cdn-s3.si.com/s3fs-public/styles/marquee_large_2x/public/2015/01/13/terrell-owens-popcorn-celebration.jpg?itok=GAAYT_9R)\n",
    "\n",
    "We will be working to determine if there is a significant difference between two groups. The two groups we will be looking at are NFL players birthdays January - April and those birthday May-December to see if there are differences in the two populations. \n",
    "\n",
    "\n",
    "### ANOVA Assumptions\n",
    "\n",
    "Specifically for a one-way ANOVA (analysis of variance) we often look at testing the asusmption to confirm the validity of the test to prevent the result and our interpetation from being misleading. These assumptions are as follows:\n",
    "1. Assumption of normality (e.g., are the errors nornmally distributed?) \n",
    "2. Equal Variance (e.g., is the error variance between the groups consistant?)\n",
    "3. Independence (most important) (e.g., are the errors independent)\n",
    "\n",
    "On the event that the above three distributions are violated, we will have to consider another test such as a non-parametric test or a permutation test. \n",
    "\n",
    "### Data Used\n",
    "The data used was came from https://www.pro-football-reference.com/ and in a scripted i used to pull the NFL players birthdays. This data set contains the NFL players names, position, year of birth, years they were in the NFL, birth month and other career statistitics. We will only use the the birth month for each player and birth year we will define a starting point where the relative age effect in athletics could have occured given the american education system. \n",
    "\n",
    "Below we import the required libraries and take a peak at the data."
   ]
  },
  {
   "cell_type": "code",
   "execution_count": 10,
   "metadata": {},
   "outputs": [],
   "source": [
    "import pandas as pd\n",
    "import numpy as np\n",
    "from scipy import stats\n",
    "\n",
    "# Data Visualization\n",
    "import seaborn as sns\n",
    "sns.set(style=\"darkgrid\")\n",
    "import matplotlib.pyplot as plt \n",
    "%matplotlib inline\n",
    "from matplotlib import style"
   ]
  },
  {
   "cell_type": "code",
   "execution_count": 22,
   "metadata": {},
   "outputs": [
    {
     "data": {
      "text/html": [
       "<div>\n",
       "<style scoped>\n",
       "    .dataframe tbody tr th:only-of-type {\n",
       "        vertical-align: middle;\n",
       "    }\n",
       "\n",
       "    .dataframe tbody tr th {\n",
       "        vertical-align: top;\n",
       "    }\n",
       "\n",
       "    .dataframe thead th {\n",
       "        text-align: right;\n",
       "    }\n",
       "</style>\n",
       "<table border=\"1\" class=\"dataframe\">\n",
       "  <thead>\n",
       "    <tr style=\"text-align: right;\">\n",
       "      <th></th>\n",
       "      <th>born</th>\n",
       "      <th>month</th>\n",
       "      <th>games</th>\n",
       "      <th>player</th>\n",
       "      <th>position</th>\n",
       "    </tr>\n",
       "  </thead>\n",
       "  <tbody>\n",
       "    <tr>\n",
       "      <th>4</th>\n",
       "      <td>1989</td>\n",
       "      <td>1</td>\n",
       "      <td>26.0</td>\n",
       "      <td>Marvin Austin</td>\n",
       "      <td>DL</td>\n",
       "    </tr>\n",
       "    <tr>\n",
       "      <th>5</th>\n",
       "      <td>1984</td>\n",
       "      <td>1</td>\n",
       "      <td>3.0</td>\n",
       "      <td>Johnny Baldwin</td>\n",
       "      <td>LB</td>\n",
       "    </tr>\n",
       "    <tr>\n",
       "      <th>6</th>\n",
       "      <td>1986</td>\n",
       "      <td>1</td>\n",
       "      <td>29.0</td>\n",
       "      <td>Ramses Barden</td>\n",
       "      <td>WR</td>\n",
       "    </tr>\n",
       "    <tr>\n",
       "      <th>7</th>\n",
       "      <td>1988</td>\n",
       "      <td>1</td>\n",
       "      <td>98.0</td>\n",
       "      <td>Joe Barksdale</td>\n",
       "      <td>OL</td>\n",
       "    </tr>\n",
       "    <tr>\n",
       "      <th>19</th>\n",
       "      <td>1988</td>\n",
       "      <td>1</td>\n",
       "      <td>3.0</td>\n",
       "      <td>Zach Clayton</td>\n",
       "      <td>DT</td>\n",
       "    </tr>\n",
       "  </tbody>\n",
       "</table>\n",
       "</div>"
      ],
      "text/plain": [
       "    born  month  games          player position\n",
       "4   1989      1   26.0   Marvin Austin       DL\n",
       "5   1984      1    3.0  Johnny Baldwin       LB\n",
       "6   1986      1   29.0   Ramses Barden       WR\n",
       "7   1988      1   98.0   Joe Barksdale       OL\n",
       "19  1988      1    3.0    Zach Clayton       DT"
      ]
     },
     "execution_count": 22,
     "metadata": {},
     "output_type": "execute_result"
    }
   ],
   "source": [
    "bday = pd.read_csv('nfl_birthdays.csv', index_col=0)\n",
    "bday = bday.reset_index(drop=False)\n",
    "bday = bday[(bday.born >= 1980)] # who played at least 7 games\n",
    "bday = bday[['born', 'month', 'games', 'player' ,'position']]\n",
    "bday.head()"
   ]
  },
  {
   "cell_type": "markdown",
   "metadata": {},
   "source": [
    "## Descriptive Statistics"
   ]
  },
  {
   "cell_type": "markdown",
   "metadata": {},
   "source": [
    "Distribtuion of birthday months by 5 yearh incements for those born after 1980."
   ]
  },
  {
   "cell_type": "code",
   "execution_count": 23,
   "metadata": {},
   "outputs": [
    {
     "data": {
      "image/png": "[encoded data removed]",
      "text/plain": [
       "<Figure size 1080x360 with 1 Axes>"
      ]
     },
     "metadata": {
      "needs_background": "light"
     },
     "output_type": "display_data"
    }
   ],
   "source": [
    "# create box chart and plot players birth month disctribution arcross year\n",
    "plt.figure(figsize=(15,5))\n",
    "sns.boxplot(x=\"born\", y=\"month\", data=bday)   \n",
    "\n",
    "plt.show()\n",
    "plt.clf()\n",
    "plt.close()"
   ]
  },
  {
   "cell_type": "markdown",
   "metadata": {},
   "source": [
    "__Analysis:__ In the above box plots we can see the the sample values plotted against the means which appears to be similar lenght. Because the way we collected the data there can only be values between 1 (January) and 12 (December) therefore, for obvious reasons, we will not identify any outliers. \n",
    "\n",
    "The __homogeneity of variance__ appears to be quite consistant among the other populations."
   ]
  },
  {
   "cell_type": "markdown",
   "metadata": {},
   "source": [
    "Next is a plot of QB's that have played more than 25 games born after then 1980s:\n"
   ]
  },
  {
   "cell_type": "code",
   "execution_count": 24,
   "metadata": {},
   "outputs": [
    {
     "name": "stderr",
     "output_type": "stream",
     "text": [
      "/home/redne/anaconda3/lib/python3.6/site-packages/ipykernel_launcher.py:2: FutureWarning: 'pandas.tools.plotting.scatter_matrix' is deprecated, import 'pandas.plotting.scatter_matrix' instead.\n",
      "  \n"
     ]
    },
    {
     "data": {
      "text/plain": [
       "array([[<matplotlib.axes._subplots.AxesSubplot object at 0x7fac312889e8>,\n",
       "        <matplotlib.axes._subplots.AxesSubplot object at 0x7fac312b0080>],\n",
       "       [<matplotlib.axes._subplots.AxesSubplot object at 0x7fac31251780>,\n",
       "        <matplotlib.axes._subplots.AxesSubplot object at 0x7fac31276f28>]],\n",
       "      dtype=object)"
      ]
     },
     "execution_count": 24,
     "metadata": {},
     "output_type": "execute_result"
    },
    {
     "data": {
      "image/png": "[encoded data removed]",
      "text/plain": [
       "<Figure size 432x288 with 4 Axes>"
      ]
     },
     "metadata": {
      "needs_background": "light"
     },
     "output_type": "display_data"
    }
   ],
   "source": [
    "from pandas.tools import plotting\n",
    "plotting.scatter_matrix(bday[['month', 'born']])"
   ]
  },
  {
   "cell_type": "markdown",
   "metadata": {},
   "source": [
    "looks for the QBs born after 1980 that played more than 100 games often are born in early winter or late spring. "
   ]
  },
  {
   "cell_type": "code",
   "execution_count": 25,
   "metadata": {
    "scrolled": true
   },
   "outputs": [
    {
     "data": {
      "text/plain": [
       "<seaborn.axisgrid.FacetGrid at 0x7fac313f5a58>"
      ]
     },
     "execution_count": 25,
     "metadata": {},
     "output_type": "execute_result"
    },
    {
     "data": {
      "image/png": "[encoded data removed]",
      "text/plain": [
       "<Figure size 360x360 with 1 Axes>"
      ]
     },
     "metadata": {
      "needs_background": "light"
     },
     "output_type": "display_data"
    },
    {
     "data": {
      "image/png": "[encoded data removed]",
      "text/plain": [
       "<Figure size 360x360 with 1 Axes>"
      ]
     },
     "metadata": {
      "needs_background": "light"
     },
     "output_type": "display_data"
    },
    {
     "data": {
      "image/png": "[encoded data removed]",
      "text/plain": [
       "<Figure size 360x360 with 1 Axes>"
      ]
     },
     "metadata": {
      "needs_background": "light"
     },
     "output_type": "display_data"
    }
   ],
   "source": [
    "sns.catplot(x=\"month\", kind=\"count\", \n",
    "            data=bday[(bday.games > 25) & (bday.position == 'QB')])\n",
    "\n",
    "sns.catplot(x=\"month\", kind=\"count\", \n",
    "            data=bday[(bday.games > 25) & (bday.position == 'RB')])\n",
    "sns.catplot(x=\"month\", kind=\"count\", \n",
    "            data=bday[(bday.games > 25) & (bday.position == 'WR')])"
   ]
  },
  {
   "cell_type": "code",
   "execution_count": 26,
   "metadata": {},
   "outputs": [
    {
     "data": {
      "text/plain": [
       "Power_divergenceResult(statistic=37.126213592233015, pvalue=0.0020129511557639944)"
      ]
     },
     "execution_count": 26,
     "metadata": {},
     "output_type": "execute_result"
    }
   ],
   "source": [
    "stats.chisquare(bday[(bday.games > 100) & (bday.position == 'QB')]['month'])"
   ]
  },
  {
   "cell_type": "code",
   "execution_count": 27,
   "metadata": {},
   "outputs": [
    {
     "data": {
      "text/html": [
       "<div>\n",
       "<style scoped>\n",
       "    .dataframe tbody tr th:only-of-type {\n",
       "        vertical-align: middle;\n",
       "    }\n",
       "\n",
       "    .dataframe tbody tr th {\n",
       "        vertical-align: top;\n",
       "    }\n",
       "\n",
       "    .dataframe thead th {\n",
       "        text-align: right;\n",
       "    }\n",
       "</style>\n",
       "<table border=\"1\" class=\"dataframe\">\n",
       "  <thead>\n",
       "    <tr style=\"text-align: right;\">\n",
       "      <th></th>\n",
       "      <th>month</th>\n",
       "      <th>player</th>\n",
       "    </tr>\n",
       "  </thead>\n",
       "  <tbody>\n",
       "    <tr>\n",
       "      <th>0</th>\n",
       "      <td>1</td>\n",
       "      <td>576</td>\n",
       "    </tr>\n",
       "    <tr>\n",
       "      <th>1</th>\n",
       "      <td>2</td>\n",
       "      <td>525</td>\n",
       "    </tr>\n",
       "    <tr>\n",
       "      <th>2</th>\n",
       "      <td>3</td>\n",
       "      <td>512</td>\n",
       "    </tr>\n",
       "    <tr>\n",
       "      <th>3</th>\n",
       "      <td>4</td>\n",
       "      <td>503</td>\n",
       "    </tr>\n",
       "    <tr>\n",
       "      <th>4</th>\n",
       "      <td>5</td>\n",
       "      <td>547</td>\n",
       "    </tr>\n",
       "    <tr>\n",
       "      <th>5</th>\n",
       "      <td>6</td>\n",
       "      <td>484</td>\n",
       "    </tr>\n",
       "    <tr>\n",
       "      <th>6</th>\n",
       "      <td>7</td>\n",
       "      <td>564</td>\n",
       "    </tr>\n",
       "    <tr>\n",
       "      <th>7</th>\n",
       "      <td>8</td>\n",
       "      <td>536</td>\n",
       "    </tr>\n",
       "    <tr>\n",
       "      <th>8</th>\n",
       "      <td>9</td>\n",
       "      <td>569</td>\n",
       "    </tr>\n",
       "    <tr>\n",
       "      <th>9</th>\n",
       "      <td>10</td>\n",
       "      <td>506</td>\n",
       "    </tr>\n",
       "    <tr>\n",
       "      <th>10</th>\n",
       "      <td>11</td>\n",
       "      <td>535</td>\n",
       "    </tr>\n",
       "    <tr>\n",
       "      <th>11</th>\n",
       "      <td>12</td>\n",
       "      <td>528</td>\n",
       "    </tr>\n",
       "  </tbody>\n",
       "</table>\n",
       "</div>"
      ],
      "text/plain": [
       "    month  player\n",
       "0       1     576\n",
       "1       2     525\n",
       "2       3     512\n",
       "3       4     503\n",
       "4       5     547\n",
       "5       6     484\n",
       "6       7     564\n",
       "7       8     536\n",
       "8       9     569\n",
       "9      10     506\n",
       "10     11     535\n",
       "11     12     528"
      ]
     },
     "execution_count": 27,
     "metadata": {},
     "output_type": "execute_result"
    }
   ],
   "source": [
    "month_ = bday.groupby(by = \"month\", as_index=False)['player'].count()\n",
    "month_"
   ]
  },
  {
   "cell_type": "markdown",
   "metadata": {},
   "source": [
    "#### Groups/Factors Selection (selecting the independent variables)\n",
    "Next we will indicate what the groups we want to test to see (1) if there is a difference among the groups and (2) which group in fact is carrying the most difference. Therefore we will have 3 different groups:\n",
    "1. `q1` for NFL players born between Jan and April\n",
    "2. `q2` for NFL players born between May and August\n",
    "3. `q3` for NFL players born between September and December"
   ]
  },
  {
   "cell_type": "code",
   "execution_count": 30,
   "metadata": {},
   "outputs": [],
   "source": [
    "bday.loc[bday.month <=4, \"month_indicator\"] = 'q1'\n",
    "bday.loc[(bday.month >4) & (bday.month <=8), \"month_indicator\"] = 'q2'\n",
    "bday.loc[(bday.month >8), \"month_indicator\"] = 'q3'\n",
    "#bday.loc[bday.month > 4, \"month_indicator\"] = 'other'\n",
    "\n",
    "q1 = bday[bday.month_indicator == 'q1']['month']\n",
    "q2 = bday[bday.month_indicator == 'q2']['month']\n",
    "q3 = bday[bday.month_indicator == 'q3']['month']\n",
    "#other = bday[bday.month_indicator == 'other']['month']"
   ]
  },
  {
   "cell_type": "code",
   "execution_count": 31,
   "metadata": {},
   "outputs": [
    {
     "data": {
      "text/plain": [
       "<seaborn.axisgrid.FacetGrid at 0x7fac316ca0f0>"
      ]
     },
     "execution_count": 31,
     "metadata": {},
     "output_type": "execute_result"
    },
    {
     "data": {
      "image/png": "[encoded data removed]",
      "text/plain": [
       "<Figure size 360x360 with 1 Axes>"
      ]
     },
     "metadata": {
      "needs_background": "light"
     },
     "output_type": "display_data"
    }
   ],
   "source": [
    "sns.catplot(x=\"month\", kind=\"count\", data=bday[bday.games > 7])"
   ]
  },
  {
   "cell_type": "markdown",
   "metadata": {},
   "source": [
    "### ANOVA Check\n",
    "We will perfomr an anova test using the `f_oneway()` function in `scipy`. We will use the `q1` for birthdays from Jan-April and `other` for birthdays \n",
    "\n",
    "#### Hypothesis\n",
    "\n",
    "$H_0:μ_q=μ_2=μ_3$\n",
    "   \n",
    "Therefore rejecthing the $H_0$ means that there is a significant difference between at least two of the archer, therefore we define our alternative hypothsis as:\n",
    "\n",
    "$H_A$: at least two means are significantly different"
   ]
  },
  {
   "cell_type": "code",
   "execution_count": 32,
   "metadata": {},
   "outputs": [
    {
     "name": "stdout",
     "output_type": "stream",
     "text": [
      "Statistics=27012.161, p=0.000\n",
      "Different distributions (reject H0)\n"
     ]
    }
   ],
   "source": [
    "# https://machinelearningmastery.com/parametric-statistical-significance-tests-in-python/\n",
    "\n",
    "## ANOVA Test \n",
    "from scipy.stats import f_oneway \n",
    "\n",
    "stat, p = f_oneway(q1, q2, q3)\n",
    "print('Statistics=%.3f, p=%.3f' % (stat, p))\n",
    "# interpret\n",
    "alpha = 0.05\n",
    "if p > alpha:\n",
    "    print('Same distributions (fail to reject H0)')\n",
    "else:\n",
    "    print('Different distributions (reject H0)')"
   ]
  },
  {
   "cell_type": "markdown",
   "metadata": {},
   "source": [
    "Per the results running the ANOVA test, we can interpret the p-value correctly rejecting the nully hypotehsis indicating the one or more sample means differ. Therefore we can move on to performing a post hoc test"
   ]
  },
  {
   "cell_type": "code",
   "execution_count": 33,
   "metadata": {},
   "outputs": [],
   "source": [
    "## import library\n",
    "from statsmodels.stats.multicomp import pairwise_tukeyhsd\n",
    "from statsmodels.stats.multicomp import MultiComparison"
   ]
  },
  {
   "cell_type": "code",
   "execution_count": 34,
   "metadata": {},
   "outputs": [
    {
     "name": "stdout",
     "output_type": "stream",
     "text": [
      "Multiple Comparison of Means - Tukey HSD,FWER=0.05\n",
      "===========================================\n",
      "group1 group2 meandiff lower  upper  reject\n",
      "-------------------------------------------\n",
      "  q1     q2    4.0658  3.9848 4.1469  True \n",
      "  q1     q3    8.0328  7.9518 8.1139  True \n",
      "  q2     q3    3.967   3.8861 4.0479  True \n",
      "-------------------------------------------\n",
      "['q1' 'q2' 'q3']\n"
     ]
    }
   ],
   "source": [
    "mc = MultiComparison(bday.month, bday.month_indicator)\n",
    "result = mc.tukeyhsd()\n",
    " \n",
    "print(result)\n",
    "print(mc.groupsunique)"
   ]
  },
  {
   "cell_type": "markdown",
   "metadata": {},
   "source": [
    "The output of the Tukey test shows the average differences, a confidence interval as well as whether we would reject the null hyptoehsis for each pair of groups at the given significance level. \n",
    "\n",
    "We can see from the tukey test that `other` is significantly diddfferent from the other measures. "
   ]
  },
  {
   "cell_type": "code",
   "execution_count": 35,
   "metadata": {},
   "outputs": [
    {
     "data": {
      "text/html": [
       "<table class=\"simpletable\">\n",
       "<caption>Multiple Comparison of Means - Tukey HSD,FWER=0.05</caption>\n",
       "<tr>\n",
       "  <th>group1</th> <th>group2</th> <th>meandiff</th>  <th>lower</th>  <th>upper</th> <th>reject</th>\n",
       "</tr>\n",
       "<tr>\n",
       "    <td>q1</td>     <td>q2</td>    <td>4.0658</td>  <td>3.9848</td> <td>4.1469</td>  <td>True</td> \n",
       "</tr>\n",
       "<tr>\n",
       "    <td>q1</td>     <td>q3</td>    <td>8.0328</td>  <td>7.9518</td> <td>8.1139</td>  <td>True</td> \n",
       "</tr>\n",
       "<tr>\n",
       "    <td>q2</td>     <td>q3</td>     <td>3.967</td>  <td>3.8861</td> <td>4.0479</td>  <td>True</td> \n",
       "</tr>\n",
       "</table>"
      ],
      "text/plain": [
       "<class 'statsmodels.iolib.table.SimpleTable'>"
      ]
     },
     "execution_count": 35,
     "metadata": {},
     "output_type": "execute_result"
    },
    {
     "data": {
      "image/png": "[encoded data removed]",
      "text/plain": [
       "<Figure size 720x432 with 1 Axes>"
      ]
     },
     "metadata": {
      "needs_background": "light"
     },
     "output_type": "display_data"
    }
   ],
   "source": [
    "tukey = pairwise_tukeyhsd(endog=bday['month'],     # Data\n",
    "                          groups=bday.month_indicator,   # Groups\n",
    "                          alpha=0.05)          # Significance level\n",
    "\n",
    "tukey.plot_simultaneous()    # Plot group confidence intervals\n",
    "plt.vlines(x=5,ymin=-1,ymax=4.5, color=\"red\")\n",
    "\n",
    "tukey.summary()              # See test summary"
   ]
  },
  {
   "cell_type": "markdown",
   "metadata": {},
   "source": [
    "We can conlcude with 95% confidence that only group that is likely to overlap with Q1 is Q2. "
   ]
  }
 ],
 "metadata": {
  "kernelspec": {
   "display_name": "Python 3",
   "language": "python",
   "name": "python3"
  },
  "language_info": {
   "codemirror_mode": {
    "name": "ipython",
    "version": 3
   },
   "file_extension": ".py",
   "mimetype": "text/x-python",
   "name": "python",
   "nbconvert_exporter": "python",
   "pygments_lexer": "ipython3",
   "version": "3.6.6"
  }
 },
 "nbformat": 4,
 "nbformat_minor": 2
}
