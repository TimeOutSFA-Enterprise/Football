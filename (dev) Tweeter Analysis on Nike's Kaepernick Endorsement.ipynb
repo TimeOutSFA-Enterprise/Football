{
 "cells": [
  {
   "cell_type": "markdown",
   "metadata": {},
   "source": [
    "# Analysis on Colin Kaepernick and the Nike Backlash\n",
    "\n",
    "As part of the [Kaggle: 5,000 #JustDoIt! Tweets Dataset](https://www.kaggle.com/eliasdabbas/5000-justdoit-tweets-dataset), we will see to perform analysis on the tweets responding to Nike's campaign endoresement for Colin Kaepernick. For those un aware, at the beginning of the NFL 2018-2019 season, Nike made an endorement deal with Colin Kaepernick that sparked a wide spread backlash and support. Last season, Colin Kaepernick and other NFL players began showing protest during the NFL national anthem due to an all to common occurance of police brutality, racial inequality among other issues. \n",
    "\n",
    "We will be performing analysis on the various topic trends from Twitter to determine and depection of the various fans recations both in support and urging a boycott of some of Nike's apparals. \n",
    "\n",
    "\n",
    "![](https://d3i6fh83elv35t.cloudfront.net/static/2018/09/colin-kaepernick-nike-1024x575.jpeg)"
   ]
  },
  {
   "cell_type": "code",
   "execution_count": 1,
   "metadata": {},
   "outputs": [],
   "source": [
    "import pandas as pd\n",
    "\n",
    "# Data Visualization\n",
    "import seaborn as sns\n",
    "sns.set(style=\"darkgrid\")\n",
    "import matplotlib.pyplot as plt \n",
    "%matplotlib inline\n",
    "from matplotlib import style"
   ]
  },
  {
   "cell_type": "code",
   "execution_count": 2,
   "metadata": {},
   "outputs": [
    {
     "data": {
      "text/html": [
       "<div>\n",
       "<style>\n",
       "    .dataframe thead tr:only-child th {\n",
       "        text-align: right;\n",
       "    }\n",
       "\n",
       "    .dataframe thead th {\n",
       "        text-align: left;\n",
       "    }\n",
       "\n",
       "    .dataframe tbody tr th {\n",
       "        vertical-align: top;\n",
       "    }\n",
       "</style>\n",
       "<table border=\"1\" class=\"dataframe\">\n",
       "  <thead>\n",
       "    <tr style=\"text-align: right;\">\n",
       "      <th></th>\n",
       "      <th>tweet_contributors</th>\n",
       "      <th>tweet_coordinates</th>\n",
       "      <th>tweet_created_at</th>\n",
       "      <th>tweet_display_text_range</th>\n",
       "      <th>tweet_entities</th>\n",
       "      <th>tweet_extended_entities</th>\n",
       "      <th>tweet_favorite_count</th>\n",
       "      <th>tweet_favorited</th>\n",
       "      <th>tweet_full_text</th>\n",
       "      <th>tweet_geo</th>\n",
       "      <th>...</th>\n",
       "      <th>user_profile_text_color</th>\n",
       "      <th>user_profile_use_background_image</th>\n",
       "      <th>user_protected</th>\n",
       "      <th>user_screen_name</th>\n",
       "      <th>user_statuses_count</th>\n",
       "      <th>user_time_zone</th>\n",
       "      <th>user_translator_type</th>\n",
       "      <th>user_url</th>\n",
       "      <th>user_utc_offset</th>\n",
       "      <th>user_verified</th>\n",
       "    </tr>\n",
       "  </thead>\n",
       "  <tbody>\n",
       "    <tr>\n",
       "      <th>0</th>\n",
       "      <td>NaN</td>\n",
       "      <td>NaN</td>\n",
       "      <td>Fri Sep 07 16:25:06 +0000 2018</td>\n",
       "      <td>[0, 75]</td>\n",
       "      <td>{'hashtags': [{'text': 'quote', 'indices': [47...</td>\n",
       "      <td>{'media': [{'id': 1038100853872197632, 'id_str...</td>\n",
       "      <td>0</td>\n",
       "      <td>False</td>\n",
       "      <td>Done is better than perfect. — Sheryl Sandberg...</td>\n",
       "      <td>NaN</td>\n",
       "      <td>...</td>\n",
       "      <td>333333</td>\n",
       "      <td>True</td>\n",
       "      <td>False</td>\n",
       "      <td>UltraYOUwoman</td>\n",
       "      <td>91870.0</td>\n",
       "      <td>NaN</td>\n",
       "      <td>none</td>\n",
       "      <td>https://t.co/jGlJswxjwS</td>\n",
       "      <td>NaN</td>\n",
       "      <td>False</td>\n",
       "    </tr>\n",
       "    <tr>\n",
       "      <th>1</th>\n",
       "      <td>NaN</td>\n",
       "      <td>NaN</td>\n",
       "      <td>Fri Sep 07 16:24:59 +0000 2018</td>\n",
       "      <td>[0, 237]</td>\n",
       "      <td>{'hashtags': [{'text': 'hero', 'indices': [90,...</td>\n",
       "      <td>NaN</td>\n",
       "      <td>0</td>\n",
       "      <td>False</td>\n",
       "      <td>Shout out to the Great Fire Department and the...</td>\n",
       "      <td>NaN</td>\n",
       "      <td>...</td>\n",
       "      <td>333333</td>\n",
       "      <td>True</td>\n",
       "      <td>False</td>\n",
       "      <td>yungcutup</td>\n",
       "      <td>618822.0</td>\n",
       "      <td>NaN</td>\n",
       "      <td>none</td>\n",
       "      <td>http://t.co/lVm8vfDbfO</td>\n",
       "      <td>NaN</td>\n",
       "      <td>False</td>\n",
       "    </tr>\n",
       "    <tr>\n",
       "      <th>2</th>\n",
       "      <td>NaN</td>\n",
       "      <td>NaN</td>\n",
       "      <td>Fri Sep 07 16:24:50 +0000 2018</td>\n",
       "      <td>[0, 176]</td>\n",
       "      <td>{'hashtags': [{'text': 'JustDoIt', 'indices': ...</td>\n",
       "      <td>{'media': [{'id': 1038100773396041728, 'id_str...</td>\n",
       "      <td>0</td>\n",
       "      <td>False</td>\n",
       "      <td>There are some AMAZINGLY hilarious Nike Ad mem...</td>\n",
       "      <td>NaN</td>\n",
       "      <td>...</td>\n",
       "      <td>050505</td>\n",
       "      <td>True</td>\n",
       "      <td>False</td>\n",
       "      <td>rachelbogle</td>\n",
       "      <td>48075.0</td>\n",
       "      <td>NaN</td>\n",
       "      <td>none</td>\n",
       "      <td>https://t.co/g9exqgZp9x</td>\n",
       "      <td>NaN</td>\n",
       "      <td>True</td>\n",
       "    </tr>\n",
       "  </tbody>\n",
       "</table>\n",
       "<p>3 rows × 72 columns</p>\n",
       "</div>"
      ],
      "text/plain": [
       "   tweet_contributors tweet_coordinates                tweet_created_at  \\\n",
       "0                 NaN               NaN  Fri Sep 07 16:25:06 +0000 2018   \n",
       "1                 NaN               NaN  Fri Sep 07 16:24:59 +0000 2018   \n",
       "2                 NaN               NaN  Fri Sep 07 16:24:50 +0000 2018   \n",
       "\n",
       "  tweet_display_text_range                                     tweet_entities  \\\n",
       "0                  [0, 75]  {'hashtags': [{'text': 'quote', 'indices': [47...   \n",
       "1                 [0, 237]  {'hashtags': [{'text': 'hero', 'indices': [90,...   \n",
       "2                 [0, 176]  {'hashtags': [{'text': 'JustDoIt', 'indices': ...   \n",
       "\n",
       "                             tweet_extended_entities  tweet_favorite_count  \\\n",
       "0  {'media': [{'id': 1038100853872197632, 'id_str...                     0   \n",
       "1                                                NaN                     0   \n",
       "2  {'media': [{'id': 1038100773396041728, 'id_str...                     0   \n",
       "\n",
       "   tweet_favorited                                    tweet_full_text  \\\n",
       "0            False  Done is better than perfect. — Sheryl Sandberg...   \n",
       "1            False  Shout out to the Great Fire Department and the...   \n",
       "2            False  There are some AMAZINGLY hilarious Nike Ad mem...   \n",
       "\n",
       "  tweet_geo      ...       user_profile_text_color  \\\n",
       "0       NaN      ...                        333333   \n",
       "1       NaN      ...                        333333   \n",
       "2       NaN      ...                        050505   \n",
       "\n",
       "   user_profile_use_background_image user_protected  user_screen_name  \\\n",
       "0                               True          False     UltraYOUwoman   \n",
       "1                               True          False         yungcutup   \n",
       "2                               True          False       rachelbogle   \n",
       "\n",
       "   user_statuses_count  user_time_zone  user_translator_type  \\\n",
       "0              91870.0             NaN                  none   \n",
       "1             618822.0             NaN                  none   \n",
       "2              48075.0             NaN                  none   \n",
       "\n",
       "                  user_url user_utc_offset user_verified  \n",
       "0  https://t.co/jGlJswxjwS             NaN         False  \n",
       "1   http://t.co/lVm8vfDbfO             NaN         False  \n",
       "2  https://t.co/g9exqgZp9x             NaN          True  \n",
       "\n",
       "[3 rows x 72 columns]"
      ]
     },
     "execution_count": 2,
     "metadata": {},
     "output_type": "execute_result"
    }
   ],
   "source": [
    "data = pd.read_csv('justdoit_tweets_2018_09_07_2.csv')\n",
    "data.head(3)"
   ]
  },
  {
   "cell_type": "markdown",
   "metadata": {},
   "source": [
    "column names"
   ]
  },
  {
   "cell_type": "code",
   "execution_count": 3,
   "metadata": {},
   "outputs": [
    {
     "data": {
      "text/plain": [
       "Index(['tweet_contributors', 'tweet_coordinates', 'tweet_created_at',\n",
       "       'tweet_display_text_range', 'tweet_entities', 'tweet_extended_entities',\n",
       "       'tweet_favorite_count', 'tweet_favorited', 'tweet_full_text',\n",
       "       'tweet_geo', 'tweet_id', 'tweet_id_str',\n",
       "       'tweet_in_reply_to_screen_name', 'tweet_in_reply_to_status_id',\n",
       "       'tweet_in_reply_to_status_id_str', 'tweet_in_reply_to_user_id',\n",
       "       'tweet_in_reply_to_user_id_str', 'tweet_is_quote_status', 'tweet_lang',\n",
       "       'tweet_metadata', 'tweet_place', 'tweet_possibly_sensitive',\n",
       "       'tweet_quoted_status', 'tweet_quoted_status_id',\n",
       "       'tweet_quoted_status_id_str', 'tweet_retweet_count', 'tweet_retweeted',\n",
       "       'tweet_source', 'tweet_truncated', 'tweet_user',\n",
       "       'user_contributors_enabled', 'user_created_at', 'user_default_profile',\n",
       "       'user_default_profile_image', 'user_description', 'user_entities',\n",
       "       'user_favourites_count', 'user_follow_request_sent',\n",
       "       'user_followers_count', 'user_following', 'user_friends_count',\n",
       "       'user_geo_enabled', 'user_has_extended_profile', 'user_id',\n",
       "       'user_id_str', 'user_is_translation_enabled', 'user_is_translator',\n",
       "       'user_lang', 'user_listed_count', 'user_location', 'user_name',\n",
       "       'user_notifications', 'user_profile_background_color',\n",
       "       'user_profile_background_image_url',\n",
       "       'user_profile_background_image_url_https',\n",
       "       'user_profile_background_tile', 'user_profile_banner_url',\n",
       "       'user_profile_image_url', 'user_profile_image_url_https',\n",
       "       'user_profile_link_color', 'user_profile_sidebar_border_color',\n",
       "       'user_profile_sidebar_fill_color', 'user_profile_text_color',\n",
       "       'user_profile_use_background_image', 'user_protected',\n",
       "       'user_screen_name', 'user_statuses_count', 'user_time_zone',\n",
       "       'user_translator_type', 'user_url', 'user_utc_offset', 'user_verified'],\n",
       "      dtype='object')"
      ]
     },
     "execution_count": 3,
     "metadata": {},
     "output_type": "execute_result"
    }
   ],
   "source": [
    "data.columns"
   ]
  },
  {
   "cell_type": "markdown",
   "metadata": {},
   "source": [
    "## Data Processing & Exporatory"
   ]
  },
  {
   "cell_type": "code",
   "execution_count": 12,
   "metadata": {},
   "outputs": [
    {
     "data": {
      "text/plain": [
       "<seaborn.axisgrid.FacetGrid at 0x7f613c229f60>"
      ]
     },
     "execution_count": 12,
     "metadata": {},
     "output_type": "execute_result"
    },
    {
     "data": {
      "image/png": "[encoded data removed]",
      "text/plain": [
       "<matplotlib.figure.Figure at 0x7f613c229c88>"
      ]
     },
     "metadata": {},
     "output_type": "display_data"
    }
   ],
   "source": [
    "sns.lmplot(x='user_friends_count', y='user_statuses_count', data = data)"
   ]
  },
  {
   "cell_type": "markdown",
   "metadata": {},
   "source": [
    "### Distribution of Tweet length"
   ]
  },
  {
   "cell_type": "code",
   "execution_count": 13,
   "metadata": {},
   "outputs": [
    {
     "data": {
      "image/png": "[encoded data removed]",
      "text/plain": [
       "<matplotlib.figure.Figure at 0x7f617858b898>"
      ]
     },
     "metadata": {},
     "output_type": "display_data"
    }
   ],
   "source": [
    "tweet_len = []\n",
    "\n",
    "for k in data['tweet_full_text']:\n",
    "    if isinstance(k,str):\n",
    "        tweet_len.append(len(k))\n",
    "\n",
    "sns.set()\n",
    "fig_dims = (11.7,8.27)\n",
    "fig,ax = plt.subplots(figsize=fig_dims)\n",
    "sns.kdeplot(tweet_len,shade=True)\n",
    "plt.title(\"Distribution of Tweet length\")\n",
    "plt.xlabel(\"No. of characters\")\n",
    "plt.ylim(0,None)\n",
    "plt.xlim(0,None)\n",
    "sns.despine()"
   ]
  },
  {
   "cell_type": "markdown",
   "metadata": {},
   "source": [
    "In the plot above, the tweet distribution of the characters is around 150 characters. This was after Twitters extentions on the previous limitation of 150 characters."
   ]
  },
  {
   "cell_type": "code",
   "execution_count": 7,
   "metadata": {},
   "outputs": [
    {
     "data": {
      "text/plain": [
       "\"{'media': [{'id': 1038100853872197632, 'id_str': '1038100853872197632', 'indices': [76, 99], 'media_url': 'http://pbs.twimg.com/media/DmgTOfwVAAAJqoh.jpg', 'media_url_https': 'https://pbs.twimg.com/media/DmgTOfwVAAAJqoh.jpg', 'url': 'https://t.co/J9lLdszdW6', 'display_url': 'pic.twitter.com/J9lLdszdW6', 'expanded_url': 'https://twitter.com/UltraYOUwoman/status/1038100857932394496/photo/1', 'type': 'photo', 'sizes': {'thumb': {'w': 150, 'h': 150, 'resize': 'crop'}, 'small': {'w': 612, 'h': 612, 'resize': 'fit'}, 'large': {'w': 612, 'h': 612, 'resize': 'fit'}, 'medium': {'w': 612, 'h': 612, 'resize': 'fit'}}}]}\""
      ]
     },
     "execution_count": 7,
     "metadata": {},
     "output_type": "execute_result"
    }
   ],
   "source": [
    "data.tweet_extended_entities[0]"
   ]
  },
  {
   "cell_type": "code",
   "execution_count": 13,
   "metadata": {},
   "outputs": [
    {
     "data": {
      "text/plain": [
       "'Shout out to the Great Fire Department and the tour! 👨\\u200d🚒👨\\u200d🚒 Much love to NYC! 💯🎥🔥✊🏿\\n•\\n•\\n•\\n#hero #fdny #likesforlikes #promo #music #instagood #instadaily #postoftheday #bestoftheday #justdoit #nike #picoftheday... https://t.co/sFobQ2ukpo'"
      ]
     },
     "execution_count": 13,
     "metadata": {},
     "output_type": "execute_result"
    }
   ],
   "source": [
    "data.tweet_full_text[1]"
   ]
  },
  {
   "cell_type": "code",
   "execution_count": 15,
   "metadata": {},
   "outputs": [],
   "source": [
    "test_text = data.tweet_full_text[:20]"
   ]
  },
  {
   "cell_type": "markdown",
   "metadata": {},
   "source": [
    "Text preprocessing"
   ]
  },
  {
   "cell_type": "code",
   "execution_count": 17,
   "metadata": {},
   "outputs": [],
   "source": [
    "import re\n",
    "\n",
    "def preprocess_post(post):\n",
    "    post = ''.join(c for c in post if not c.isdigit())\n",
    "    post = post.lower()\n",
    "    post = re.sub('\\n', ' ', post)\n",
    "    post = re.sub(r'[^\\w\\s]','',post)\n",
    "    \n",
    "    \n",
    "    return post"
   ]
  },
  {
   "cell_type": "code",
   "execution_count": 22,
   "metadata": {},
   "outputs": [],
   "source": [
    "txt = data.tweet_full_text[:20].map(lambda x: preprocess_post(x))"
   ]
  },
  {
   "cell_type": "code",
   "execution_count": 26,
   "metadata": {},
   "outputs": [
    {
     "data": {
      "text/plain": [
       "0     done is better than perfect  sheryl sandberg q...\n",
       "1     shout out to the great fire department and the...\n",
       "2     there are some amazingly hilarious nike ad mem...\n",
       "3     kapernickeffect swoosh justdoit  lucas bishops...\n",
       "4     one hand one dream the shaquem griffin story  ...\n",
       "5     realdonaldtrump its time for me to stock up on...\n",
       "6     why wont trump protect our elections  think it...\n",
       "7     nike good job on shaking the whole world i see...\n",
       "8     great way to meet good peoplewearing your nike...\n",
       "9     leadtrade and succeed with icm please retweet ...\n",
       "10         my favorites so far justdoit httpstcozyvdaqx\n",
       "11    colin kaepernicks business partner nike sends ...\n",
       "12    cspensions why be a cat when you can be a lion...\n",
       "13    realdonaldtrump they were thinking history wil...\n",
       "14    repadamschiff go ahead repadamschiff   justdoi...\n",
       "15    why be a cat when you can be a lion justdoit h...\n",
       "16    socialism be like me and justdoit because ya k...\n",
       "17    hey nike i stood for our country i served my n...\n",
       "18    ive seen a lot of memes re justdoit but this p...\n",
       "19    abortion stops a beating heart just imagine al...\n",
       "Name: tweet_full_text, dtype: object"
      ]
     },
     "execution_count": 26,
     "metadata": {},
     "output_type": "execute_result"
    }
   ],
   "source": [
    "txt"
   ]
  },
  {
   "cell_type": "code",
   "execution_count": 27,
   "metadata": {},
   "outputs": [
    {
     "data": {
      "text/plain": [
       "'abortion stops a beating heart just imagine all the lives we can save if we get kavanaugh on the court democrats should be eager to confirm him for the sake of our children justdoit'"
      ]
     },
     "execution_count": 27,
     "metadata": {},
     "output_type": "execute_result"
    }
   ],
   "source": [
    "txt[19]"
   ]
  }
 ],
 "metadata": {
  "kernelspec": {
   "display_name": "Python 3",
   "language": "python",
   "name": "python3"
  },
  "language_info": {
   "codemirror_mode": {
    "name": "ipython",
    "version": 3
   },
   "file_extension": ".py",
   "mimetype": "text/x-python",
   "name": "python",
   "nbconvert_exporter": "python",
   "pygments_lexer": "ipython3",
   "version": "3.6.4"
  }
 },
 "nbformat": 4,
 "nbformat_minor": 2
}
