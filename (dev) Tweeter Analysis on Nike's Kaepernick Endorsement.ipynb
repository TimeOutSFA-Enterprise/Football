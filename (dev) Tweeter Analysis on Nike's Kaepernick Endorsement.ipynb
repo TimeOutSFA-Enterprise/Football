{
 "cells": [
  {
   "cell_type": "markdown",
   "metadata": {},
   "source": [
    "# Analysis on Colin Kaepernick and the Nike Backlash\n",
    "\n",
    "As part of the [Kaggle: 5,000 #JustDoIt! Tweets Dataset](https://www.kaggle.com/eliasdabbas/5000-justdoit-tweets-dataset), we will see to perform analysis on the tweets responding to Nike's campaign endoresement for Colin Kaepernick. For those un aware, at the beginning of the NFL 2018-2019 season, Nike made an endorement deal with Colin Kaepernick that sparked a wide spread backlash and support. Last season, Colin Kaepernick and other NFL players began showing protest during the NFL national anthem due to an all to common occurance of police brutality, racial inequality among other issues. \n",
    "\n",
    "We will be performing analysis on the various topic trends from Twitter to determine and depection of the various fans recations both in support and urging a boycott of some of Nike's apparals. \n",
    "\n",
    "\n",
    "![](https://d3i6fh83elv35t.cloudfront.net/static/2018/09/colin-kaepernick-nike-1024x575.jpeg)"
   ]
  },
  {
   "cell_type": "code",
   "execution_count": 1,
   "metadata": {},
   "outputs": [],
   "source": [
    "import pandas as pd\n",
    "import html\n",
    "\n",
    "# Data Visualization\n",
    "import seaborn as sns\n",
    "sns.set(style=\"darkgrid\")\n",
    "import matplotlib.pyplot as plt \n",
    "%matplotlib inline\n",
    "from matplotlib import style"
   ]
  },
  {
   "cell_type": "code",
   "execution_count": 2,
   "metadata": {},
   "outputs": [
    {
     "data": {
      "text/html": [
       "<div>\n",
       "<style>\n",
       "    .dataframe thead tr:only-child th {\n",
       "        text-align: right;\n",
       "    }\n",
       "\n",
       "    .dataframe thead th {\n",
       "        text-align: left;\n",
       "    }\n",
       "\n",
       "    .dataframe tbody tr th {\n",
       "        vertical-align: top;\n",
       "    }\n",
       "</style>\n",
       "<table border=\"1\" class=\"dataframe\">\n",
       "  <thead>\n",
       "    <tr style=\"text-align: right;\">\n",
       "      <th></th>\n",
       "      <th>tweet_contributors</th>\n",
       "      <th>tweet_coordinates</th>\n",
       "      <th>tweet_created_at</th>\n",
       "      <th>tweet_display_text_range</th>\n",
       "      <th>tweet_entities</th>\n",
       "      <th>tweet_extended_entities</th>\n",
       "      <th>tweet_favorite_count</th>\n",
       "      <th>tweet_favorited</th>\n",
       "      <th>tweet_full_text</th>\n",
       "      <th>tweet_geo</th>\n",
       "      <th>...</th>\n",
       "      <th>user_profile_text_color</th>\n",
       "      <th>user_profile_use_background_image</th>\n",
       "      <th>user_protected</th>\n",
       "      <th>user_screen_name</th>\n",
       "      <th>user_statuses_count</th>\n",
       "      <th>user_time_zone</th>\n",
       "      <th>user_translator_type</th>\n",
       "      <th>user_url</th>\n",
       "      <th>user_utc_offset</th>\n",
       "      <th>user_verified</th>\n",
       "    </tr>\n",
       "  </thead>\n",
       "  <tbody>\n",
       "    <tr>\n",
       "      <th>0</th>\n",
       "      <td>NaN</td>\n",
       "      <td>NaN</td>\n",
       "      <td>Fri Sep 07 16:25:06 +0000 2018</td>\n",
       "      <td>[0, 75]</td>\n",
       "      <td>{'hashtags': [{'text': 'quote', 'indices': [47...</td>\n",
       "      <td>{'media': [{'id': 1038100853872197632, 'id_str...</td>\n",
       "      <td>0</td>\n",
       "      <td>False</td>\n",
       "      <td>Done is better than perfect. — Sheryl Sandberg...</td>\n",
       "      <td>NaN</td>\n",
       "      <td>...</td>\n",
       "      <td>333333</td>\n",
       "      <td>True</td>\n",
       "      <td>False</td>\n",
       "      <td>UltraYOUwoman</td>\n",
       "      <td>91870.0</td>\n",
       "      <td>NaN</td>\n",
       "      <td>none</td>\n",
       "      <td>https://t.co/jGlJswxjwS</td>\n",
       "      <td>NaN</td>\n",
       "      <td>False</td>\n",
       "    </tr>\n",
       "    <tr>\n",
       "      <th>1</th>\n",
       "      <td>NaN</td>\n",
       "      <td>NaN</td>\n",
       "      <td>Fri Sep 07 16:24:59 +0000 2018</td>\n",
       "      <td>[0, 237]</td>\n",
       "      <td>{'hashtags': [{'text': 'hero', 'indices': [90,...</td>\n",
       "      <td>NaN</td>\n",
       "      <td>0</td>\n",
       "      <td>False</td>\n",
       "      <td>Shout out to the Great Fire Department and the...</td>\n",
       "      <td>NaN</td>\n",
       "      <td>...</td>\n",
       "      <td>333333</td>\n",
       "      <td>True</td>\n",
       "      <td>False</td>\n",
       "      <td>yungcutup</td>\n",
       "      <td>618822.0</td>\n",
       "      <td>NaN</td>\n",
       "      <td>none</td>\n",
       "      <td>http://t.co/lVm8vfDbfO</td>\n",
       "      <td>NaN</td>\n",
       "      <td>False</td>\n",
       "    </tr>\n",
       "    <tr>\n",
       "      <th>2</th>\n",
       "      <td>NaN</td>\n",
       "      <td>NaN</td>\n",
       "      <td>Fri Sep 07 16:24:50 +0000 2018</td>\n",
       "      <td>[0, 176]</td>\n",
       "      <td>{'hashtags': [{'text': 'JustDoIt', 'indices': ...</td>\n",
       "      <td>{'media': [{'id': 1038100773396041728, 'id_str...</td>\n",
       "      <td>0</td>\n",
       "      <td>False</td>\n",
       "      <td>There are some AMAZINGLY hilarious Nike Ad mem...</td>\n",
       "      <td>NaN</td>\n",
       "      <td>...</td>\n",
       "      <td>050505</td>\n",
       "      <td>True</td>\n",
       "      <td>False</td>\n",
       "      <td>rachelbogle</td>\n",
       "      <td>48075.0</td>\n",
       "      <td>NaN</td>\n",
       "      <td>none</td>\n",
       "      <td>https://t.co/g9exqgZp9x</td>\n",
       "      <td>NaN</td>\n",
       "      <td>True</td>\n",
       "    </tr>\n",
       "  </tbody>\n",
       "</table>\n",
       "<p>3 rows × 72 columns</p>\n",
       "</div>"
      ],
      "text/plain": [
       "   tweet_contributors tweet_coordinates                tweet_created_at  \\\n",
       "0                 NaN               NaN  Fri Sep 07 16:25:06 +0000 2018   \n",
       "1                 NaN               NaN  Fri Sep 07 16:24:59 +0000 2018   \n",
       "2                 NaN               NaN  Fri Sep 07 16:24:50 +0000 2018   \n",
       "\n",
       "  tweet_display_text_range                                     tweet_entities  \\\n",
       "0                  [0, 75]  {'hashtags': [{'text': 'quote', 'indices': [47...   \n",
       "1                 [0, 237]  {'hashtags': [{'text': 'hero', 'indices': [90,...   \n",
       "2                 [0, 176]  {'hashtags': [{'text': 'JustDoIt', 'indices': ...   \n",
       "\n",
       "                             tweet_extended_entities  tweet_favorite_count  \\\n",
       "0  {'media': [{'id': 1038100853872197632, 'id_str...                     0   \n",
       "1                                                NaN                     0   \n",
       "2  {'media': [{'id': 1038100773396041728, 'id_str...                     0   \n",
       "\n",
       "   tweet_favorited                                    tweet_full_text  \\\n",
       "0            False  Done is better than perfect. — Sheryl Sandberg...   \n",
       "1            False  Shout out to the Great Fire Department and the...   \n",
       "2            False  There are some AMAZINGLY hilarious Nike Ad mem...   \n",
       "\n",
       "  tweet_geo      ...       user_profile_text_color  \\\n",
       "0       NaN      ...                        333333   \n",
       "1       NaN      ...                        333333   \n",
       "2       NaN      ...                        050505   \n",
       "\n",
       "   user_profile_use_background_image user_protected  user_screen_name  \\\n",
       "0                               True          False     UltraYOUwoman   \n",
       "1                               True          False         yungcutup   \n",
       "2                               True          False       rachelbogle   \n",
       "\n",
       "   user_statuses_count  user_time_zone  user_translator_type  \\\n",
       "0              91870.0             NaN                  none   \n",
       "1             618822.0             NaN                  none   \n",
       "2              48075.0             NaN                  none   \n",
       "\n",
       "                  user_url user_utc_offset user_verified  \n",
       "0  https://t.co/jGlJswxjwS             NaN         False  \n",
       "1   http://t.co/lVm8vfDbfO             NaN         False  \n",
       "2  https://t.co/g9exqgZp9x             NaN          True  \n",
       "\n",
       "[3 rows x 72 columns]"
      ]
     },
     "execution_count": 2,
     "metadata": {},
     "output_type": "execute_result"
    }
   ],
   "source": [
    "data = pd.read_csv('justdoit_tweets_2018_09_07_2.csv')\n",
    "data.head(3)"
   ]
  },
  {
   "cell_type": "markdown",
   "metadata": {},
   "source": [
    "column names"
   ]
  },
  {
   "cell_type": "code",
   "execution_count": 3,
   "metadata": {},
   "outputs": [
    {
     "data": {
      "text/plain": [
       "Index(['tweet_contributors', 'tweet_coordinates', 'tweet_created_at',\n",
       "       'tweet_display_text_range', 'tweet_entities', 'tweet_extended_entities',\n",
       "       'tweet_favorite_count', 'tweet_favorited', 'tweet_full_text',\n",
       "       'tweet_geo', 'tweet_id', 'tweet_id_str',\n",
       "       'tweet_in_reply_to_screen_name', 'tweet_in_reply_to_status_id',\n",
       "       'tweet_in_reply_to_status_id_str', 'tweet_in_reply_to_user_id',\n",
       "       'tweet_in_reply_to_user_id_str', 'tweet_is_quote_status', 'tweet_lang',\n",
       "       'tweet_metadata', 'tweet_place', 'tweet_possibly_sensitive',\n",
       "       'tweet_quoted_status', 'tweet_quoted_status_id',\n",
       "       'tweet_quoted_status_id_str', 'tweet_retweet_count', 'tweet_retweeted',\n",
       "       'tweet_source', 'tweet_truncated', 'tweet_user',\n",
       "       'user_contributors_enabled', 'user_created_at', 'user_default_profile',\n",
       "       'user_default_profile_image', 'user_description', 'user_entities',\n",
       "       'user_favourites_count', 'user_follow_request_sent',\n",
       "       'user_followers_count', 'user_following', 'user_friends_count',\n",
       "       'user_geo_enabled', 'user_has_extended_profile', 'user_id',\n",
       "       'user_id_str', 'user_is_translation_enabled', 'user_is_translator',\n",
       "       'user_lang', 'user_listed_count', 'user_location', 'user_name',\n",
       "       'user_notifications', 'user_profile_background_color',\n",
       "       'user_profile_background_image_url',\n",
       "       'user_profile_background_image_url_https',\n",
       "       'user_profile_background_tile', 'user_profile_banner_url',\n",
       "       'user_profile_image_url', 'user_profile_image_url_https',\n",
       "       'user_profile_link_color', 'user_profile_sidebar_border_color',\n",
       "       'user_profile_sidebar_fill_color', 'user_profile_text_color',\n",
       "       'user_profile_use_background_image', 'user_protected',\n",
       "       'user_screen_name', 'user_statuses_count', 'user_time_zone',\n",
       "       'user_translator_type', 'user_url', 'user_utc_offset', 'user_verified'],\n",
       "      dtype='object')"
      ]
     },
     "execution_count": 3,
     "metadata": {},
     "output_type": "execute_result"
    }
   ],
   "source": [
    "data.columns"
   ]
  },
  {
   "cell_type": "markdown",
   "metadata": {},
   "source": [
    "## Data Processing & Exporatory"
   ]
  },
  {
   "cell_type": "code",
   "execution_count": 4,
   "metadata": {},
   "outputs": [
    {
     "data": {
      "text/plain": [
       "<seaborn.axisgrid.FacetGrid at 0x7fe0d33edb00>"
      ]
     },
     "execution_count": 4,
     "metadata": {},
     "output_type": "execute_result"
    },
    {
     "data": {
      "image/png": "[encoded data removed]",
      "text/plain": [
       "<matplotlib.figure.Figure at 0x7fe0d33ed9e8>"
      ]
     },
     "metadata": {},
     "output_type": "display_data"
    }
   ],
   "source": [
    "sns.lmplot(x='user_friends_count', y='user_statuses_count', data = data)"
   ]
  },
  {
   "cell_type": "markdown",
   "metadata": {},
   "source": [
    "### Text Cleaning\n",
    "For the text cleaning we will look to remove some unuseful textual data that does not assist our analysis, including:\n",
    "1. "
   ]
  },
  {
   "cell_type": "code",
   "execution_count": 17,
   "metadata": {},
   "outputs": [],
   "source": [
    "import re\n",
    "\n",
    "def preprocess_post(post):\n",
    "    post = str(post)\n",
    "    #post = html.unescape(post)\n",
    "    post = re.sub(r\"http.?://[^\\s]+[\\s]?\", '',post)\n",
    "    post = ''.join(c for c in post if not c.isdigit())\n",
    "    post = post.lower()\n",
    "    post = re.sub('\\n', ' ', post)\n",
    "    post = re.sub(r'[^\\w\\s]','',post)\n",
    "    \n",
    "    \n",
    "    return post"
   ]
  },
  {
   "cell_type": "code",
   "execution_count": 21,
   "metadata": {},
   "outputs": [
    {
     "data": {
      "text/plain": [
       "'realdonaldtrump its time for me to stock up on some new running apparel nike it is justdoit'"
      ]
     },
     "execution_count": 21,
     "metadata": {},
     "output_type": "execute_result"
    }
   ],
   "source": [
    "tweets = pd.DataFrame(data.tweet_full_text[:40].map(lambda x: preprocess_post(x)))\n",
    "tweets.tweet_full_text[5]"
   ]
  },
  {
   "cell_type": "markdown",
   "metadata": {},
   "source": [
    "### Distribution of Tweet length"
   ]
  },
  {
   "cell_type": "code",
   "execution_count": 22,
   "metadata": {},
   "outputs": [
    {
     "data": {
      "image/png": "[encoded data removed]",
      "text/plain": [
       "<matplotlib.figure.Figure at 0x7fe0d31f28d0>"
      ]
     },
     "metadata": {},
     "output_type": "display_data"
    }
   ],
   "source": [
    "tweet_len = []\n",
    "\n",
    "#for k in data['tweet_full_text']:\n",
    "for k in tweets.tweet_full_text:\n",
    "    if isinstance(k,str):\n",
    "        tweet_len.append(len(k))\n",
    "\n",
    "sns.set()\n",
    "fig_dims = (11.7,8.27)\n",
    "fig,ax = plt.subplots(figsize=fig_dims)\n",
    "sns.kdeplot(tweet_len,shade=True)\n",
    "plt.title(\"Distribution of Tweet length\")\n",
    "plt.xlabel(\"No. of characters\")\n",
    "plt.ylim(0,None)\n",
    "plt.xlim(0,None)\n",
    "sns.despine()"
   ]
  },
  {
   "cell_type": "markdown",
   "metadata": {},
   "source": [
    "In the plot above, the tweet distribution of the characters is around 150 characters. This was after Twitters extentions on the previous limitation of 150 characters. the ones that reach past 200 is intresting... there are some twitte characters in almost reaching a thousand. "
   ]
  },
  {
   "cell_type": "code",
   "execution_count": 5,
   "metadata": {},
   "outputs": [
    {
     "data": {
      "text/plain": [
       "\"{'media': [{'id': 1038100853872197632, 'id_str': '1038100853872197632', 'indices': [76, 99], 'media_url': 'http://pbs.twimg.com/media/DmgTOfwVAAAJqoh.jpg', 'media_url_https': 'https://pbs.twimg.com/media/DmgTOfwVAAAJqoh.jpg', 'url': 'https://t.co/J9lLdszdW6', 'display_url': 'pic.twitter.com/J9lLdszdW6', 'expanded_url': 'https://twitter.com/UltraYOUwoman/status/1038100857932394496/photo/1', 'type': 'photo', 'sizes': {'thumb': {'w': 150, 'h': 150, 'resize': 'crop'}, 'small': {'w': 612, 'h': 612, 'resize': 'fit'}, 'large': {'w': 612, 'h': 612, 'resize': 'fit'}, 'medium': {'w': 612, 'h': 612, 'resize': 'fit'}}}]}\""
      ]
     },
     "execution_count": 5,
     "metadata": {},
     "output_type": "execute_result"
    }
   ],
   "source": [
    "data.tweet_extended_entities[0]"
   ]
  },
  {
   "cell_type": "code",
   "execution_count": 6,
   "metadata": {},
   "outputs": [
    {
     "data": {
      "text/plain": [
       "'Shout out to the Great Fire Department and the tour! 👨\\u200d🚒👨\\u200d🚒 Much love to NYC! 💯🎥🔥✊🏿\\n•\\n•\\n•\\n#hero #fdny #likesforlikes #promo #music #instagood #instadaily #postoftheday #bestoftheday #justdoit #nike #picoftheday... https://t.co/sFobQ2ukpo'"
      ]
     },
     "execution_count": 6,
     "metadata": {},
     "output_type": "execute_result"
    }
   ],
   "source": [
    "data.tweet_full_text[1]"
   ]
  },
  {
   "cell_type": "code",
   "execution_count": 7,
   "metadata": {},
   "outputs": [],
   "source": [
    "test_text = data.tweet_full_text[:20]"
   ]
  },
  {
   "cell_type": "markdown",
   "metadata": {},
   "source": [
    "### Sentiment Analysis\n",
    "One of the ways to perform to understand the _'tone'_ of the text of the tweet is to analyse the specific word usage and the sentiment associated with those words. With sentiment analysis we are able to measure the tone and gauge the positivity or negativity of the tweet. For right now we will just return the sentiment results as: 0 for neural, 1 positive, -1 and negative."
   ]
  },
  {
   "cell_type": "code",
   "execution_count": 41,
   "metadata": {},
   "outputs": [],
   "source": [
    "from textblob import TextBlob\n",
    "\n",
    "def get_sentiment(tweet):\n",
    "    analysis = TextBlob(tweet)\n",
    "    if analysis.sentiment.polarity > 0:\n",
    "        return 1\n",
    "    elif analysis.sentiment.polarity == 0:\n",
    "        return 0\n",
    "    else:\n",
    "        return -1"
   ]
  },
  {
   "cell_type": "code",
   "execution_count": 42,
   "metadata": {},
   "outputs": [
    {
     "data": {
      "text/plain": [
       "<matplotlib.axes._subplots.AxesSubplot at 0x7f95cd960588>"
      ]
     },
     "execution_count": 42,
     "metadata": {},
     "output_type": "execute_result"
    },
    {
     "data": {
      "image/png": "[encoded data removed]",
      "text/plain": [
       "<matplotlib.figure.Figure at 0x7f95cd9664e0>"
      ]
     },
     "metadata": {},
     "output_type": "display_data"
    }
   ],
   "source": [
    "tweets['sentiment'] = [get_sentiment(text) for text in tweets.tweet_full_text]\n",
    "\n",
    "# plot the sentiments\n",
    "f, ax = plt.subplots(figsize = (10, 3))\n",
    "sns.countplot(y='sentiment', data=tweets, color='c')"
   ]
  },
  {
   "cell_type": "markdown",
   "metadata": {},
   "source": [
    "Viewing the bar graph above we can initially see that the graph is a leftward skewed graph indicating that the majority of the senitments are either neural or positive but a substaintal amount. "
   ]
  },
  {
   "cell_type": "markdown",
   "metadata": {},
   "source": [
    "### Text Analysis"
   ]
  },
  {
   "cell_type": "code",
   "execution_count": 74,
   "metadata": {},
   "outputs": [
    {
     "name": "stdout",
     "output_type": "stream",
     "text": [
      "['done', 'better', 'perfect', 'sheryl', 'sandberg', 'quote', 'motivation', 'justdoit', 'httpstcojlldszdw', 'shout', 'great', 'fire', 'department', 'tour', 'much', 'love', 'nyc', 'hero', 'fdny', 'likesforlikes']\n"
     ]
    }
   ],
   "source": [
    "# twitter mining inspiration: https://github.com/mobu/TwitterMiner/blob/master/Analyze.ipynb\n",
    "import nltk\n",
    "from nltk.tokenize import word_tokenize\n",
    "from nltk.corpus import stopwords\n",
    "import string\n",
    "from collections import Counter\n",
    "\n",
    "tokens = []\n",
    "for key,value in tweets.tweet_full_text.iteritems():\n",
    "    tokens.append(word_tokenize(value))\n",
    "\n",
    "lower_case = []\n",
    "for k in tokens:\n",
    "    for j in k:\n",
    "        lower_case.append(j.lower())\n",
    "        \n",
    "table = str.maketrans('','',string.punctuation)\n",
    "stripped = [w.translate(table) for w in lower_case]\n",
    "words = [word for word in stripped if word.isalpha()]\n",
    "\n",
    "stop_words = set(stopwords.words('english'))\n",
    "words = [w for w in words if not w in stop_words]\n",
    "word_counts = Counter(words)\n",
    "\n",
    "# print first 20\n",
    "print(words[:20])"
   ]
  },
  {
   "cell_type": "markdown",
   "metadata": {},
   "source": [
    "So now that we have a bag of words for all of the tweets, lets try to make a visualization to see if there are any trends or meaningful information that can help us understand the underlying values or potential common areas of concern people are communicating. Therefore, it seems that we should look at the most common words. Intitially the top most common words are probably #justdoit #nike and something about colin kaepernick since these are obviously the main subject of this analysis."
   ]
  },
  {
   "cell_type": "code",
   "execution_count": 72,
   "metadata": {
    "scrolled": true
   },
   "outputs": [
    {
     "data": {
      "text/html": [
       "<div>\n",
       "<style>\n",
       "    .dataframe thead tr:only-child th {\n",
       "        text-align: right;\n",
       "    }\n",
       "\n",
       "    .dataframe thead th {\n",
       "        text-align: left;\n",
       "    }\n",
       "\n",
       "    .dataframe tbody tr th {\n",
       "        vertical-align: top;\n",
       "    }\n",
       "</style>\n",
       "<table border=\"1\" class=\"dataframe\">\n",
       "  <thead>\n",
       "    <tr style=\"text-align: right;\">\n",
       "      <th></th>\n",
       "      <th>word</th>\n",
       "      <th>count</th>\n",
       "    </tr>\n",
       "  </thead>\n",
       "  <tbody>\n",
       "    <tr>\n",
       "      <th>0</th>\n",
       "      <td>justdoit</td>\n",
       "      <td>5092</td>\n",
       "    </tr>\n",
       "    <tr>\n",
       "      <th>1</th>\n",
       "      <td>nike</td>\n",
       "      <td>2743</td>\n",
       "    </tr>\n",
       "    <tr>\n",
       "      <th>2</th>\n",
       "      <td>kaepernick</td>\n",
       "      <td>842</td>\n",
       "    </tr>\n",
       "    <tr>\n",
       "      <th>3</th>\n",
       "      <td>realdonaldtrump</td>\n",
       "      <td>408</td>\n",
       "    </tr>\n",
       "    <tr>\n",
       "      <th>4</th>\n",
       "      <td>dont</td>\n",
       "      <td>394</td>\n",
       "    </tr>\n",
       "    <tr>\n",
       "      <th>5</th>\n",
       "      <td>crazy</td>\n",
       "      <td>327</td>\n",
       "    </tr>\n",
       "    <tr>\n",
       "      <th>6</th>\n",
       "      <td>believe</td>\n",
       "      <td>310</td>\n",
       "    </tr>\n",
       "    <tr>\n",
       "      <th>7</th>\n",
       "      <td>commercial</td>\n",
       "      <td>295</td>\n",
       "    </tr>\n",
       "    <tr>\n",
       "      <th>8</th>\n",
       "      <td>even</td>\n",
       "      <td>288</td>\n",
       "    </tr>\n",
       "    <tr>\n",
       "      <th>9</th>\n",
       "      <td>like</td>\n",
       "      <td>268</td>\n",
       "    </tr>\n",
       "    <tr>\n",
       "      <th>10</th>\n",
       "      <td>nfl</td>\n",
       "      <td>257</td>\n",
       "    </tr>\n",
       "    <tr>\n",
       "      <th>11</th>\n",
       "      <td>something</td>\n",
       "      <td>257</td>\n",
       "    </tr>\n",
       "    <tr>\n",
       "      <th>12</th>\n",
       "      <td>one</td>\n",
       "      <td>246</td>\n",
       "    </tr>\n",
       "    <tr>\n",
       "      <th>13</th>\n",
       "      <td>ad</td>\n",
       "      <td>242</td>\n",
       "    </tr>\n",
       "    <tr>\n",
       "      <th>14</th>\n",
       "      <td>new</td>\n",
       "      <td>240</td>\n",
       "    </tr>\n",
       "    <tr>\n",
       "      <th>15</th>\n",
       "      <td>im</td>\n",
       "      <td>232</td>\n",
       "    </tr>\n",
       "    <tr>\n",
       "      <th>16</th>\n",
       "      <td>people</td>\n",
       "      <td>223</td>\n",
       "    </tr>\n",
       "    <tr>\n",
       "      <th>17</th>\n",
       "      <td>love</td>\n",
       "      <td>222</td>\n",
       "    </tr>\n",
       "    <tr>\n",
       "      <th>18</th>\n",
       "      <td>colinkaepernick</td>\n",
       "      <td>210</td>\n",
       "    </tr>\n",
       "    <tr>\n",
       "      <th>19</th>\n",
       "      <td>get</td>\n",
       "      <td>207</td>\n",
       "    </tr>\n",
       "  </tbody>\n",
       "</table>\n",
       "</div>"
      ],
      "text/plain": [
       "               word  count\n",
       "0          justdoit   5092\n",
       "1              nike   2743\n",
       "2        kaepernick    842\n",
       "3   realdonaldtrump    408\n",
       "4              dont    394\n",
       "5             crazy    327\n",
       "6           believe    310\n",
       "7        commercial    295\n",
       "8              even    288\n",
       "9              like    268\n",
       "10              nfl    257\n",
       "11        something    257\n",
       "12              one    246\n",
       "13               ad    242\n",
       "14              new    240\n",
       "15               im    232\n",
       "16           people    223\n",
       "17             love    222\n",
       "18  colinkaepernick    210\n",
       "19              get    207"
      ]
     },
     "execution_count": 72,
     "metadata": {},
     "output_type": "execute_result"
    }
   ],
   "source": [
    "txt_count = pd.DataFrame(word_counts.most_common(20), columns=['word','count'])\n",
    "txt_count"
   ]
  },
  {
   "cell_type": "markdown",
   "metadata": {},
   "source": [
    "Interesting enough, our inital assumation about the subject areas were correct, however it is quite surprise and (but lets be honest...not really) the `realdonaldtrump` is the fourth common word in this tweet storm... and them `dont`."
   ]
  },
  {
   "cell_type": "code",
   "execution_count": 77,
   "metadata": {},
   "outputs": [
    {
     "data": {
      "image/png": "[encoded data removed]",
      "text/plain": [
       "<matplotlib.figure.Figure at 0x7f95cd952ac8>"
      ]
     },
     "metadata": {},
     "output_type": "display_data"
    }
   ],
   "source": [
    "fig = plt.figure(figsize=(15,8))\n",
    "ax = sns.barplot(x='word', y='count', data=txt_count)\n",
    "ax.set_xticklabels(labels=txt_count.word,rotation=40)\n",
    "plt.title(\"Frequency of Top 20 Most Common Words in the Nike's Kaepernick Endorsement\")\n",
    "plt.show()"
   ]
  },
  {
   "cell_type": "code",
   "execution_count": null,
   "metadata": {},
   "outputs": [],
   "source": []
  },
  {
   "cell_type": "markdown",
   "metadata": {},
   "source": [
    "## Additional Feature Engineering\n",
    "\n",
    "As one who spent a brief time in college on twitter, while we did take out special character usages for understanding the sentiments, the _twitter culture_ is all about using special character to further indicate a message such as ALL CAPS and hashtags. So lets time some time to develope acouple additional features to explore these aspects wuch as:\n",
    "\n",
    "    A. Exclamation marks to indicate further strength in tone in the initial sentiment score\n",
    "    B. Number of hashtags used (actually there is a "
   ]
  },
  {
   "cell_type": "code",
   "execution_count": 24,
   "metadata": {},
   "outputs": [
    {
     "data": {
      "text/html": [
       "<div>\n",
       "<style>\n",
       "    .dataframe thead tr:only-child th {\n",
       "        text-align: right;\n",
       "    }\n",
       "\n",
       "    .dataframe thead th {\n",
       "        text-align: left;\n",
       "    }\n",
       "\n",
       "    .dataframe tbody tr th {\n",
       "        vertical-align: top;\n",
       "    }\n",
       "</style>\n",
       "<table border=\"1\" class=\"dataframe\">\n",
       "  <thead>\n",
       "    <tr style=\"text-align: right;\">\n",
       "      <th></th>\n",
       "      <th>tweet_contributors</th>\n",
       "      <th>tweet_coordinates</th>\n",
       "      <th>tweet_created_at</th>\n",
       "      <th>tweet_display_text_range</th>\n",
       "      <th>tweet_entities</th>\n",
       "      <th>tweet_extended_entities</th>\n",
       "      <th>tweet_favorite_count</th>\n",
       "      <th>tweet_favorited</th>\n",
       "      <th>tweet_full_text</th>\n",
       "      <th>tweet_geo</th>\n",
       "      <th>...</th>\n",
       "      <th>user_profile_text_color</th>\n",
       "      <th>user_profile_use_background_image</th>\n",
       "      <th>user_protected</th>\n",
       "      <th>user_screen_name</th>\n",
       "      <th>user_statuses_count</th>\n",
       "      <th>user_time_zone</th>\n",
       "      <th>user_translator_type</th>\n",
       "      <th>user_url</th>\n",
       "      <th>user_utc_offset</th>\n",
       "      <th>user_verified</th>\n",
       "    </tr>\n",
       "  </thead>\n",
       "  <tbody>\n",
       "    <tr>\n",
       "      <th>0</th>\n",
       "      <td>NaN</td>\n",
       "      <td>NaN</td>\n",
       "      <td>Fri Sep 07 16:25:06 +0000 2018</td>\n",
       "      <td>[0, 75]</td>\n",
       "      <td>{'hashtags': [{'text': 'quote', 'indices': [47...</td>\n",
       "      <td>{'media': [{'id': 1038100853872197632, 'id_str...</td>\n",
       "      <td>0</td>\n",
       "      <td>False</td>\n",
       "      <td>Done is better than perfect. — Sheryl Sandberg...</td>\n",
       "      <td>NaN</td>\n",
       "      <td>...</td>\n",
       "      <td>333333</td>\n",
       "      <td>True</td>\n",
       "      <td>False</td>\n",
       "      <td>UltraYOUwoman</td>\n",
       "      <td>91870.0</td>\n",
       "      <td>NaN</td>\n",
       "      <td>none</td>\n",
       "      <td>https://t.co/jGlJswxjwS</td>\n",
       "      <td>NaN</td>\n",
       "      <td>False</td>\n",
       "    </tr>\n",
       "    <tr>\n",
       "      <th>1</th>\n",
       "      <td>NaN</td>\n",
       "      <td>NaN</td>\n",
       "      <td>Fri Sep 07 16:24:59 +0000 2018</td>\n",
       "      <td>[0, 237]</td>\n",
       "      <td>{'hashtags': [{'text': 'hero', 'indices': [90,...</td>\n",
       "      <td>NaN</td>\n",
       "      <td>0</td>\n",
       "      <td>False</td>\n",
       "      <td>Shout out to the Great Fire Department and the...</td>\n",
       "      <td>NaN</td>\n",
       "      <td>...</td>\n",
       "      <td>333333</td>\n",
       "      <td>True</td>\n",
       "      <td>False</td>\n",
       "      <td>yungcutup</td>\n",
       "      <td>618822.0</td>\n",
       "      <td>NaN</td>\n",
       "      <td>none</td>\n",
       "      <td>http://t.co/lVm8vfDbfO</td>\n",
       "      <td>NaN</td>\n",
       "      <td>False</td>\n",
       "    </tr>\n",
       "    <tr>\n",
       "      <th>2</th>\n",
       "      <td>NaN</td>\n",
       "      <td>NaN</td>\n",
       "      <td>Fri Sep 07 16:24:50 +0000 2018</td>\n",
       "      <td>[0, 176]</td>\n",
       "      <td>{'hashtags': [{'text': 'JustDoIt', 'indices': ...</td>\n",
       "      <td>{'media': [{'id': 1038100773396041728, 'id_str...</td>\n",
       "      <td>0</td>\n",
       "      <td>False</td>\n",
       "      <td>There are some AMAZINGLY hilarious Nike Ad mem...</td>\n",
       "      <td>NaN</td>\n",
       "      <td>...</td>\n",
       "      <td>050505</td>\n",
       "      <td>True</td>\n",
       "      <td>False</td>\n",
       "      <td>rachelbogle</td>\n",
       "      <td>48075.0</td>\n",
       "      <td>NaN</td>\n",
       "      <td>none</td>\n",
       "      <td>https://t.co/g9exqgZp9x</td>\n",
       "      <td>NaN</td>\n",
       "      <td>True</td>\n",
       "    </tr>\n",
       "    <tr>\n",
       "      <th>3</th>\n",
       "      <td>NaN</td>\n",
       "      <td>{'type': 'Point', 'coordinates': [-86.45594032...</td>\n",
       "      <td>Fri Sep 07 16:24:44 +0000 2018</td>\n",
       "      <td>[0, 88]</td>\n",
       "      <td>{'hashtags': [{'text': 'kapernickeffect', 'ind...</td>\n",
       "      <td>NaN</td>\n",
       "      <td>0</td>\n",
       "      <td>False</td>\n",
       "      <td>#kapernickeffect #swoosh #justdoit @ Lucas Bis...</td>\n",
       "      <td>{'type': 'Point', 'coordinates': [35.85402047,...</td>\n",
       "      <td>...</td>\n",
       "      <td>333333</td>\n",
       "      <td>True</td>\n",
       "      <td>False</td>\n",
       "      <td>ErvGotti609</td>\n",
       "      <td>1983.0</td>\n",
       "      <td>NaN</td>\n",
       "      <td>none</td>\n",
       "      <td>NaN</td>\n",
       "      <td>NaN</td>\n",
       "      <td>False</td>\n",
       "    </tr>\n",
       "    <tr>\n",
       "      <th>4</th>\n",
       "      <td>NaN</td>\n",
       "      <td>NaN</td>\n",
       "      <td>Fri Sep 07 16:24:39 +0000 2018</td>\n",
       "      <td>[0, 132]</td>\n",
       "      <td>{'hashtags': [{'text': 'shaquem', 'indices': [...</td>\n",
       "      <td>{'media': [{'id': 1038100736595255296, 'id_str...</td>\n",
       "      <td>0</td>\n",
       "      <td>False</td>\n",
       "      <td>One Hand, One Dream: The Shaquem Griffin Story...</td>\n",
       "      <td>NaN</td>\n",
       "      <td>...</td>\n",
       "      <td>1A1E1A</td>\n",
       "      <td>True</td>\n",
       "      <td>False</td>\n",
       "      <td>NoLuckNeeded</td>\n",
       "      <td>24989.0</td>\n",
       "      <td>NaN</td>\n",
       "      <td>none</td>\n",
       "      <td>http://t.co/MMGF9RfLz0</td>\n",
       "      <td>NaN</td>\n",
       "      <td>False</td>\n",
       "    </tr>\n",
       "  </tbody>\n",
       "</table>\n",
       "<p>5 rows × 72 columns</p>\n",
       "</div>"
      ],
      "text/plain": [
       "   tweet_contributors                                  tweet_coordinates  \\\n",
       "0                 NaN                                                NaN   \n",
       "1                 NaN                                                NaN   \n",
       "2                 NaN                                                NaN   \n",
       "3                 NaN  {'type': 'Point', 'coordinates': [-86.45594032...   \n",
       "4                 NaN                                                NaN   \n",
       "\n",
       "                 tweet_created_at tweet_display_text_range  \\\n",
       "0  Fri Sep 07 16:25:06 +0000 2018                  [0, 75]   \n",
       "1  Fri Sep 07 16:24:59 +0000 2018                 [0, 237]   \n",
       "2  Fri Sep 07 16:24:50 +0000 2018                 [0, 176]   \n",
       "3  Fri Sep 07 16:24:44 +0000 2018                  [0, 88]   \n",
       "4  Fri Sep 07 16:24:39 +0000 2018                 [0, 132]   \n",
       "\n",
       "                                      tweet_entities  \\\n",
       "0  {'hashtags': [{'text': 'quote', 'indices': [47...   \n",
       "1  {'hashtags': [{'text': 'hero', 'indices': [90,...   \n",
       "2  {'hashtags': [{'text': 'JustDoIt', 'indices': ...   \n",
       "3  {'hashtags': [{'text': 'kapernickeffect', 'ind...   \n",
       "4  {'hashtags': [{'text': 'shaquem', 'indices': [...   \n",
       "\n",
       "                             tweet_extended_entities  tweet_favorite_count  \\\n",
       "0  {'media': [{'id': 1038100853872197632, 'id_str...                     0   \n",
       "1                                                NaN                     0   \n",
       "2  {'media': [{'id': 1038100773396041728, 'id_str...                     0   \n",
       "3                                                NaN                     0   \n",
       "4  {'media': [{'id': 1038100736595255296, 'id_str...                     0   \n",
       "\n",
       "   tweet_favorited                                    tweet_full_text  \\\n",
       "0            False  Done is better than perfect. — Sheryl Sandberg...   \n",
       "1            False  Shout out to the Great Fire Department and the...   \n",
       "2            False  There are some AMAZINGLY hilarious Nike Ad mem...   \n",
       "3            False  #kapernickeffect #swoosh #justdoit @ Lucas Bis...   \n",
       "4            False  One Hand, One Dream: The Shaquem Griffin Story...   \n",
       "\n",
       "                                           tweet_geo      ...       \\\n",
       "0                                                NaN      ...        \n",
       "1                                                NaN      ...        \n",
       "2                                                NaN      ...        \n",
       "3  {'type': 'Point', 'coordinates': [35.85402047,...      ...        \n",
       "4                                                NaN      ...        \n",
       "\n",
       "   user_profile_text_color  user_profile_use_background_image user_protected  \\\n",
       "0                   333333                               True          False   \n",
       "1                   333333                               True          False   \n",
       "2                   050505                               True          False   \n",
       "3                   333333                               True          False   \n",
       "4                   1A1E1A                               True          False   \n",
       "\n",
       "   user_screen_name  user_statuses_count  user_time_zone  \\\n",
       "0     UltraYOUwoman              91870.0             NaN   \n",
       "1         yungcutup             618822.0             NaN   \n",
       "2       rachelbogle              48075.0             NaN   \n",
       "3       ErvGotti609               1983.0             NaN   \n",
       "4      NoLuckNeeded              24989.0             NaN   \n",
       "\n",
       "   user_translator_type                 user_url user_utc_offset user_verified  \n",
       "0                  none  https://t.co/jGlJswxjwS             NaN         False  \n",
       "1                  none   http://t.co/lVm8vfDbfO             NaN         False  \n",
       "2                  none  https://t.co/g9exqgZp9x             NaN          True  \n",
       "3                  none                      NaN             NaN         False  \n",
       "4                  none   http://t.co/MMGF9RfLz0             NaN         False  \n",
       "\n",
       "[5 rows x 72 columns]"
      ]
     },
     "execution_count": 24,
     "metadata": {},
     "output_type": "execute_result"
    }
   ],
   "source": [
    "data.head()"
   ]
  },
  {
   "cell_type": "code",
   "execution_count": 65,
   "metadata": {},
   "outputs": [
    {
     "data": {
      "text/plain": [
       "\"{'media': [{'id': 1038100853872197632, 'id_str': '1038100853872197632', 'indices': [76, 99], 'media_url': 'http://pbs.twimg.com/media/DmgTOfwVAAAJqoh.jpg', 'media_url_https': 'https://pbs.twimg.com/media/DmgTOfwVAAAJqoh.jpg', 'url': 'https://t.co/J9lLdszdW6', 'display_url': 'pic.twitter.com/J9lLdszdW6', 'expanded_url': 'https://twitter.com/UltraYOUwoman/status/1038100857932394496/photo/1', 'type': 'photo', 'sizes': {'thumb': {'w': 150, 'h': 150, 'resize': 'crop'}, 'small': {'w': 612, 'h': 612, 'resize': 'fit'}, 'large': {'w': 612, 'h': 612, 'resize': 'fit'}, 'medium': {'w': 612, 'h': 612, 'resize': 'fit'}}}]}\""
      ]
     },
     "execution_count": 65,
     "metadata": {},
     "output_type": "execute_result"
    }
   ],
   "source": [
    "data.tweet_extended_entities[0]"
   ]
  },
  {
   "cell_type": "code",
   "execution_count": null,
   "metadata": {},
   "outputs": [],
   "source": [
    "# number of hashtags\n",
    "hashtags = list(map(lambda txt: count_occurences(\"#\", txt),\n",
    "                    self.processed_data[\"splitted_text\"]))"
   ]
  },
  {
   "cell_type": "code",
   "execution_count": 25,
   "metadata": {},
   "outputs": [
    {
     "data": {
      "text/plain": [
       "\"{'hashtags': [{'text': 'hero', 'indices': [90, 95]}, {'text': 'fdny', 'indices': [96, 101]}, {'text': 'likesforlikes', 'indices': [102, 116]}, {'text': 'promo', 'indices': [117, 123]}, {'text': 'music', 'indices': [124, 130]}, {'text': 'instagood', 'indices': [131, 141]}, {'text': 'instadaily', 'indices': [142, 153]}, {'text': 'postoftheday', 'indices': [154, 167]}, {'text': 'bestoftheday', 'indices': [168, 181]}, {'text': 'justdoit', 'indices': [182, 191]}, {'text': 'nike', 'indices': [192, 197]}, {'text': 'picoftheday', 'indices': [198, 210]}], 'symbols': [], 'user_mentions': [], 'urls': [{'url': 'https://t.co/sFobQ2ukpo', 'expanded_url': 'https://www.facebook.com/241998672453/posts/10156871528042454/', 'display_url': 'facebook.com/241998672453/p…', 'indices': [214, 237]}]}\""
      ]
     },
     "execution_count": 25,
     "metadata": {},
     "output_type": "execute_result"
    }
   ],
   "source": [
    "data.tweet_entities[1]"
   ]
  },
  {
   "cell_type": "code",
   "execution_count": 28,
   "metadata": {},
   "outputs": [
    {
     "data": {
      "text/plain": [
       "'Shout out to the Great Fire Department and the tour! 👨\\u200d🚒👨\\u200d🚒 Much love to NYC! 💯🎥🔥✊🏿\\n•\\n•\\n•\\n#hero #fdny #likesforlikes #promo #music #instagood #instadaily #postoftheday #bestoftheday #justdoit #nike #picoftheday... https://t.co/sFobQ2ukpo'"
      ]
     },
     "execution_count": 28,
     "metadata": {},
     "output_type": "execute_result"
    }
   ],
   "source": [
    "data.tweet_full_text[1]"
   ]
  },
  {
   "cell_type": "code",
   "execution_count": 55,
   "metadata": {},
   "outputs": [],
   "source": [
    "import json"
   ]
  },
  {
   "cell_type": "code",
   "execution_count": 63,
   "metadata": {},
   "outputs": [
    {
     "data": {
      "text/plain": [
       "\"{'hashtags': [{'text': 'quote', 'indices': [47, 53]}, {'text': 'motivation', 'indices': [54, 65]}, {'text': 'justdoit', 'indices': [66, 75]}], 'symbols': [], 'user_mentions': [], 'urls': [], 'media': [{'id': 1038100853872197632, 'id_str': '1038100853872197632', 'indices': [76, 99], 'media_url': 'http://pbs.twimg.com/media/DmgTOfwVAAAJqoh.jpg', 'media_url_https': 'https://pbs.twimg.com/media/DmgTOfwVAAAJqoh.jpg', 'url': 'https://t.co/J9lLdszdW6', 'display_url': 'pic.twitter.com/J9lLdszdW6', 'expanded_url': 'https://twitter.com/UltraYOUwoman/status/1038100857932394496/photo/1', 'type': 'photo', 'sizes': {'thumb': {'w': 150, 'h': 150, 'resize': 'crop'}, 'small': {'w': 612, 'h': 612, 'resize': 'fit'}, 'large': {'w': 612, 'h': 612, 'resize': 'fit'}, 'medium': {'w': 612, 'h': 612, 'resize': 'fit'}}}]}\""
      ]
     },
     "execution_count": 63,
     "metadata": {},
     "output_type": "execute_result"
    }
   ],
   "source": [
    "str(data.tweet_entities[0])"
   ]
  },
  {
   "cell_type": "code",
   "execution_count": 72,
   "metadata": {},
   "outputs": [],
   "source": [
    "result = re.search(\"{'hashtags': \\S+ , \", data.tweet_entities[0])\n",
    "result"
   ]
  },
  {
   "cell_type": "code",
   "execution_count": 77,
   "metadata": {},
   "outputs": [],
   "source": [
    "strd = {'hashtags': [{'text': 'quote', 'indices': [47, 53]}, {'text': 'motivation', 'indices': [54, 65]}, {'text': 'justdoit', 'indices': [66, 75]}]}"
   ]
  },
  {
   "cell_type": "code",
   "execution_count": 87,
   "metadata": {},
   "outputs": [
    {
     "data": {
      "text/plain": [
       "dict_keys([\"('Hello',)\", \"('Hi',)\"])"
      ]
     },
     "execution_count": 87,
     "metadata": {},
     "output_type": "execute_result"
    }
   ],
   "source": [
    "json.loads(json.dumps({\"('Hello',)\": 6, \"('Hi',)\": 5})).keys()"
   ]
  },
  {
   "cell_type": "code",
   "execution_count": 97,
   "metadata": {},
   "outputs": [
    {
     "data": {
      "text/plain": [
       "\"{'hashtags': [{'text': 'quote', 'indices': [47, 53]}, {'text': 'motivation', 'indices': [54, 65]}, {'text': 'justdoit', 'indices': [66, 75]}], 'symbols': [], 'user_mentions': [], 'urls': [], 'media': [{'id': 1038100853872197632, 'id_str': '1038100853872197632', 'indices': [76, 99], 'media_url': 'http://pbs.twimg.com/media/DmgTOfwVAAAJqoh.jpg', 'media_url_https': 'https://pbs.twimg.com/media/DmgTOfwVAAAJqoh.jpg', 'url': 'https://t.co/J9lLdszdW6', 'display_url': 'pic.twitter.com/J9lLdszdW6', 'expanded_url': 'https://twitter.com/UltraYOUwoman/status/1038100857932394496/photo/1', 'type': 'photo', 'sizes': {'thumb': {'w': 150, 'h': 150, 'resize': 'crop'}, 'small': {'w': 612, 'h': 612, 'resize': 'fit'}, 'large': {'w': 612, 'h': 612, 'resize': 'fit'}, 'medium': {'w': 612, 'h': 612, 'resize': 'fit'}}}]}\""
      ]
     },
     "execution_count": 97,
     "metadata": {},
     "output_type": "execute_result"
    }
   ],
   "source": [
    "json.loads(json.dumps(data.tweet_entities[0]))"
   ]
  },
  {
   "cell_type": "code",
   "execution_count": null,
   "metadata": {},
   "outputs": [],
   "source": []
  },
  {
   "cell_type": "code",
   "execution_count": null,
   "metadata": {},
   "outputs": [],
   "source": []
  },
  {
   "cell_type": "code",
   "execution_count": null,
   "metadata": {},
   "outputs": [],
   "source": []
  }
 ],
 "metadata": {
  "kernelspec": {
   "display_name": "Python 3",
   "language": "python",
   "name": "python3"
  },
  "language_info": {
   "codemirror_mode": {
    "name": "ipython",
    "version": 3
   },
   "file_extension": ".py",
   "mimetype": "text/x-python",
   "name": "python",
   "nbconvert_exporter": "python",
   "pygments_lexer": "ipython3",
   "version": "3.6.4"
  }
 },
 "nbformat": 4,
 "nbformat_minor": 2
}
