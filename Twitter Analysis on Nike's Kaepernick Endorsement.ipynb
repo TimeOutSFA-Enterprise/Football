{
 "cells": [
  {
   "cell_type": "markdown",
   "metadata": {},
   "source": [
    "# Analysis on Colin Kaepernick and the Nike Backlash\n",
    "\n",
    "As part of the [Kaggle: 5,000 #JustDoIt! Tweets Dataset](https://www.kaggle.com/eliasdabbas/5000-justdoit-tweets-dataset), we will see to perform analysis on the tweets responding to Nike's campaign endoresement for Colin Kaepernick. For those un aware, at the beginning of the NFL 2018-2019 season, Nike made an endorement deal with Colin Kaepernick that sparked a wide spread backlash and support. Last season, Colin Kaepernick and other NFL players began showing protest during the NFL national anthem due to an all to common occurance of police brutality, racial inequality among other issues. \n",
    "\n",
    "We will be performing analysis on the various topic trends from Twitter to determine and depection of the various fans recations both in support and urging a boycott of some of Nike's apparals. \n",
    "\n",
    "\n",
    "![](https://d3i6fh83elv35t.cloudfront.net/static/2018/09/colin-kaepernick-nike-1024x575.jpeg)"
   ]
  },
  {
   "cell_type": "code",
   "execution_count": 1,
   "metadata": {},
   "outputs": [],
   "source": [
    "import pandas as pd\n",
    "import html\n",
    "\n",
    "# Data Visualization\n",
    "import seaborn as sns\n",
    "sns.set(style=\"darkgrid\")\n",
    "import matplotlib.pyplot as plt \n",
    "%matplotlib inline\n",
    "from matplotlib import style"
   ]
  },
  {
   "cell_type": "code",
   "execution_count": 2,
   "metadata": {},
   "outputs": [
    {
     "data": {
      "text/html": [
       "<div>\n",
       "<style>\n",
       "    .dataframe thead tr:only-child th {\n",
       "        text-align: right;\n",
       "    }\n",
       "\n",
       "    .dataframe thead th {\n",
       "        text-align: left;\n",
       "    }\n",
       "\n",
       "    .dataframe tbody tr th {\n",
       "        vertical-align: top;\n",
       "    }\n",
       "</style>\n",
       "<table border=\"1\" class=\"dataframe\">\n",
       "  <thead>\n",
       "    <tr style=\"text-align: right;\">\n",
       "      <th></th>\n",
       "      <th>tweet_contributors</th>\n",
       "      <th>tweet_coordinates</th>\n",
       "      <th>tweet_created_at</th>\n",
       "      <th>tweet_display_text_range</th>\n",
       "      <th>tweet_entities</th>\n",
       "      <th>tweet_extended_entities</th>\n",
       "      <th>tweet_favorite_count</th>\n",
       "      <th>tweet_favorited</th>\n",
       "      <th>tweet_full_text</th>\n",
       "      <th>tweet_geo</th>\n",
       "      <th>...</th>\n",
       "      <th>user_profile_text_color</th>\n",
       "      <th>user_profile_use_background_image</th>\n",
       "      <th>user_protected</th>\n",
       "      <th>user_screen_name</th>\n",
       "      <th>user_statuses_count</th>\n",
       "      <th>user_time_zone</th>\n",
       "      <th>user_translator_type</th>\n",
       "      <th>user_url</th>\n",
       "      <th>user_utc_offset</th>\n",
       "      <th>user_verified</th>\n",
       "    </tr>\n",
       "  </thead>\n",
       "  <tbody>\n",
       "    <tr>\n",
       "      <th>0</th>\n",
       "      <td>NaN</td>\n",
       "      <td>NaN</td>\n",
       "      <td>Fri Sep 07 16:25:06 +0000 2018</td>\n",
       "      <td>[0, 75]</td>\n",
       "      <td>{'hashtags': [{'text': 'quote', 'indices': [47...</td>\n",
       "      <td>{'media': [{'id': 1038100853872197632, 'id_str...</td>\n",
       "      <td>0</td>\n",
       "      <td>False</td>\n",
       "      <td>Done is better than perfect. — Sheryl Sandberg...</td>\n",
       "      <td>NaN</td>\n",
       "      <td>...</td>\n",
       "      <td>333333</td>\n",
       "      <td>True</td>\n",
       "      <td>False</td>\n",
       "      <td>UltraYOUwoman</td>\n",
       "      <td>91870.0</td>\n",
       "      <td>NaN</td>\n",
       "      <td>none</td>\n",
       "      <td>https://t.co/jGlJswxjwS</td>\n",
       "      <td>NaN</td>\n",
       "      <td>False</td>\n",
       "    </tr>\n",
       "    <tr>\n",
       "      <th>1</th>\n",
       "      <td>NaN</td>\n",
       "      <td>NaN</td>\n",
       "      <td>Fri Sep 07 16:24:59 +0000 2018</td>\n",
       "      <td>[0, 237]</td>\n",
       "      <td>{'hashtags': [{'text': 'hero', 'indices': [90,...</td>\n",
       "      <td>NaN</td>\n",
       "      <td>0</td>\n",
       "      <td>False</td>\n",
       "      <td>Shout out to the Great Fire Department and the...</td>\n",
       "      <td>NaN</td>\n",
       "      <td>...</td>\n",
       "      <td>333333</td>\n",
       "      <td>True</td>\n",
       "      <td>False</td>\n",
       "      <td>yungcutup</td>\n",
       "      <td>618822.0</td>\n",
       "      <td>NaN</td>\n",
       "      <td>none</td>\n",
       "      <td>http://t.co/lVm8vfDbfO</td>\n",
       "      <td>NaN</td>\n",
       "      <td>False</td>\n",
       "    </tr>\n",
       "    <tr>\n",
       "      <th>2</th>\n",
       "      <td>NaN</td>\n",
       "      <td>NaN</td>\n",
       "      <td>Fri Sep 07 16:24:50 +0000 2018</td>\n",
       "      <td>[0, 176]</td>\n",
       "      <td>{'hashtags': [{'text': 'JustDoIt', 'indices': ...</td>\n",
       "      <td>{'media': [{'id': 1038100773396041728, 'id_str...</td>\n",
       "      <td>0</td>\n",
       "      <td>False</td>\n",
       "      <td>There are some AMAZINGLY hilarious Nike Ad mem...</td>\n",
       "      <td>NaN</td>\n",
       "      <td>...</td>\n",
       "      <td>050505</td>\n",
       "      <td>True</td>\n",
       "      <td>False</td>\n",
       "      <td>rachelbogle</td>\n",
       "      <td>48075.0</td>\n",
       "      <td>NaN</td>\n",
       "      <td>none</td>\n",
       "      <td>https://t.co/g9exqgZp9x</td>\n",
       "      <td>NaN</td>\n",
       "      <td>True</td>\n",
       "    </tr>\n",
       "  </tbody>\n",
       "</table>\n",
       "<p>3 rows × 72 columns</p>\n",
       "</div>"
      ],
      "text/plain": [
       "   tweet_contributors tweet_coordinates                tweet_created_at  \\\n",
       "0                 NaN               NaN  Fri Sep 07 16:25:06 +0000 2018   \n",
       "1                 NaN               NaN  Fri Sep 07 16:24:59 +0000 2018   \n",
       "2                 NaN               NaN  Fri Sep 07 16:24:50 +0000 2018   \n",
       "\n",
       "  tweet_display_text_range                                     tweet_entities  \\\n",
       "0                  [0, 75]  {'hashtags': [{'text': 'quote', 'indices': [47...   \n",
       "1                 [0, 237]  {'hashtags': [{'text': 'hero', 'indices': [90,...   \n",
       "2                 [0, 176]  {'hashtags': [{'text': 'JustDoIt', 'indices': ...   \n",
       "\n",
       "                             tweet_extended_entities  tweet_favorite_count  \\\n",
       "0  {'media': [{'id': 1038100853872197632, 'id_str...                     0   \n",
       "1                                                NaN                     0   \n",
       "2  {'media': [{'id': 1038100773396041728, 'id_str...                     0   \n",
       "\n",
       "   tweet_favorited                                    tweet_full_text  \\\n",
       "0            False  Done is better than perfect. — Sheryl Sandberg...   \n",
       "1            False  Shout out to the Great Fire Department and the...   \n",
       "2            False  There are some AMAZINGLY hilarious Nike Ad mem...   \n",
       "\n",
       "  tweet_geo      ...       user_profile_text_color  \\\n",
       "0       NaN      ...                        333333   \n",
       "1       NaN      ...                        333333   \n",
       "2       NaN      ...                        050505   \n",
       "\n",
       "   user_profile_use_background_image user_protected  user_screen_name  \\\n",
       "0                               True          False     UltraYOUwoman   \n",
       "1                               True          False         yungcutup   \n",
       "2                               True          False       rachelbogle   \n",
       "\n",
       "   user_statuses_count  user_time_zone  user_translator_type  \\\n",
       "0              91870.0             NaN                  none   \n",
       "1             618822.0             NaN                  none   \n",
       "2              48075.0             NaN                  none   \n",
       "\n",
       "                  user_url user_utc_offset user_verified  \n",
       "0  https://t.co/jGlJswxjwS             NaN         False  \n",
       "1   http://t.co/lVm8vfDbfO             NaN         False  \n",
       "2  https://t.co/g9exqgZp9x             NaN          True  \n",
       "\n",
       "[3 rows x 72 columns]"
      ]
     },
     "execution_count": 2,
     "metadata": {},
     "output_type": "execute_result"
    }
   ],
   "source": [
    "data = pd.read_csv('justdoit_tweets_2018_09_07_2.csv')\n",
    "data.head(3)"
   ]
  },
  {
   "cell_type": "markdown",
   "metadata": {},
   "source": [
    "column names"
   ]
  },
  {
   "cell_type": "code",
   "execution_count": 3,
   "metadata": {},
   "outputs": [
    {
     "data": {
      "text/plain": [
       "Index(['tweet_contributors', 'tweet_coordinates', 'tweet_created_at',\n",
       "       'tweet_display_text_range', 'tweet_entities', 'tweet_extended_entities',\n",
       "       'tweet_favorite_count', 'tweet_favorited', 'tweet_full_text',\n",
       "       'tweet_geo', 'tweet_id', 'tweet_id_str',\n",
       "       'tweet_in_reply_to_screen_name', 'tweet_in_reply_to_status_id',\n",
       "       'tweet_in_reply_to_status_id_str', 'tweet_in_reply_to_user_id',\n",
       "       'tweet_in_reply_to_user_id_str', 'tweet_is_quote_status', 'tweet_lang',\n",
       "       'tweet_metadata', 'tweet_place', 'tweet_possibly_sensitive',\n",
       "       'tweet_quoted_status', 'tweet_quoted_status_id',\n",
       "       'tweet_quoted_status_id_str', 'tweet_retweet_count', 'tweet_retweeted',\n",
       "       'tweet_source', 'tweet_truncated', 'tweet_user',\n",
       "       'user_contributors_enabled', 'user_created_at', 'user_default_profile',\n",
       "       'user_default_profile_image', 'user_description', 'user_entities',\n",
       "       'user_favourites_count', 'user_follow_request_sent',\n",
       "       'user_followers_count', 'user_following', 'user_friends_count',\n",
       "       'user_geo_enabled', 'user_has_extended_profile', 'user_id',\n",
       "       'user_id_str', 'user_is_translation_enabled', 'user_is_translator',\n",
       "       'user_lang', 'user_listed_count', 'user_location', 'user_name',\n",
       "       'user_notifications', 'user_profile_background_color',\n",
       "       'user_profile_background_image_url',\n",
       "       'user_profile_background_image_url_https',\n",
       "       'user_profile_background_tile', 'user_profile_banner_url',\n",
       "       'user_profile_image_url', 'user_profile_image_url_https',\n",
       "       'user_profile_link_color', 'user_profile_sidebar_border_color',\n",
       "       'user_profile_sidebar_fill_color', 'user_profile_text_color',\n",
       "       'user_profile_use_background_image', 'user_protected',\n",
       "       'user_screen_name', 'user_statuses_count', 'user_time_zone',\n",
       "       'user_translator_type', 'user_url', 'user_utc_offset', 'user_verified'],\n",
       "      dtype='object')"
      ]
     },
     "execution_count": 3,
     "metadata": {},
     "output_type": "execute_result"
    }
   ],
   "source": [
    "data.columns"
   ]
  },
  {
   "cell_type": "markdown",
   "metadata": {},
   "source": [
    "## Data Processing & Exporatory"
   ]
  },
  {
   "cell_type": "code",
   "execution_count": 4,
   "metadata": {},
   "outputs": [
    {
     "data": {
      "text/plain": [
       "<seaborn.axisgrid.FacetGrid at 0x7f4a22a25f98>"
      ]
     },
     "execution_count": 4,
     "metadata": {},
     "output_type": "execute_result"
    },
    {
     "data": {
      "image/png": "[encoded data removed]",
      "text/plain": [
       "<matplotlib.figure.Figure at 0x7f4a379e6c18>"
      ]
     },
     "metadata": {},
     "output_type": "display_data"
    }
   ],
   "source": [
    "sns.lmplot(x='user_friends_count', y='user_statuses_count', data = data)"
   ]
  },
  {
   "cell_type": "markdown",
   "metadata": {},
   "source": [
    "### Text Cleaning\n",
    "For the text cleaning we will look to remove some unuseful textual data that does not assist our analysis, including:\n",
    "1. "
   ]
  },
  {
   "cell_type": "code",
   "execution_count": 41,
   "metadata": {},
   "outputs": [],
   "source": [
    "import re\n",
    "\n",
    "def preprocess_post(post):\n",
    "    post = str(post)\n",
    "    #post = html.unescape(post)\n",
    "    post = re.sub(r\"http.?://[^\\s]+[\\s]?\", '',post)\n",
    "    post = ''.join(c for c in post if not c.isdigit())\n",
    "    post = post.lower()\n",
    "    post = re.sub('\\n', ' ', post)\n",
    "    post = re.sub(r'[^\\w\\s]','',post)\n",
    "    \n",
    "    \n",
    "    return post"
   ]
  },
  {
   "cell_type": "code",
   "execution_count": 42,
   "metadata": {},
   "outputs": [
    {
     "data": {
      "text/plain": [
       "'realdonaldtrump its time for me to stock up on some new running apparel nike it is justdoit'"
      ]
     },
     "execution_count": 42,
     "metadata": {},
     "output_type": "execute_result"
    }
   ],
   "source": [
    "tweets = pd.DataFrame(data.tweet_full_text.map(lambda x: preprocess_post(x)))\n",
    "tweets.tweet_full_text[5]"
   ]
  },
  {
   "cell_type": "markdown",
   "metadata": {},
   "source": [
    "### Distribution of Tweet length"
   ]
  },
  {
   "cell_type": "code",
   "execution_count": 43,
   "metadata": {},
   "outputs": [
    {
     "data": {
      "image/png": "[encoded data removed]",
      "text/plain": [
       "<matplotlib.figure.Figure at 0x7f4a22a0eb00>"
      ]
     },
     "metadata": {},
     "output_type": "display_data"
    }
   ],
   "source": [
    "tweet_len = []\n",
    "\n",
    "#for k in data['tweet_full_text']:\n",
    "for k in tweets.tweet_full_text:\n",
    "    if isinstance(k,str):\n",
    "        tweet_len.append(len(k))\n",
    "\n",
    "sns.set()\n",
    "fig_dims = (11.7,8.27)\n",
    "fig,ax = plt.subplots(figsize=fig_dims)\n",
    "sns.kdeplot(tweet_len,shade=True)\n",
    "plt.title(\"Distribution of Tweet length\")\n",
    "plt.xlabel(\"No. of characters\")\n",
    "plt.ylim(0,None)\n",
    "plt.xlim(0,None)\n",
    "sns.despine()"
   ]
  },
  {
   "cell_type": "markdown",
   "metadata": {},
   "source": [
    "In the plot above, the tweet distribution of the characters is around 150 characters. This was after Twitters extentions on the previous limitation of 150 characters. the ones that reach past 200 is intresting... there are some twitte characters in almost reaching a thousand. "
   ]
  },
  {
   "cell_type": "code",
   "execution_count": 44,
   "metadata": {},
   "outputs": [
    {
     "data": {
      "text/plain": [
       "\"{'media': [{'id': 1038100853872197632, 'id_str': '1038100853872197632', 'indices': [76, 99], 'media_url': 'http://pbs.twimg.com/media/DmgTOfwVAAAJqoh.jpg', 'media_url_https': 'https://pbs.twimg.com/media/DmgTOfwVAAAJqoh.jpg', 'url': 'https://t.co/J9lLdszdW6', 'display_url': 'pic.twitter.com/J9lLdszdW6', 'expanded_url': 'https://twitter.com/UltraYOUwoman/status/1038100857932394496/photo/1', 'type': 'photo', 'sizes': {'thumb': {'w': 150, 'h': 150, 'resize': 'crop'}, 'small': {'w': 612, 'h': 612, 'resize': 'fit'}, 'large': {'w': 612, 'h': 612, 'resize': 'fit'}, 'medium': {'w': 612, 'h': 612, 'resize': 'fit'}}}]}\""
      ]
     },
     "execution_count": 44,
     "metadata": {},
     "output_type": "execute_result"
    }
   ],
   "source": [
    "data.tweet_extended_entities[0]"
   ]
  },
  {
   "cell_type": "code",
   "execution_count": 45,
   "metadata": {},
   "outputs": [
    {
     "data": {
      "text/plain": [
       "'Shout out to the Great Fire Department and the tour! 👨\\u200d🚒👨\\u200d🚒 Much love to NYC! 💯🎥🔥✊🏿\\n•\\n•\\n•\\n#hero #fdny #likesforlikes #promo #music #instagood #instadaily #postoftheday #bestoftheday #justdoit #nike #picoftheday... https://t.co/sFobQ2ukpo'"
      ]
     },
     "execution_count": 45,
     "metadata": {},
     "output_type": "execute_result"
    }
   ],
   "source": [
    "data.tweet_full_text[1]"
   ]
  },
  {
   "cell_type": "code",
   "execution_count": 46,
   "metadata": {},
   "outputs": [],
   "source": [
    "test_text = data.tweet_full_text[:20]"
   ]
  },
  {
   "cell_type": "markdown",
   "metadata": {},
   "source": [
    "### Sentiment Analysis\n",
    "One of the ways to perform to understand the _'tone'_ of the text of the tweet is to analyse the specific word usage and the sentiment associated with those words. With sentiment analysis we are able to measure the tone and gauge the positivity or negativity of the tweet. For right now we will just return the sentiment results as: 0 for neural, 1 positive, -1 and negative."
   ]
  },
  {
   "cell_type": "code",
   "execution_count": 47,
   "metadata": {},
   "outputs": [],
   "source": [
    "from textblob import TextBlob\n",
    "\n",
    "def get_sentiment(tweet):\n",
    "    analysis = TextBlob(tweet)\n",
    "    if analysis.sentiment.polarity > 0:\n",
    "        return 1\n",
    "    elif analysis.sentiment.polarity == 0:\n",
    "        return 0\n",
    "    else:\n",
    "        return -1"
   ]
  },
  {
   "cell_type": "code",
   "execution_count": 48,
   "metadata": {},
   "outputs": [
    {
     "data": {
      "text/plain": [
       "<matplotlib.axes._subplots.AxesSubplot at 0x7f4a1597fcf8>"
      ]
     },
     "execution_count": 48,
     "metadata": {},
     "output_type": "execute_result"
    },
    {
     "data": {
      "image/png": "[encoded data removed]",
      "text/plain": [
       "<matplotlib.figure.Figure at 0x7f4a1630cb38>"
      ]
     },
     "metadata": {},
     "output_type": "display_data"
    }
   ],
   "source": [
    "tweets['sentiment'] = [get_sentiment(text) for text in tweets.tweet_full_text]\n",
    "\n",
    "# plot the sentiments\n",
    "f, ax = plt.subplots(figsize = (10, 3))\n",
    "sns.countplot(y='sentiment', data=tweets, color='c')"
   ]
  },
  {
   "cell_type": "markdown",
   "metadata": {},
   "source": [
    "Viewing the bar graph above we can initially see that the graph is a leftward skewed graph indicating that the majority of the senitments are either neural or positive but a substaintal amount. "
   ]
  },
  {
   "cell_type": "markdown",
   "metadata": {},
   "source": [
    "### Text Analysis"
   ]
  },
  {
   "cell_type": "code",
   "execution_count": 49,
   "metadata": {},
   "outputs": [
    {
     "name": "stdout",
     "output_type": "stream",
     "text": [
      "['done', 'better', 'perfect', 'sheryl', 'sandberg', 'quote', 'motivation', 'justdoit', 'shout', 'great', 'fire', 'department', 'tour', 'much', 'love', 'nyc', 'hero', 'fdny', 'likesforlikes', 'promo']\n"
     ]
    }
   ],
   "source": [
    "# twitter mining inspiration: https://github.com/mobu/TwitterMiner/blob/master/Analyze.ipynb\n",
    "import nltk\n",
    "from nltk.tokenize import word_tokenize\n",
    "from nltk.corpus import stopwords\n",
    "import string\n",
    "from collections import Counter\n",
    "\n",
    "tokens = []\n",
    "for key,value in tweets.tweet_full_text.iteritems():\n",
    "    tokens.append(word_tokenize(value))\n",
    "\n",
    "lower_case = []\n",
    "for k in tokens:\n",
    "    for j in k:\n",
    "        lower_case.append(j.lower())\n",
    "        \n",
    "table = str.maketrans('','',string.punctuation)\n",
    "stripped = [w.translate(table) for w in lower_case]\n",
    "words = [word for word in stripped if word.isalpha()]\n",
    "\n",
    "stop_words = set(stopwords.words('english'))\n",
    "words = [w for w in words if not w in stop_words]\n",
    "word_counts = Counter(words)\n",
    "\n",
    "# print first 20\n",
    "print(words[:20])"
   ]
  },
  {
   "cell_type": "markdown",
   "metadata": {},
   "source": [
    "So now that we have a bag of words for all of the tweets, lets try to make a visualization to see if there are any trends or meaningful information that can help us understand the underlying values or potential common areas of concern people are communicating. Therefore, it seems that we should look at the most common words. Intitially the top most common words are probably #justdoit #nike and something about colin kaepernick since these are obviously the main subject of this analysis."
   ]
  },
  {
   "cell_type": "code",
   "execution_count": 50,
   "metadata": {
    "scrolled": true
   },
   "outputs": [
    {
     "data": {
      "text/html": [
       "<div>\n",
       "<style>\n",
       "    .dataframe thead tr:only-child th {\n",
       "        text-align: right;\n",
       "    }\n",
       "\n",
       "    .dataframe thead th {\n",
       "        text-align: left;\n",
       "    }\n",
       "\n",
       "    .dataframe tbody tr th {\n",
       "        vertical-align: top;\n",
       "    }\n",
       "</style>\n",
       "<table border=\"1\" class=\"dataframe\">\n",
       "  <thead>\n",
       "    <tr style=\"text-align: right;\">\n",
       "      <th></th>\n",
       "      <th>word</th>\n",
       "      <th>freq</th>\n",
       "    </tr>\n",
       "  </thead>\n",
       "  <tbody>\n",
       "    <tr>\n",
       "      <th>0</th>\n",
       "      <td>justdoit</td>\n",
       "      <td>5092</td>\n",
       "    </tr>\n",
       "    <tr>\n",
       "      <th>1</th>\n",
       "      <td>nike</td>\n",
       "      <td>2743</td>\n",
       "    </tr>\n",
       "    <tr>\n",
       "      <th>2</th>\n",
       "      <td>kaepernick</td>\n",
       "      <td>841</td>\n",
       "    </tr>\n",
       "    <tr>\n",
       "      <th>3</th>\n",
       "      <td>realdonaldtrump</td>\n",
       "      <td>408</td>\n",
       "    </tr>\n",
       "    <tr>\n",
       "      <th>4</th>\n",
       "      <td>dont</td>\n",
       "      <td>394</td>\n",
       "    </tr>\n",
       "    <tr>\n",
       "      <th>5</th>\n",
       "      <td>crazy</td>\n",
       "      <td>327</td>\n",
       "    </tr>\n",
       "    <tr>\n",
       "      <th>6</th>\n",
       "      <td>believe</td>\n",
       "      <td>310</td>\n",
       "    </tr>\n",
       "    <tr>\n",
       "      <th>7</th>\n",
       "      <td>commercial</td>\n",
       "      <td>295</td>\n",
       "    </tr>\n",
       "    <tr>\n",
       "      <th>8</th>\n",
       "      <td>even</td>\n",
       "      <td>288</td>\n",
       "    </tr>\n",
       "    <tr>\n",
       "      <th>9</th>\n",
       "      <td>like</td>\n",
       "      <td>268</td>\n",
       "    </tr>\n",
       "    <tr>\n",
       "      <th>10</th>\n",
       "      <td>nfl</td>\n",
       "      <td>257</td>\n",
       "    </tr>\n",
       "    <tr>\n",
       "      <th>11</th>\n",
       "      <td>something</td>\n",
       "      <td>257</td>\n",
       "    </tr>\n",
       "    <tr>\n",
       "      <th>12</th>\n",
       "      <td>one</td>\n",
       "      <td>246</td>\n",
       "    </tr>\n",
       "    <tr>\n",
       "      <th>13</th>\n",
       "      <td>ad</td>\n",
       "      <td>242</td>\n",
       "    </tr>\n",
       "    <tr>\n",
       "      <th>14</th>\n",
       "      <td>new</td>\n",
       "      <td>240</td>\n",
       "    </tr>\n",
       "    <tr>\n",
       "      <th>15</th>\n",
       "      <td>amp</td>\n",
       "      <td>237</td>\n",
       "    </tr>\n",
       "    <tr>\n",
       "      <th>16</th>\n",
       "      <td>im</td>\n",
       "      <td>232</td>\n",
       "    </tr>\n",
       "    <tr>\n",
       "      <th>17</th>\n",
       "      <td>people</td>\n",
       "      <td>223</td>\n",
       "    </tr>\n",
       "    <tr>\n",
       "      <th>18</th>\n",
       "      <td>love</td>\n",
       "      <td>222</td>\n",
       "    </tr>\n",
       "    <tr>\n",
       "      <th>19</th>\n",
       "      <td>colinkaepernick</td>\n",
       "      <td>210</td>\n",
       "    </tr>\n",
       "  </tbody>\n",
       "</table>\n",
       "</div>"
      ],
      "text/plain": [
       "               word  freq\n",
       "0          justdoit  5092\n",
       "1              nike  2743\n",
       "2        kaepernick   841\n",
       "3   realdonaldtrump   408\n",
       "4              dont   394\n",
       "5             crazy   327\n",
       "6           believe   310\n",
       "7        commercial   295\n",
       "8              even   288\n",
       "9              like   268\n",
       "10              nfl   257\n",
       "11        something   257\n",
       "12              one   246\n",
       "13               ad   242\n",
       "14              new   240\n",
       "15              amp   237\n",
       "16               im   232\n",
       "17           people   223\n",
       "18             love   222\n",
       "19  colinkaepernick   210"
      ]
     },
     "execution_count": 50,
     "metadata": {},
     "output_type": "execute_result"
    }
   ],
   "source": [
    "txt_count = pd.DataFrame(word_counts.most_common(20), columns=['word','freq'])\n",
    "txt_count"
   ]
  },
  {
   "cell_type": "markdown",
   "metadata": {},
   "source": [
    "Interesting enough, our inital assumation about the subject areas were correct, however it is quite surprise and (but lets be honest...not really) the `realdonaldtrump` is the fourth common word in this tweet storm... and them `dont`."
   ]
  },
  {
   "cell_type": "code",
   "execution_count": 51,
   "metadata": {},
   "outputs": [
    {
     "data": {
      "image/png": "[encoded data removed]",
      "text/plain": [
       "<matplotlib.figure.Figure at 0x7f4a1587aa90>"
      ]
     },
     "metadata": {},
     "output_type": "display_data"
    }
   ],
   "source": [
    "fig = plt.figure(figsize=(15,8))\n",
    "ax = sns.barplot(x='word', y='freq', data=txt_count)\n",
    "ax.set_xticklabels(labels=txt_count.word,rotation=40)\n",
    "plt.title(\"Frequency of Top 20 Most Common Words in the Nike's Kaepernick Endorsement\")\n",
    "plt.show()"
   ]
  },
  {
   "cell_type": "code",
   "execution_count": null,
   "metadata": {},
   "outputs": [],
   "source": []
  },
  {
   "cell_type": "markdown",
   "metadata": {},
   "source": [
    "### Tweet Time Frequency"
   ]
  },
  {
   "cell_type": "code",
   "execution_count": 52,
   "metadata": {},
   "outputs": [],
   "source": [
    "data['tweet_time'] = pd.to_datetime(data.tweet_created_at)"
   ]
  },
  {
   "cell_type": "code",
   "execution_count": 53,
   "metadata": {},
   "outputs": [],
   "source": [
    "data = data.set_index('tweet_time')"
   ]
  },
  {
   "cell_type": "code",
   "execution_count": 54,
   "metadata": {},
   "outputs": [],
   "source": [
    "df = data[['tweet_id']]\n",
    "tweet_volume = df.resample('30min').count()"
   ]
  },
  {
   "cell_type": "code",
   "execution_count": 55,
   "metadata": {},
   "outputs": [
    {
     "data": {
      "image/png": "[encoded data removed]",
      "text/plain": [
       "<matplotlib.figure.Figure at 0x7f4a148bd908>"
      ]
     },
     "metadata": {},
     "output_type": "display_data"
    }
   ],
   "source": [
    "\n",
    "fig = plt.figure(figsize=(15,8))\n",
    "ax = sns.pointplot(x=tweet_volume.index, y='tweet_id', data=tweet_volume)\n",
    "ax.set_xlabel(\"Time When Tweeted\", fontsize=15)\n",
    "ax.set_ylabel(\"Number of Tweets\", fontsize=15)\n",
    "ax.tick_params(labelsize=25)\n",
    "\n",
    "for item in ax.get_xticklabels():\n",
    "    item.set_rotation(90)"
   ]
  },
  {
   "cell_type": "markdown",
   "metadata": {},
   "source": [
    "## Additional Feature Engineering\n",
    "\n",
    "As one who spent a brief time in college on twitter, while we did take out special character usages for understanding the sentiments, the _twitter culture_ is all about using special character to further indicate a message such as ALL CAPS and hashtags. So lets time some time to develope acouple additional features to explore these aspects wuch as:\n",
    "\n",
    "    A. Exclamation marks to indicate further strength in tone in the initial sentiment score\n",
    "    B. Number of hashtags used (actually there is a "
   ]
  },
  {
   "cell_type": "code",
   "execution_count": 56,
   "metadata": {},
   "outputs": [
    {
     "data": {
      "text/html": [
       "<div>\n",
       "<style>\n",
       "    .dataframe thead tr:only-child th {\n",
       "        text-align: right;\n",
       "    }\n",
       "\n",
       "    .dataframe thead th {\n",
       "        text-align: left;\n",
       "    }\n",
       "\n",
       "    .dataframe tbody tr th {\n",
       "        vertical-align: top;\n",
       "    }\n",
       "</style>\n",
       "<table border=\"1\" class=\"dataframe\">\n",
       "  <thead>\n",
       "    <tr style=\"text-align: right;\">\n",
       "      <th></th>\n",
       "      <th>tweet_contributors</th>\n",
       "      <th>tweet_coordinates</th>\n",
       "      <th>tweet_created_at</th>\n",
       "      <th>tweet_display_text_range</th>\n",
       "      <th>tweet_entities</th>\n",
       "      <th>tweet_extended_entities</th>\n",
       "      <th>tweet_favorite_count</th>\n",
       "      <th>tweet_favorited</th>\n",
       "      <th>tweet_full_text</th>\n",
       "      <th>tweet_geo</th>\n",
       "      <th>...</th>\n",
       "      <th>user_profile_text_color</th>\n",
       "      <th>user_profile_use_background_image</th>\n",
       "      <th>user_protected</th>\n",
       "      <th>user_screen_name</th>\n",
       "      <th>user_statuses_count</th>\n",
       "      <th>user_time_zone</th>\n",
       "      <th>user_translator_type</th>\n",
       "      <th>user_url</th>\n",
       "      <th>user_utc_offset</th>\n",
       "      <th>user_verified</th>\n",
       "    </tr>\n",
       "    <tr>\n",
       "      <th>tweet_time</th>\n",
       "      <th></th>\n",
       "      <th></th>\n",
       "      <th></th>\n",
       "      <th></th>\n",
       "      <th></th>\n",
       "      <th></th>\n",
       "      <th></th>\n",
       "      <th></th>\n",
       "      <th></th>\n",
       "      <th></th>\n",
       "      <th></th>\n",
       "      <th></th>\n",
       "      <th></th>\n",
       "      <th></th>\n",
       "      <th></th>\n",
       "      <th></th>\n",
       "      <th></th>\n",
       "      <th></th>\n",
       "      <th></th>\n",
       "      <th></th>\n",
       "      <th></th>\n",
       "    </tr>\n",
       "  </thead>\n",
       "  <tbody>\n",
       "    <tr>\n",
       "      <th>2018-09-07 16:25:06</th>\n",
       "      <td>NaN</td>\n",
       "      <td>NaN</td>\n",
       "      <td>Fri Sep 07 16:25:06 +0000 2018</td>\n",
       "      <td>[0, 75]</td>\n",
       "      <td>{'hashtags': [{'text': 'quote', 'indices': [47...</td>\n",
       "      <td>{'media': [{'id': 1038100853872197632, 'id_str...</td>\n",
       "      <td>0</td>\n",
       "      <td>False</td>\n",
       "      <td>Done is better than perfect. — Sheryl Sandberg...</td>\n",
       "      <td>NaN</td>\n",
       "      <td>...</td>\n",
       "      <td>333333</td>\n",
       "      <td>True</td>\n",
       "      <td>False</td>\n",
       "      <td>UltraYOUwoman</td>\n",
       "      <td>91870.0</td>\n",
       "      <td>NaN</td>\n",
       "      <td>none</td>\n",
       "      <td>https://t.co/jGlJswxjwS</td>\n",
       "      <td>NaN</td>\n",
       "      <td>False</td>\n",
       "    </tr>\n",
       "    <tr>\n",
       "      <th>2018-09-07 16:24:59</th>\n",
       "      <td>NaN</td>\n",
       "      <td>NaN</td>\n",
       "      <td>Fri Sep 07 16:24:59 +0000 2018</td>\n",
       "      <td>[0, 237]</td>\n",
       "      <td>{'hashtags': [{'text': 'hero', 'indices': [90,...</td>\n",
       "      <td>NaN</td>\n",
       "      <td>0</td>\n",
       "      <td>False</td>\n",
       "      <td>Shout out to the Great Fire Department and the...</td>\n",
       "      <td>NaN</td>\n",
       "      <td>...</td>\n",
       "      <td>333333</td>\n",
       "      <td>True</td>\n",
       "      <td>False</td>\n",
       "      <td>yungcutup</td>\n",
       "      <td>618822.0</td>\n",
       "      <td>NaN</td>\n",
       "      <td>none</td>\n",
       "      <td>http://t.co/lVm8vfDbfO</td>\n",
       "      <td>NaN</td>\n",
       "      <td>False</td>\n",
       "    </tr>\n",
       "    <tr>\n",
       "      <th>2018-09-07 16:24:50</th>\n",
       "      <td>NaN</td>\n",
       "      <td>NaN</td>\n",
       "      <td>Fri Sep 07 16:24:50 +0000 2018</td>\n",
       "      <td>[0, 176]</td>\n",
       "      <td>{'hashtags': [{'text': 'JustDoIt', 'indices': ...</td>\n",
       "      <td>{'media': [{'id': 1038100773396041728, 'id_str...</td>\n",
       "      <td>0</td>\n",
       "      <td>False</td>\n",
       "      <td>There are some AMAZINGLY hilarious Nike Ad mem...</td>\n",
       "      <td>NaN</td>\n",
       "      <td>...</td>\n",
       "      <td>050505</td>\n",
       "      <td>True</td>\n",
       "      <td>False</td>\n",
       "      <td>rachelbogle</td>\n",
       "      <td>48075.0</td>\n",
       "      <td>NaN</td>\n",
       "      <td>none</td>\n",
       "      <td>https://t.co/g9exqgZp9x</td>\n",
       "      <td>NaN</td>\n",
       "      <td>True</td>\n",
       "    </tr>\n",
       "    <tr>\n",
       "      <th>2018-09-07 16:24:44</th>\n",
       "      <td>NaN</td>\n",
       "      <td>{'type': 'Point', 'coordinates': [-86.45594032...</td>\n",
       "      <td>Fri Sep 07 16:24:44 +0000 2018</td>\n",
       "      <td>[0, 88]</td>\n",
       "      <td>{'hashtags': [{'text': 'kapernickeffect', 'ind...</td>\n",
       "      <td>NaN</td>\n",
       "      <td>0</td>\n",
       "      <td>False</td>\n",
       "      <td>#kapernickeffect #swoosh #justdoit @ Lucas Bis...</td>\n",
       "      <td>{'type': 'Point', 'coordinates': [35.85402047,...</td>\n",
       "      <td>...</td>\n",
       "      <td>333333</td>\n",
       "      <td>True</td>\n",
       "      <td>False</td>\n",
       "      <td>ErvGotti609</td>\n",
       "      <td>1983.0</td>\n",
       "      <td>NaN</td>\n",
       "      <td>none</td>\n",
       "      <td>NaN</td>\n",
       "      <td>NaN</td>\n",
       "      <td>False</td>\n",
       "    </tr>\n",
       "    <tr>\n",
       "      <th>2018-09-07 16:24:39</th>\n",
       "      <td>NaN</td>\n",
       "      <td>NaN</td>\n",
       "      <td>Fri Sep 07 16:24:39 +0000 2018</td>\n",
       "      <td>[0, 132]</td>\n",
       "      <td>{'hashtags': [{'text': 'shaquem', 'indices': [...</td>\n",
       "      <td>{'media': [{'id': 1038100736595255296, 'id_str...</td>\n",
       "      <td>0</td>\n",
       "      <td>False</td>\n",
       "      <td>One Hand, One Dream: The Shaquem Griffin Story...</td>\n",
       "      <td>NaN</td>\n",
       "      <td>...</td>\n",
       "      <td>1A1E1A</td>\n",
       "      <td>True</td>\n",
       "      <td>False</td>\n",
       "      <td>NoLuckNeeded</td>\n",
       "      <td>24989.0</td>\n",
       "      <td>NaN</td>\n",
       "      <td>none</td>\n",
       "      <td>http://t.co/MMGF9RfLz0</td>\n",
       "      <td>NaN</td>\n",
       "      <td>False</td>\n",
       "    </tr>\n",
       "  </tbody>\n",
       "</table>\n",
       "<p>5 rows × 72 columns</p>\n",
       "</div>"
      ],
      "text/plain": [
       "                     tweet_contributors  \\\n",
       "tweet_time                                \n",
       "2018-09-07 16:25:06                 NaN   \n",
       "2018-09-07 16:24:59                 NaN   \n",
       "2018-09-07 16:24:50                 NaN   \n",
       "2018-09-07 16:24:44                 NaN   \n",
       "2018-09-07 16:24:39                 NaN   \n",
       "\n",
       "                                                     tweet_coordinates  \\\n",
       "tweet_time                                                               \n",
       "2018-09-07 16:25:06                                                NaN   \n",
       "2018-09-07 16:24:59                                                NaN   \n",
       "2018-09-07 16:24:50                                                NaN   \n",
       "2018-09-07 16:24:44  {'type': 'Point', 'coordinates': [-86.45594032...   \n",
       "2018-09-07 16:24:39                                                NaN   \n",
       "\n",
       "                                   tweet_created_at tweet_display_text_range  \\\n",
       "tweet_time                                                                     \n",
       "2018-09-07 16:25:06  Fri Sep 07 16:25:06 +0000 2018                  [0, 75]   \n",
       "2018-09-07 16:24:59  Fri Sep 07 16:24:59 +0000 2018                 [0, 237]   \n",
       "2018-09-07 16:24:50  Fri Sep 07 16:24:50 +0000 2018                 [0, 176]   \n",
       "2018-09-07 16:24:44  Fri Sep 07 16:24:44 +0000 2018                  [0, 88]   \n",
       "2018-09-07 16:24:39  Fri Sep 07 16:24:39 +0000 2018                 [0, 132]   \n",
       "\n",
       "                                                        tweet_entities  \\\n",
       "tweet_time                                                               \n",
       "2018-09-07 16:25:06  {'hashtags': [{'text': 'quote', 'indices': [47...   \n",
       "2018-09-07 16:24:59  {'hashtags': [{'text': 'hero', 'indices': [90,...   \n",
       "2018-09-07 16:24:50  {'hashtags': [{'text': 'JustDoIt', 'indices': ...   \n",
       "2018-09-07 16:24:44  {'hashtags': [{'text': 'kapernickeffect', 'ind...   \n",
       "2018-09-07 16:24:39  {'hashtags': [{'text': 'shaquem', 'indices': [...   \n",
       "\n",
       "                                               tweet_extended_entities  \\\n",
       "tweet_time                                                               \n",
       "2018-09-07 16:25:06  {'media': [{'id': 1038100853872197632, 'id_str...   \n",
       "2018-09-07 16:24:59                                                NaN   \n",
       "2018-09-07 16:24:50  {'media': [{'id': 1038100773396041728, 'id_str...   \n",
       "2018-09-07 16:24:44                                                NaN   \n",
       "2018-09-07 16:24:39  {'media': [{'id': 1038100736595255296, 'id_str...   \n",
       "\n",
       "                     tweet_favorite_count  tweet_favorited  \\\n",
       "tweet_time                                                   \n",
       "2018-09-07 16:25:06                     0            False   \n",
       "2018-09-07 16:24:59                     0            False   \n",
       "2018-09-07 16:24:50                     0            False   \n",
       "2018-09-07 16:24:44                     0            False   \n",
       "2018-09-07 16:24:39                     0            False   \n",
       "\n",
       "                                                       tweet_full_text  \\\n",
       "tweet_time                                                               \n",
       "2018-09-07 16:25:06  Done is better than perfect. — Sheryl Sandberg...   \n",
       "2018-09-07 16:24:59  Shout out to the Great Fire Department and the...   \n",
       "2018-09-07 16:24:50  There are some AMAZINGLY hilarious Nike Ad mem...   \n",
       "2018-09-07 16:24:44  #kapernickeffect #swoosh #justdoit @ Lucas Bis...   \n",
       "2018-09-07 16:24:39  One Hand, One Dream: The Shaquem Griffin Story...   \n",
       "\n",
       "                                                             tweet_geo  \\\n",
       "tweet_time                                                               \n",
       "2018-09-07 16:25:06                                                NaN   \n",
       "2018-09-07 16:24:59                                                NaN   \n",
       "2018-09-07 16:24:50                                                NaN   \n",
       "2018-09-07 16:24:44  {'type': 'Point', 'coordinates': [35.85402047,...   \n",
       "2018-09-07 16:24:39                                                NaN   \n",
       "\n",
       "                         ...       user_profile_text_color  \\\n",
       "tweet_time               ...                                 \n",
       "2018-09-07 16:25:06      ...                        333333   \n",
       "2018-09-07 16:24:59      ...                        333333   \n",
       "2018-09-07 16:24:50      ...                        050505   \n",
       "2018-09-07 16:24:44      ...                        333333   \n",
       "2018-09-07 16:24:39      ...                        1A1E1A   \n",
       "\n",
       "                     user_profile_use_background_image user_protected  \\\n",
       "tweet_time                                                              \n",
       "2018-09-07 16:25:06                               True          False   \n",
       "2018-09-07 16:24:59                               True          False   \n",
       "2018-09-07 16:24:50                               True          False   \n",
       "2018-09-07 16:24:44                               True          False   \n",
       "2018-09-07 16:24:39                               True          False   \n",
       "\n",
       "                     user_screen_name  user_statuses_count  user_time_zone  \\\n",
       "tweet_time                                                                   \n",
       "2018-09-07 16:25:06     UltraYOUwoman              91870.0             NaN   \n",
       "2018-09-07 16:24:59         yungcutup             618822.0             NaN   \n",
       "2018-09-07 16:24:50       rachelbogle              48075.0             NaN   \n",
       "2018-09-07 16:24:44       ErvGotti609               1983.0             NaN   \n",
       "2018-09-07 16:24:39      NoLuckNeeded              24989.0             NaN   \n",
       "\n",
       "                     user_translator_type                 user_url  \\\n",
       "tweet_time                                                           \n",
       "2018-09-07 16:25:06                  none  https://t.co/jGlJswxjwS   \n",
       "2018-09-07 16:24:59                  none   http://t.co/lVm8vfDbfO   \n",
       "2018-09-07 16:24:50                  none  https://t.co/g9exqgZp9x   \n",
       "2018-09-07 16:24:44                  none                      NaN   \n",
       "2018-09-07 16:24:39                  none   http://t.co/MMGF9RfLz0   \n",
       "\n",
       "                    user_utc_offset user_verified  \n",
       "tweet_time                                         \n",
       "2018-09-07 16:25:06             NaN         False  \n",
       "2018-09-07 16:24:59             NaN         False  \n",
       "2018-09-07 16:24:50             NaN          True  \n",
       "2018-09-07 16:24:44             NaN         False  \n",
       "2018-09-07 16:24:39             NaN         False  \n",
       "\n",
       "[5 rows x 72 columns]"
      ]
     },
     "execution_count": 56,
     "metadata": {},
     "output_type": "execute_result"
    }
   ],
   "source": [
    "data.head()"
   ]
  },
  {
   "cell_type": "markdown",
   "metadata": {},
   "source": [
    "Importing `yaml` to dal with non-standard json strings such as the `tweet_entities` so we can perform analysis on the corresponding twitter hashtags"
   ]
  },
  {
   "cell_type": "code",
   "execution_count": 57,
   "metadata": {},
   "outputs": [],
   "source": [
    "import yaml"
   ]
  },
  {
   "cell_type": "code",
   "execution_count": 58,
   "metadata": {},
   "outputs": [
    {
     "data": {
      "text/plain": [
       "\"{'media': [{'id': 1038100853872197632, 'id_str': '1038100853872197632', 'indices': [76, 99], 'media_url': 'http://pbs.twimg.com/media/DmgTOfwVAAAJqoh.jpg', 'media_url_https': 'https://pbs.twimg.com/media/DmgTOfwVAAAJqoh.jpg', 'url': 'https://t.co/J9lLdszdW6', 'display_url': 'pic.twitter.com/J9lLdszdW6', 'expanded_url': 'https://twitter.com/UltraYOUwoman/status/1038100857932394496/photo/1', 'type': 'photo', 'sizes': {'thumb': {'w': 150, 'h': 150, 'resize': 'crop'}, 'small': {'w': 612, 'h': 612, 'resize': 'fit'}, 'large': {'w': 612, 'h': 612, 'resize': 'fit'}, 'medium': {'w': 612, 'h': 612, 'resize': 'fit'}}}]}\""
      ]
     },
     "execution_count": 58,
     "metadata": {},
     "output_type": "execute_result"
    }
   ],
   "source": [
    "data.tweet_extended_entities[0]"
   ]
  },
  {
   "cell_type": "code",
   "execution_count": 59,
   "metadata": {},
   "outputs": [],
   "source": [
    "t = []\n",
    "for c in data.tweet_entities:\n",
    "    try:\n",
    "        text = yaml.load(c)['hashtags']\n",
    "        for j in text:\n",
    "            t.append(j['text'])\n",
    "    except: continue "
   ]
  },
  {
   "cell_type": "code",
   "execution_count": 60,
   "metadata": {},
   "outputs": [
    {
     "name": "stdout",
     "output_type": "stream",
     "text": [
      "['quote', 'motivation', 'justdoit', 'hero', 'fdny', 'likesforlikes', 'promo', 'music', 'instagood', 'instadaily', 'postoftheday', 'bestoftheday', 'justdoit', 'nike', 'picoftheday', 'justdoit', 'kapernickeffect', 'swoosh', 'justdoit', 'shaquem']\n"
     ]
    }
   ],
   "source": [
    "tokens = []\n",
    "for value in t:\n",
    "    tokens.append(word_tokenize(value))\n",
    "\n",
    "lower_case = []\n",
    "for k in tokens:\n",
    "    for j in k:\n",
    "        lower_case.append(j.lower())\n",
    "        \n",
    "table = str.maketrans('','',string.punctuation)\n",
    "stripped = [w.translate(table) for w in lower_case]\n",
    "words = [word for word in stripped if word.isalpha()]\n",
    "\n",
    "stop_words = set(stopwords.words('english'))\n",
    "words = [w for w in words if not w in stop_words]\n",
    "word_counts = Counter(words)\n",
    "\n",
    "# print first 20\n",
    "print(words[:20])"
   ]
  },
  {
   "cell_type": "code",
   "execution_count": 61,
   "metadata": {
    "scrolled": true
   },
   "outputs": [
    {
     "data": {
      "text/html": [
       "<div>\n",
       "<style>\n",
       "    .dataframe thead tr:only-child th {\n",
       "        text-align: right;\n",
       "    }\n",
       "\n",
       "    .dataframe thead th {\n",
       "        text-align: left;\n",
       "    }\n",
       "\n",
       "    .dataframe tbody tr th {\n",
       "        vertical-align: top;\n",
       "    }\n",
       "</style>\n",
       "<table border=\"1\" class=\"dataframe\">\n",
       "  <thead>\n",
       "    <tr style=\"text-align: right;\">\n",
       "      <th></th>\n",
       "      <th>word</th>\n",
       "      <th>freq</th>\n",
       "    </tr>\n",
       "  </thead>\n",
       "  <tbody>\n",
       "    <tr>\n",
       "      <th>0</th>\n",
       "      <td>justdoit</td>\n",
       "      <td>5048</td>\n",
       "    </tr>\n",
       "    <tr>\n",
       "      <th>1</th>\n",
       "      <td>nike</td>\n",
       "      <td>1102</td>\n",
       "    </tr>\n",
       "    <tr>\n",
       "      <th>2</th>\n",
       "      <td>colinkaepernick</td>\n",
       "      <td>205</td>\n",
       "    </tr>\n",
       "    <tr>\n",
       "      <th>3</th>\n",
       "      <td>kaepernick</td>\n",
       "      <td>132</td>\n",
       "    </tr>\n",
       "    <tr>\n",
       "      <th>4</th>\n",
       "      <td>takeaknee</td>\n",
       "      <td>118</td>\n",
       "    </tr>\n",
       "    <tr>\n",
       "      <th>5</th>\n",
       "      <td>nfl</td>\n",
       "      <td>101</td>\n",
       "    </tr>\n",
       "    <tr>\n",
       "      <th>6</th>\n",
       "      <td>nflkickoff</td>\n",
       "      <td>75</td>\n",
       "    </tr>\n",
       "    <tr>\n",
       "      <th>7</th>\n",
       "      <td>imwithkap</td>\n",
       "      <td>72</td>\n",
       "    </tr>\n",
       "    <tr>\n",
       "      <th>8</th>\n",
       "      <td>nikead</td>\n",
       "      <td>66</td>\n",
       "    </tr>\n",
       "    <tr>\n",
       "      <th>9</th>\n",
       "      <td>nikeboycott</td>\n",
       "      <td>65</td>\n",
       "    </tr>\n",
       "  </tbody>\n",
       "</table>\n",
       "</div>"
      ],
      "text/plain": [
       "              word  freq\n",
       "0         justdoit  5048\n",
       "1             nike  1102\n",
       "2  colinkaepernick   205\n",
       "3       kaepernick   132\n",
       "4        takeaknee   118\n",
       "5              nfl   101\n",
       "6       nflkickoff    75\n",
       "7        imwithkap    72\n",
       "8           nikead    66\n",
       "9      nikeboycott    65"
      ]
     },
     "execution_count": 61,
     "metadata": {},
     "output_type": "execute_result"
    }
   ],
   "source": [
    "hashtag_count = pd.DataFrame(word_counts.most_common(20), columns=['word','freq'])\n",
    "hashtag_count[:10]"
   ]
  },
  {
   "cell_type": "code",
   "execution_count": 62,
   "metadata": {},
   "outputs": [
    {
     "data": {
      "image/png": "[encoded data removed]",
      "text/plain": [
       "<matplotlib.figure.Figure at 0x7f4a18b66cf8>"
      ]
     },
     "metadata": {},
     "output_type": "display_data"
    }
   ],
   "source": [
    "fig = plt.figure(figsize=(15,8))\n",
    "ax = sns.barplot(x='word', y='freq', data=hashtag_count)\n",
    "ax.set_xticklabels(labels=hashtag_count.word,rotation=40)\n",
    "plt.title(\"Frequency of Top 20 Most Common Words in the Nike's Kaepernick Endorsement\")\n",
    "plt.show()"
   ]
  },
  {
   "cell_type": "code",
   "execution_count": 63,
   "metadata": {},
   "outputs": [],
   "source": [
    "# clustering algorithms \n",
    "# from http://ahmedbesbes.com/how-to-mine-newsfeed-data-and-extract-interactive-insights-in-python.html\n",
    "# and from https://www.kaggle.com/limvaljean/charlottesville-and-twitter\n",
    "\n",
    "pd.options.mode.chained_assignment = None\n",
    "# nltk for nlp\n",
    "from nltk.tokenize import word_tokenize, sent_tokenize\n",
    "from nltk.corpus import stopwords\n",
    "# list of stopwords like articles, preposition\n",
    "stop = set(stopwords.words('english'))\n",
    "from string import punctuation\n",
    "from collections import Counter\n",
    "\n",
    "def tokenizer(text):\n",
    "    try:\n",
    "        tokens_ = [word_tokenize(sent) for sent in sent_tokenize(text)]\n",
    "        \n",
    "        tokens = []\n",
    "        for token_by_sent in tokens_:\n",
    "            tokens += token_by_sent\n",
    "\n",
    "        tokens = list(filter(lambda t: t.lower() not in stop, tokens))\n",
    "        tokens = list(filter(lambda t: t not in punctuation, tokens))\n",
    "        tokens = list(filter(lambda t: t not in [u\"'s\", u\"n't\", u\"...\", u\"''\", u'``', u'amp', u'https',\n",
    "                                                u'via', u\"'re\"], tokens))\n",
    "        filtered_tokens = []\n",
    "        for token in tokens:\n",
    "            if re.search('[a-zA-Z]', token):\n",
    "                filtered_tokens.append(token)\n",
    "\n",
    "        filtered_tokens = list(map(lambda token: token.lower(), filtered_tokens))\n",
    "\n",
    "        return filtered_tokens\n",
    "    except Error as e:\n",
    "        print(e)"
   ]
  },
  {
   "cell_type": "code",
   "execution_count": 64,
   "metadata": {
    "scrolled": true
   },
   "outputs": [],
   "source": [
    "tweets['tokens'] = tweets['tweet_full_text'].map(tokenizer)"
   ]
  },
  {
   "cell_type": "code",
   "execution_count": 65,
   "metadata": {},
   "outputs": [
    {
     "name": "stdout",
     "output_type": "stream",
     "text": [
      "full text: done is better than perfect  sheryl sandberg quote motivation justdoit \n",
      "tokens: ['done', 'better', 'perfect', 'sheryl', 'sandberg', 'quote', 'motivation', 'justdoit']\n",
      "\n",
      "full text: shout out to the great fire department and the tour  much love to nyc     hero fdny likesforlikes promo music instagood instadaily postoftheday bestoftheday justdoit nike picoftheday \n",
      "tokens: ['shout', 'great', 'fire', 'department', 'tour', 'much', 'love', 'nyc', 'hero', 'fdny', 'likesforlikes', 'promo', 'music', 'instagood', 'instadaily', 'postoftheday', 'bestoftheday', 'justdoit', 'nike', 'picoftheday']\n",
      "\n",
      "full text: there are some amazingly hilarious nike ad memes happening on my newsfeed  soooo i decided to get a little creative too   justdoit yourmorning yourmemecollection    \n",
      "tokens: ['amazingly', 'hilarious', 'nike', 'ad', 'memes', 'happening', 'newsfeed', 'soooo', 'decided', 'get', 'little', 'creative', 'justdoit', 'yourmorning', 'yourmemecollection']\n",
      "\n",
      "full text: kapernickeffect swoosh justdoit  lucas bishops cigar lounge \n",
      "tokens: ['kapernickeffect', 'swoosh', 'justdoit', 'lucas', 'bishops', 'cigar', 'lounge']\n",
      "\n",
      "full text: one hand one dream the shaquem griffin story    shaquem  nfl seattle seahawks griffin justdoit nike \n",
      "tokens: ['one', 'hand', 'one', 'dream', 'shaquem', 'griffin', 'story', 'shaquem', 'nfl', 'seattle', 'seahawks', 'griffin', 'justdoit', 'nike']\n",
      "\n"
     ]
    }
   ],
   "source": [
    "for full_text, tokens in zip(tweets['tweet_full_text'].head(5), tweets['tokens'].head(5)):\n",
    "    print('full text:', full_text)\n",
    "    print('tokens:', tokens)\n",
    "    print() "
   ]
  },
  {
   "cell_type": "code",
   "execution_count": 66,
   "metadata": {},
   "outputs": [],
   "source": [
    "from sklearn.feature_extraction.text import TfidfVectorizer\n",
    "vectorizer = TfidfVectorizer(min_df=10, max_features=10000, tokenizer=tokenizer, ngram_range=(1, 2))\n",
    "vz = vectorizer.fit_transform(list(tweets['tweet_full_text']))"
   ]
  },
  {
   "cell_type": "code",
   "execution_count": 67,
   "metadata": {},
   "outputs": [],
   "source": [
    "tfidf = dict(zip(vectorizer.get_feature_names(), vectorizer.idf_))\n",
    "tfidf = pd.DataFrame(columns=['tfidf']).from_dict(dict(tfidf), orient='index')\n",
    "tfidf.columns = ['tfidf']"
   ]
  },
  {
   "cell_type": "code",
   "execution_count": 68,
   "metadata": {},
   "outputs": [
    {
     "data": {
      "text/plain": [
       "<matplotlib.axes._subplots.AxesSubplot at 0x7f4a152e8240>"
      ]
     },
     "execution_count": 68,
     "metadata": {},
     "output_type": "execute_result"
    },
    {
     "data": {
      "image/png": "[encoded data removed]",
      "text/plain": [
       "<matplotlib.figure.Figure at 0x7f4a155fc7b8>"
      ]
     },
     "metadata": {},
     "output_type": "display_data"
    }
   ],
   "source": [
    "tfidf.tfidf.hist(bins=50, figsize=(15,7))"
   ]
  },
  {
   "cell_type": "code",
   "execution_count": 69,
   "metadata": {},
   "outputs": [
    {
     "data": {
      "text/html": [
       "<div>\n",
       "<style>\n",
       "    .dataframe thead tr:only-child th {\n",
       "        text-align: right;\n",
       "    }\n",
       "\n",
       "    .dataframe thead th {\n",
       "        text-align: left;\n",
       "    }\n",
       "\n",
       "    .dataframe tbody tr th {\n",
       "        vertical-align: top;\n",
       "    }\n",
       "</style>\n",
       "<table border=\"1\" class=\"dataframe\">\n",
       "  <thead>\n",
       "    <tr style=\"text-align: right;\">\n",
       "      <th></th>\n",
       "      <th>tfidf</th>\n",
       "    </tr>\n",
       "  </thead>\n",
       "  <tbody>\n",
       "    <tr>\n",
       "      <th>hilarious</th>\n",
       "      <td>7.137138</td>\n",
       "    </tr>\n",
       "    <tr>\n",
       "      <th>go justdoit</th>\n",
       "      <td>7.137138</td>\n",
       "    </tr>\n",
       "    <tr>\n",
       "      <th>tough</th>\n",
       "      <td>7.137138</td>\n",
       "    </tr>\n",
       "    <tr>\n",
       "      <th>model</th>\n",
       "      <td>7.137138</td>\n",
       "    </tr>\n",
       "    <tr>\n",
       "      <th>lmao</th>\n",
       "      <td>7.137138</td>\n",
       "    </tr>\n",
       "    <tr>\n",
       "      <th>motivated</th>\n",
       "      <td>7.137138</td>\n",
       "    </tr>\n",
       "    <tr>\n",
       "      <th>branding</th>\n",
       "      <td>7.137138</td>\n",
       "    </tr>\n",
       "    <tr>\n",
       "      <th>abuja</th>\n",
       "      <td>7.137138</td>\n",
       "    </tr>\n",
       "    <tr>\n",
       "      <th>boycottnfl</th>\n",
       "      <td>7.137138</td>\n",
       "    </tr>\n",
       "    <tr>\n",
       "      <th>listentoezra gbmnyc</th>\n",
       "      <td>7.137138</td>\n",
       "    </tr>\n",
       "    <tr>\n",
       "      <th>k</th>\n",
       "      <td>7.137138</td>\n",
       "    </tr>\n",
       "    <tr>\n",
       "      <th>second</th>\n",
       "      <td>7.137138</td>\n",
       "    </tr>\n",
       "    <tr>\n",
       "      <th>bmalmet lady_star_gem</th>\n",
       "      <td>7.137138</td>\n",
       "    </tr>\n",
       "    <tr>\n",
       "      <th>bmalmet</th>\n",
       "      <td>7.137138</td>\n",
       "    </tr>\n",
       "    <tr>\n",
       "      <th>listening</th>\n",
       "      <td>7.137138</td>\n",
       "    </tr>\n",
       "    <tr>\n",
       "      <th>patriotism</th>\n",
       "      <td>7.137138</td>\n",
       "    </tr>\n",
       "    <tr>\n",
       "      <th>jedimasterdre bmalmet</th>\n",
       "      <td>7.137138</td>\n",
       "    </tr>\n",
       "    <tr>\n",
       "      <th>highschoolfootball nikefootball</th>\n",
       "      <td>7.137138</td>\n",
       "    </tr>\n",
       "    <tr>\n",
       "      <th>nation</th>\n",
       "      <td>7.137138</td>\n",
       "    </tr>\n",
       "    <tr>\n",
       "      <th>pill</th>\n",
       "      <td>7.137138</td>\n",
       "    </tr>\n",
       "    <tr>\n",
       "      <th>save</th>\n",
       "      <td>7.137138</td>\n",
       "    </tr>\n",
       "    <tr>\n",
       "      <th>tnf</th>\n",
       "      <td>7.137138</td>\n",
       "    </tr>\n",
       "    <tr>\n",
       "      <th>statement</th>\n",
       "      <td>7.137138</td>\n",
       "    </tr>\n",
       "    <tr>\n",
       "      <th>need justdoit</th>\n",
       "      <td>7.137138</td>\n",
       "    </tr>\n",
       "    <tr>\n",
       "      <th>peaceful protest</th>\n",
       "      <td>7.137138</td>\n",
       "    </tr>\n",
       "    <tr>\n",
       "      <th>disrespect</th>\n",
       "      <td>7.137138</td>\n",
       "    </tr>\n",
       "    <tr>\n",
       "      <th>kap nike</th>\n",
       "      <td>7.137138</td>\n",
       "    </tr>\n",
       "    <tr>\n",
       "      <th>winner</th>\n",
       "      <td>7.137138</td>\n",
       "    </tr>\n",
       "    <tr>\n",
       "      <th>bro</th>\n",
       "      <td>7.137138</td>\n",
       "    </tr>\n",
       "    <tr>\n",
       "      <th>given</th>\n",
       "      <td>7.137138</td>\n",
       "    </tr>\n",
       "  </tbody>\n",
       "</table>\n",
       "</div>"
      ],
      "text/plain": [
       "                                    tfidf\n",
       "hilarious                        7.137138\n",
       "go justdoit                      7.137138\n",
       "tough                            7.137138\n",
       "model                            7.137138\n",
       "lmao                             7.137138\n",
       "motivated                        7.137138\n",
       "branding                         7.137138\n",
       "abuja                            7.137138\n",
       "boycottnfl                       7.137138\n",
       "listentoezra gbmnyc              7.137138\n",
       "k                                7.137138\n",
       "second                           7.137138\n",
       "bmalmet lady_star_gem            7.137138\n",
       "bmalmet                          7.137138\n",
       "listening                        7.137138\n",
       "patriotism                       7.137138\n",
       "jedimasterdre bmalmet            7.137138\n",
       "highschoolfootball nikefootball  7.137138\n",
       "nation                           7.137138\n",
       "pill                             7.137138\n",
       "save                             7.137138\n",
       "tnf                              7.137138\n",
       "statement                        7.137138\n",
       "need justdoit                    7.137138\n",
       "peaceful protest                 7.137138\n",
       "disrespect                       7.137138\n",
       "kap nike                         7.137138\n",
       "winner                           7.137138\n",
       "bro                              7.137138\n",
       "given                            7.137138"
      ]
     },
     "execution_count": 69,
     "metadata": {},
     "output_type": "execute_result"
    }
   ],
   "source": [
    "tfidf.sort_values(by=['tfidf'], ascending=False).head(30)"
   ]
  },
  {
   "cell_type": "code",
   "execution_count": 70,
   "metadata": {},
   "outputs": [],
   "source": [
    "import warnings\n",
    "warnings.filterwarnings(\"ignore\", category=DeprecationWarning)\n",
    "\n",
    "from sklearn.cluster import MiniBatchKMeans\n",
    "\n",
    "num_clusters = 10\n",
    "kmeans_model = MiniBatchKMeans(n_clusters=num_clusters, init='k-means++', n_init=1, \n",
    "                         init_size=1000, batch_size=1000, verbose=False, max_iter=1000)\n",
    "kmeans = kmeans_model.fit(vz)\n",
    "kmeans_clusters = kmeans.predict(vz)\n",
    "kmeans_distances = kmeans.transform(vz)"
   ]
  },
  {
   "cell_type": "code",
   "execution_count": 71,
   "metadata": {},
   "outputs": [
    {
     "name": "stdout",
     "output_type": "stream",
     "text": [
      "Cluster 0:\n",
      "nfl | football | atlvsphi | litgod serious | highschoolfootball | download nfl | nikefootball adidasfootball | adidasfootball stream | adidasfootball | serious lord | \n",
      "\n",
      "Cluster 1:\n",
      "trump | justdoit | president | realdonaldtrump | trump justdoit | nike | thinking | kaepernick | nike justdoit | impeachtrump | \n",
      "\n",
      "Cluster 2:\n",
      "im | nike | justdoit | nike justdoit | new | kaepernick | nike im | done | justdoit nike | colinkaepernick | \n",
      "\n",
      "Cluster 3:\n",
      "kaepernick | commercial | nike | justdoit | nike commercial | colin | kaepernick nike | colin kaepernick | nike kaepernick | kaepernick justdoit | \n",
      "\n",
      "Cluster 4:\n",
      "justdoit | like | dont | get | nike | go | right | people | want | way | \n",
      "\n",
      "Cluster 5:\n",
      "know | sacrifice | nikeboycott | nike | justdoit | believe | believe justdoit | kaepernick | nikeboycott justdoit | pill | \n",
      "\n",
      "Cluster 6:\n",
      "believe something | something | something even | believe | even means | means | means sacrificing | sacrificing | even | sacrificing everything | \n",
      "\n",
      "Cluster 7:\n",
      "nike | nike justdoit | justdoit | crazy | justdoit nike | ask | dreams | crazy enough | enough | dreams crazy | \n",
      "\n",
      "Cluster 8:\n",
      "realdonaldtrump | thinking | justdoit | nike | realdonaldtrump nike | resign | realdonaldtrump thinking | realdonaldtrump justdoit | thinking justdoit | resign justdoit | \n",
      "\n",
      "Cluster 9:\n",
      "justdoit | nike | love | one | serenawilliams | ad | usopen | best | great | friday | \n",
      "\n"
     ]
    }
   ],
   "source": [
    "sorted_centroids = kmeans.cluster_centers_.argsort()[:, ::-1]\n",
    "terms = vectorizer.get_feature_names()\n",
    "for i in range(num_clusters):\n",
    "    print(\"Cluster %d:\" % i)\n",
    "    aux = ''\n",
    "    for j in sorted_centroids[i, :10]:\n",
    "        aux += terms[j] + ' | '\n",
    "    print(aux)\n",
    "    print() "
   ]
  }
 ],
 "metadata": {
  "kernelspec": {
   "display_name": "Python 3",
   "language": "python",
   "name": "python3"
  },
  "language_info": {
   "codemirror_mode": {
    "name": "ipython",
    "version": 3
   },
   "file_extension": ".py",
   "mimetype": "text/x-python",
   "name": "python",
   "nbconvert_exporter": "python",
   "pygments_lexer": "ipython3",
   "version": "3.6.4"
  }
 },
 "nbformat": 4,
 "nbformat_minor": 2
}
