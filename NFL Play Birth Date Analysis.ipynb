{
 "cells": [
  {
   "cell_type": "markdown",
   "metadata": {},
   "source": [
    "# NFL Birthday Analysis\n",
    "I am currently in the SMU Masters Data Science Program and we discussing a topic on observational vs experimental studies, and one of the studies we were analyzing was the study performed on the __relative age effect in athletics__. [Brewer, L. M., and Cochran, J. J.(June 2013), \"August’s Child Is...Favoured by Fortune.\"](https://rss.onlinelibrary.wiley.com/doi/full/10.1111/j.1740-9713.2013.00661.x) Per Lauren M. Bre and James J. Cochran study:\n",
    "\n",
    "    \"This phenomenon has been speculated on for decades, but the recent flurry of systematic scientific studies of the RAE is thought to have started one evening in January 1983 when Roger and Paula Barnsley, both trained psychologists, attended a Canadian Junior Hockey League game. __Glancing through the programme, they noticed that the players had a disproportionately high number of birthdates between January and April.__\"\n",
    "\n",
    "Therefore, this is where we shall start, we seek to investigate: __the relative age effect phonomenon utilizing the population of all NFL players birthday and additional stats to see fixed cut-off effect emerges in the NFL__\n",
    "\n",
    "![](http://www.americanfootballzone.com/wp-content/uploads/2016/12/Terrell-Owens-Best-Celebrations-Happy-Birthday-TO-Celebration-Station-NFL-NOW.jpg)\n",
    "\n",
    "### Background\n",
    "\n",
    "_ need to add information to set the scene on Age-based cohorts and the results found in the published test _\n",
    "\n",
    "\n",
    "Note: I am also utilizing this data set and this notebook as a way to apply my inital learnings from my SMU Masters Data Science Program. \n",
    "\n",
    "### Imports"
   ]
  },
  {
   "cell_type": "code",
   "execution_count": 1,
   "metadata": {},
   "outputs": [],
   "source": [
    "# scrapper \n",
    "import requests\n",
    "from bs4 import BeautifulSoup\n",
    "import json\n",
    "import re\n",
    "\n",
    "import pandas as pd\n",
    "\n",
    "# Data Visualization\n",
    "import seaborn as sns\n",
    "sns.set(style=\"darkgrid\")\n",
    "import matplotlib.pyplot as plt \n",
    "%matplotlib inline\n",
    "from matplotlib import style"
   ]
  },
  {
   "cell_type": "markdown",
   "metadata": {},
   "source": [
    "## Grab NFL Birthday Data"
   ]
  },
  {
   "cell_type": "code",
   "execution_count": 88,
   "metadata": {},
   "outputs": [],
   "source": [
    "def birthday_grabber(month):\n",
    "    birthday = []\n",
    "    for day in range(1,32):\n",
    "        url = 'https://www.pro-football-reference.com/friv/birthdays.cgi?month={}&day={}'.format(month, day)\n",
    "        r = requests.get(url)\n",
    "        soup = BeautifulSoup(r.text, 'html.parser')\n",
    "\n",
    "        tbody = soup.find_all('tbody')\n",
    "        bday = [[td.getText() for td in tbody[i].find_all(['th', 'td'])] for i in range(len(tbody))]\n",
    "        bday = bday[0]\n",
    "\n",
    "        try:\n",
    "            td_counter = 0\n",
    "            row = []\n",
    "            for td in bday:\n",
    "                if td_counter < 26:\n",
    "                    row.append(td)\n",
    "                    td_counter += 1\n",
    "                elif td_counter == 26:\n",
    "                    row.append(td)\n",
    "                    birthday.append(row)\n",
    "                    row = []\n",
    "                    td_counter = 0\n",
    "        except Exception as e: print(e)\n",
    "\n",
    "    return birthday"
   ]
  },
  {
   "cell_type": "code",
   "execution_count": 96,
   "metadata": {},
   "outputs": [],
   "source": [
    "df = {}\n",
    "for month in range(1, 13):\n",
    "    table = birthday_grabber(month)\n",
    "    temp = pd.DataFrame(table)\n",
    "    temp['month'] = month\n",
    "    df[month] = temp\n",
    "new_df = pd.concat(df.values())"
   ]
  },
  {
   "cell_type": "code",
   "execution_count": 105,
   "metadata": {},
   "outputs": [],
   "source": [
    "col = ['rank_row', 'player', 'position', 'born', 'first_year', 'last_year','ap1', 'pb', 'st', 'car_av', 'games','pass_comp', \n",
    "       'pass_att', 'pass_yds','pass_td', 'pass_lng', 'int','sk', 'sk_yds', \n",
    "       'run_att', 'run_yds', 'run_td', 'run_long', 'rec_rec', 'rec_yds', 'rec_td','rec_lng', 'month'\n",
    "      ]\n",
    "new_df.columns = col"
   ]
  },
  {
   "cell_type": "code",
   "execution_count": 109,
   "metadata": {},
   "outputs": [],
   "source": [
    "new_df.to_csv('nfl_birthdays.csv')"
   ]
  },
  {
   "cell_type": "code",
   "execution_count": 40,
   "metadata": {},
   "outputs": [],
   "source": [
    "bday = pd.read_csv('nfl_birthdays.csv', index_col=0)"
   ]
  },
  {
   "cell_type": "code",
   "execution_count": 42,
   "metadata": {},
   "outputs": [],
   "source": [
    "bday = bday.reset_index(drop=False)"
   ]
  },
  {
   "cell_type": "code",
   "execution_count": 43,
   "metadata": {},
   "outputs": [
    {
     "data": {
      "text/html": [
       "<div>\n",
       "<style>\n",
       "    .dataframe thead tr:only-child th {\n",
       "        text-align: right;\n",
       "    }\n",
       "\n",
       "    .dataframe thead th {\n",
       "        text-align: left;\n",
       "    }\n",
       "\n",
       "    .dataframe tbody tr th {\n",
       "        vertical-align: top;\n",
       "    }\n",
       "</style>\n",
       "<table border=\"1\" class=\"dataframe\">\n",
       "  <thead>\n",
       "    <tr style=\"text-align: right;\">\n",
       "      <th></th>\n",
       "      <th>index</th>\n",
       "      <th>rank_row</th>\n",
       "      <th>player</th>\n",
       "      <th>position</th>\n",
       "      <th>born</th>\n",
       "      <th>first_year</th>\n",
       "      <th>last_year</th>\n",
       "      <th>ap1</th>\n",
       "      <th>pb</th>\n",
       "      <th>st</th>\n",
       "      <th>...</th>\n",
       "      <th>sk_yds</th>\n",
       "      <th>run_att</th>\n",
       "      <th>run_yds</th>\n",
       "      <th>run_td</th>\n",
       "      <th>run_long</th>\n",
       "      <th>rec_rec</th>\n",
       "      <th>rec_yds</th>\n",
       "      <th>rec_td</th>\n",
       "      <th>rec_lng</th>\n",
       "      <th>month</th>\n",
       "    </tr>\n",
       "  </thead>\n",
       "  <tbody>\n",
       "    <tr>\n",
       "      <th>0</th>\n",
       "      <td>0</td>\n",
       "      <td>1</td>\n",
       "      <td>Grady Allen</td>\n",
       "      <td>LB</td>\n",
       "      <td>1946</td>\n",
       "      <td>1968</td>\n",
       "      <td>1972</td>\n",
       "      <td>0</td>\n",
       "      <td>0</td>\n",
       "      <td>3</td>\n",
       "      <td>...</td>\n",
       "      <td>NaN</td>\n",
       "      <td>NaN</td>\n",
       "      <td>NaN</td>\n",
       "      <td>NaN</td>\n",
       "      <td>NaN</td>\n",
       "      <td>NaN</td>\n",
       "      <td>NaN</td>\n",
       "      <td>NaN</td>\n",
       "      <td>NaN</td>\n",
       "      <td>1</td>\n",
       "    </tr>\n",
       "    <tr>\n",
       "      <th>1</th>\n",
       "      <td>1</td>\n",
       "      <td>2</td>\n",
       "      <td>Ralph Anderson</td>\n",
       "      <td>E</td>\n",
       "      <td>1937</td>\n",
       "      <td>1958</td>\n",
       "      <td>1960</td>\n",
       "      <td>0</td>\n",
       "      <td>0</td>\n",
       "      <td>2</td>\n",
       "      <td>...</td>\n",
       "      <td>NaN</td>\n",
       "      <td>NaN</td>\n",
       "      <td>NaN</td>\n",
       "      <td>NaN</td>\n",
       "      <td>NaN</td>\n",
       "      <td>55.0</td>\n",
       "      <td>791.0</td>\n",
       "      <td>6.0</td>\n",
       "      <td>46.0</td>\n",
       "      <td>1</td>\n",
       "    </tr>\n",
       "    <tr>\n",
       "      <th>2</th>\n",
       "      <td>2</td>\n",
       "      <td>3</td>\n",
       "      <td>Teddy Andrulewicz</td>\n",
       "      <td>WB</td>\n",
       "      <td>1905</td>\n",
       "      <td>1930</td>\n",
       "      <td>1930</td>\n",
       "      <td>0</td>\n",
       "      <td>0</td>\n",
       "      <td>0</td>\n",
       "      <td>...</td>\n",
       "      <td>NaN</td>\n",
       "      <td>NaN</td>\n",
       "      <td>NaN</td>\n",
       "      <td>NaN</td>\n",
       "      <td>NaN</td>\n",
       "      <td>0.0</td>\n",
       "      <td>0.0</td>\n",
       "      <td>1.0</td>\n",
       "      <td>0.0</td>\n",
       "      <td>1</td>\n",
       "    </tr>\n",
       "    <tr>\n",
       "      <th>3</th>\n",
       "      <td>3</td>\n",
       "      <td>4</td>\n",
       "      <td>Justin Armour</td>\n",
       "      <td>WR</td>\n",
       "      <td>1973</td>\n",
       "      <td>1995</td>\n",
       "      <td>1999</td>\n",
       "      <td>0</td>\n",
       "      <td>0</td>\n",
       "      <td>1</td>\n",
       "      <td>...</td>\n",
       "      <td>0.0</td>\n",
       "      <td>4.0</td>\n",
       "      <td>-5.0</td>\n",
       "      <td>0.0</td>\n",
       "      <td>6.0</td>\n",
       "      <td>64.0</td>\n",
       "      <td>861.0</td>\n",
       "      <td>7.0</td>\n",
       "      <td>54.0</td>\n",
       "      <td>1</td>\n",
       "    </tr>\n",
       "    <tr>\n",
       "      <th>4</th>\n",
       "      <td>4</td>\n",
       "      <td>5</td>\n",
       "      <td>Marvin Austin</td>\n",
       "      <td>DL</td>\n",
       "      <td>1989</td>\n",
       "      <td>2012</td>\n",
       "      <td>2014</td>\n",
       "      <td>0</td>\n",
       "      <td>0</td>\n",
       "      <td>0</td>\n",
       "      <td>...</td>\n",
       "      <td>NaN</td>\n",
       "      <td>NaN</td>\n",
       "      <td>NaN</td>\n",
       "      <td>NaN</td>\n",
       "      <td>NaN</td>\n",
       "      <td>NaN</td>\n",
       "      <td>NaN</td>\n",
       "      <td>NaN</td>\n",
       "      <td>NaN</td>\n",
       "      <td>1</td>\n",
       "    </tr>\n",
       "  </tbody>\n",
       "</table>\n",
       "<p>5 rows × 29 columns</p>\n",
       "</div>"
      ],
      "text/plain": [
       "   index  rank_row             player position  born  first_year  last_year  \\\n",
       "0      0         1        Grady Allen       LB  1946        1968       1972   \n",
       "1      1         2     Ralph Anderson        E  1937        1958       1960   \n",
       "2      2         3  Teddy Andrulewicz       WB  1905        1930       1930   \n",
       "3      3         4      Justin Armour       WR  1973        1995       1999   \n",
       "4      4         5      Marvin Austin       DL  1989        2012       2014   \n",
       "\n",
       "   ap1  pb  st  ...    sk_yds  run_att  run_yds  run_td  run_long  rec_rec  \\\n",
       "0    0   0   3  ...       NaN      NaN      NaN     NaN       NaN      NaN   \n",
       "1    0   0   2  ...       NaN      NaN      NaN     NaN       NaN     55.0   \n",
       "2    0   0   0  ...       NaN      NaN      NaN     NaN       NaN      0.0   \n",
       "3    0   0   1  ...       0.0      4.0     -5.0     0.0       6.0     64.0   \n",
       "4    0   0   0  ...       NaN      NaN      NaN     NaN       NaN      NaN   \n",
       "\n",
       "   rec_yds  rec_td  rec_lng  month  \n",
       "0      NaN     NaN      NaN      1  \n",
       "1    791.0     6.0     46.0      1  \n",
       "2      0.0     1.0      0.0      1  \n",
       "3    861.0     7.0     54.0      1  \n",
       "4      NaN     NaN      NaN      1  \n",
       "\n",
       "[5 rows x 29 columns]"
      ]
     },
     "execution_count": 43,
     "metadata": {},
     "output_type": "execute_result"
    }
   ],
   "source": [
    "bday.head()"
   ]
  },
  {
   "cell_type": "markdown",
   "metadata": {},
   "source": [
    "## Descriptive Statistics for NFL Birthday Analysis\n",
    "\n",
    "To begin our analysis we will leverage the use of descriptive or summary statistics to gain insights into the birthday distribuion for 25,000 players that have played in the NFL. \n",
    "\n",
    "\n",
    "To start of, since we are using `pandas` as our main package for data wrangling, we will leverage the use of the `describe()` function that provides basic descriptive statistics such as:\n",
    "\n",
    "* mean (or average) - provides an easy way to measure the middle of the dataset, commonly known as _\"central tendency\"_. However, one of the mean's weaknesses is that it is prone to distortion by extreme values or outliers\n",
    "\n",
    "* standard deviation (spread) - The std provides a measure on how dispersed the data is from the mean. \n",
    "\n",
    "* Interquartile range - provide insights in the difference between the 75th percentile and the 25th percentile. A percentile is basically a relative score that provides a comparision with how everyone else in the population performed. \n",
    "\n",
    "\n",
    "Below we will call the descriptive statistics function `describe()` for the `month` and `year` all NFL players were born."
   ]
  },
  {
   "cell_type": "code",
   "execution_count": 18,
   "metadata": {},
   "outputs": [
    {
     "data": {
      "text/html": [
       "<div>\n",
       "<style>\n",
       "    .dataframe thead tr:only-child th {\n",
       "        text-align: right;\n",
       "    }\n",
       "\n",
       "    .dataframe thead th {\n",
       "        text-align: left;\n",
       "    }\n",
       "\n",
       "    .dataframe tbody tr th {\n",
       "        vertical-align: top;\n",
       "    }\n",
       "</style>\n",
       "<table border=\"1\" class=\"dataframe\">\n",
       "  <thead>\n",
       "    <tr style=\"text-align: right;\">\n",
       "      <th></th>\n",
       "      <th>month</th>\n",
       "      <th>born</th>\n",
       "    </tr>\n",
       "  </thead>\n",
       "  <tbody>\n",
       "    <tr>\n",
       "      <th>count</th>\n",
       "      <td>25546.000000</td>\n",
       "      <td>25546.000000</td>\n",
       "    </tr>\n",
       "    <tr>\n",
       "      <th>mean</th>\n",
       "      <td>6.477726</td>\n",
       "      <td>1956.567721</td>\n",
       "    </tr>\n",
       "    <tr>\n",
       "      <th>std</th>\n",
       "      <td>3.490489</td>\n",
       "      <td>27.743127</td>\n",
       "    </tr>\n",
       "    <tr>\n",
       "      <th>min</th>\n",
       "      <td>1.000000</td>\n",
       "      <td>1876.000000</td>\n",
       "    </tr>\n",
       "    <tr>\n",
       "      <th>25%</th>\n",
       "      <td>3.000000</td>\n",
       "      <td>1939.000000</td>\n",
       "    </tr>\n",
       "    <tr>\n",
       "      <th>50%</th>\n",
       "      <td>7.000000</td>\n",
       "      <td>1962.000000</td>\n",
       "    </tr>\n",
       "    <tr>\n",
       "      <th>75%</th>\n",
       "      <td>9.000000</td>\n",
       "      <td>1979.000000</td>\n",
       "    </tr>\n",
       "    <tr>\n",
       "      <th>max</th>\n",
       "      <td>12.000000</td>\n",
       "      <td>1998.000000</td>\n",
       "    </tr>\n",
       "  </tbody>\n",
       "</table>\n",
       "</div>"
      ],
      "text/plain": [
       "              month          born\n",
       "count  25546.000000  25546.000000\n",
       "mean       6.477726   1956.567721\n",
       "std        3.490489     27.743127\n",
       "min        1.000000   1876.000000\n",
       "25%        3.000000   1939.000000\n",
       "50%        7.000000   1962.000000\n",
       "75%        9.000000   1979.000000\n",
       "max       12.000000   1998.000000"
      ]
     },
     "execution_count": 18,
     "metadata": {},
     "output_type": "execute_result"
    }
   ],
   "source": [
    "bday[['month','born']].describe()"
   ]
  },
  {
   "cell_type": "markdown",
   "metadata": {},
   "source": [
    "Therefore, from the descriptive statistice produced above, we can see that the average birth month was 6.4 `June` and birth year 1956. As of this analsyis (Nov 2018) the youngest player in the NFL was 20 years old.\n",
    "\n",
    "Below is a visualization as a count plot of all birthday months for players who played at least 7 games."
   ]
  },
  {
   "cell_type": "code",
   "execution_count": 19,
   "metadata": {},
   "outputs": [
    {
     "data": {
      "image/png": "[encoded data removed]",
      "text/plain": [
       "<matplotlib.figure.Figure at 0x7fb1be699b70>"
      ]
     },
     "metadata": {},
     "output_type": "display_data"
    }
   ],
   "source": [
    "sns.catplot(x=\"month\", kind=\"count\", data=bday[bday.games > 7]);"
   ]
  },
  {
   "cell_type": "markdown",
   "metadata": {},
   "source": [
    "Lets see the distribution of birthdays by decade"
   ]
  },
  {
   "cell_type": "code",
   "execution_count": 51,
   "metadata": {},
   "outputs": [
    {
     "data": {
      "image/png": "[encoded data removed]",
      "text/plain": [
       "<matplotlib.figure.Figure at 0x7fb1bebea4a8>"
      ]
     },
     "metadata": {},
     "output_type": "display_data"
    }
   ],
   "source": [
    "# compute the nearest 10 for player's decade birth\n",
    "bday['decade'] = (bday['born'] // 10) * 10\n",
    "\n",
    "# create box chart and plot players birth month disctribution arcross decades\n",
    "plt.figure(figsize=(15,5))\n",
    "sns.boxplot(x=\"decade\", y=\"month\", data=bday)   \n",
    "\n",
    "plt.show()\n",
    "plt.clf()\n",
    "plt.close()"
   ]
  },
  {
   "cell_type": "markdown",
   "metadata": {},
   "source": [
    "### Central Tendancy Measures\n",
    "TBD"
   ]
  },
  {
   "cell_type": "code",
   "execution_count": null,
   "metadata": {},
   "outputs": [],
   "source": []
  }
 ],
 "metadata": {
  "kernelspec": {
   "display_name": "Python 3",
   "language": "python",
   "name": "python3"
  },
  "language_info": {
   "codemirror_mode": {
    "name": "ipython",
    "version": 3
   },
   "file_extension": ".py",
   "mimetype": "text/x-python",
   "name": "python",
   "nbconvert_exporter": "python",
   "pygments_lexer": "ipython3",
   "version": "3.6.4"
  }
 },
 "nbformat": 4,
 "nbformat_minor": 2
}
