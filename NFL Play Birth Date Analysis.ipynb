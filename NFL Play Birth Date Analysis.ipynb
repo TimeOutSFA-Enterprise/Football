{
 "cells": [
  {
   "cell_type": "markdown",
   "metadata": {},
   "source": [
    "# NFL Birthday Analysis\n",
    "I am currently in the SMU Masters Data Science Program and we discussing a topic on observational vs experimental studies, and one of the studies we were analyzing was : \n",
    "\n",
    "[Brewer, L. M., and Cochran, J. J.(June 2013), \"August’s Child Is...Favoured by Fortune.\"](https://rss.onlinelibrary.wiley.com/doi/full/10.1111/j.1740-9713.2013.00661.x)\n",
    "\n",
    "![](http://www.americanfootballzone.com/wp-content/uploads/2016/12/Terrell-Owens-Best-Celebrations-Happy-Birthday-TO-Celebration-Station-NFL-NOW.jpg)"
   ]
  },
  {
   "cell_type": "code",
   "execution_count": 1,
   "metadata": {},
   "outputs": [],
   "source": [
    "# scrapper \n",
    "import requests\n",
    "from bs4 import BeautifulSoup\n",
    "import json\n",
    "import re\n",
    "\n",
    "import pandas as pd\n",
    "\n",
    "# Data Visualization\n",
    "import seaborn as sns\n",
    "sns.set(style=\"darkgrid\")\n",
    "import matplotlib.pyplot as plt \n",
    "%matplotlib inline\n",
    "from matplotlib import style"
   ]
  },
  {
   "cell_type": "markdown",
   "metadata": {},
   "source": [
    "## Grab NFL Birthday Data"
   ]
  },
  {
   "cell_type": "code",
   "execution_count": 88,
   "metadata": {},
   "outputs": [],
   "source": [
    "def birthday_grabber(month):\n",
    "    birthday = []\n",
    "    for day in range(1,32):\n",
    "        url = 'https://www.pro-football-reference.com/friv/birthdays.cgi?month={}&day={}'.format(month, day)\n",
    "        r = requests.get(url)\n",
    "        soup = BeautifulSoup(r.text, 'html.parser')\n",
    "\n",
    "        tbody = soup.find_all('tbody')\n",
    "        bday = [[td.getText() for td in tbody[i].find_all(['th', 'td'])] for i in range(len(tbody))]\n",
    "        bday = bday[0]\n",
    "\n",
    "        try:\n",
    "            td_counter = 0\n",
    "            row = []\n",
    "            for td in bday:\n",
    "                if td_counter < 26:\n",
    "                    row.append(td)\n",
    "                    td_counter += 1\n",
    "                elif td_counter == 26:\n",
    "                    row.append(td)\n",
    "                    birthday.append(row)\n",
    "                    row = []\n",
    "                    td_counter = 0\n",
    "        except Exception as e: print(e)\n",
    "\n",
    "    return birthday"
   ]
  },
  {
   "cell_type": "code",
   "execution_count": 96,
   "metadata": {},
   "outputs": [],
   "source": [
    "df = {}\n",
    "for month in range(1, 13):\n",
    "    table = birthday_grabber(month)\n",
    "    temp = pd.DataFrame(table)\n",
    "    temp['month'] = month\n",
    "    df[month] = temp\n",
    "new_df = pd.concat(df.values())"
   ]
  },
  {
   "cell_type": "code",
   "execution_count": 105,
   "metadata": {},
   "outputs": [],
   "source": [
    "col = ['rank_row', 'player', 'position', 'born', 'first_year', 'last_year','ap1', 'pb', 'st', 'car_av', 'games','pass_comp', \n",
    "       'pass_att', 'pass_yds','pass_td', 'pass_lng', 'int','sk', 'sk_yds', \n",
    "       'run_att', 'run_yds', 'run_td', 'run_long', 'rec_rec', 'rec_yds', 'rec_td','rec_lng', 'month'\n",
    "      ]\n",
    "new_df.columns = col"
   ]
  },
  {
   "cell_type": "code",
   "execution_count": 109,
   "metadata": {},
   "outputs": [],
   "source": [
    "new_df.to_csv('nfl_birthdays.csv')"
   ]
  },
  {
   "cell_type": "code",
   "execution_count": 2,
   "metadata": {},
   "outputs": [],
   "source": [
    "bday = pd.read_csv('nfl_birthdays.csv', index_col=0)"
   ]
  },
  {
   "cell_type": "code",
   "execution_count": 3,
   "metadata": {},
   "outputs": [
    {
     "data": {
      "text/html": [
       "<div>\n",
       "<style>\n",
       "    .dataframe thead tr:only-child th {\n",
       "        text-align: right;\n",
       "    }\n",
       "\n",
       "    .dataframe thead th {\n",
       "        text-align: left;\n",
       "    }\n",
       "\n",
       "    .dataframe tbody tr th {\n",
       "        vertical-align: top;\n",
       "    }\n",
       "</style>\n",
       "<table border=\"1\" class=\"dataframe\">\n",
       "  <thead>\n",
       "    <tr style=\"text-align: right;\">\n",
       "      <th></th>\n",
       "      <th>rank_row</th>\n",
       "      <th>player</th>\n",
       "      <th>position</th>\n",
       "      <th>born</th>\n",
       "      <th>first_year</th>\n",
       "      <th>last_year</th>\n",
       "      <th>ap1</th>\n",
       "      <th>pb</th>\n",
       "      <th>st</th>\n",
       "      <th>car_av</th>\n",
       "      <th>...</th>\n",
       "      <th>sk_yds</th>\n",
       "      <th>run_att</th>\n",
       "      <th>run_yds</th>\n",
       "      <th>run_td</th>\n",
       "      <th>run_long</th>\n",
       "      <th>rec_rec</th>\n",
       "      <th>rec_yds</th>\n",
       "      <th>rec_td</th>\n",
       "      <th>rec_lng</th>\n",
       "      <th>month</th>\n",
       "    </tr>\n",
       "  </thead>\n",
       "  <tbody>\n",
       "    <tr>\n",
       "      <th>0</th>\n",
       "      <td>1</td>\n",
       "      <td>Grady Allen</td>\n",
       "      <td>LB</td>\n",
       "      <td>1946</td>\n",
       "      <td>1968</td>\n",
       "      <td>1972</td>\n",
       "      <td>0</td>\n",
       "      <td>0</td>\n",
       "      <td>3</td>\n",
       "      <td>21</td>\n",
       "      <td>...</td>\n",
       "      <td>NaN</td>\n",
       "      <td>NaN</td>\n",
       "      <td>NaN</td>\n",
       "      <td>NaN</td>\n",
       "      <td>NaN</td>\n",
       "      <td>NaN</td>\n",
       "      <td>NaN</td>\n",
       "      <td>NaN</td>\n",
       "      <td>NaN</td>\n",
       "      <td>1</td>\n",
       "    </tr>\n",
       "    <tr>\n",
       "      <th>1</th>\n",
       "      <td>2</td>\n",
       "      <td>Ralph Anderson</td>\n",
       "      <td>E</td>\n",
       "      <td>1937</td>\n",
       "      <td>1958</td>\n",
       "      <td>1960</td>\n",
       "      <td>0</td>\n",
       "      <td>0</td>\n",
       "      <td>2</td>\n",
       "      <td>7</td>\n",
       "      <td>...</td>\n",
       "      <td>NaN</td>\n",
       "      <td>NaN</td>\n",
       "      <td>NaN</td>\n",
       "      <td>NaN</td>\n",
       "      <td>NaN</td>\n",
       "      <td>55.0</td>\n",
       "      <td>791.0</td>\n",
       "      <td>6.0</td>\n",
       "      <td>46.0</td>\n",
       "      <td>1</td>\n",
       "    </tr>\n",
       "    <tr>\n",
       "      <th>2</th>\n",
       "      <td>3</td>\n",
       "      <td>Teddy Andrulewicz</td>\n",
       "      <td>WB</td>\n",
       "      <td>1905</td>\n",
       "      <td>1930</td>\n",
       "      <td>1930</td>\n",
       "      <td>0</td>\n",
       "      <td>0</td>\n",
       "      <td>0</td>\n",
       "      <td>0</td>\n",
       "      <td>...</td>\n",
       "      <td>NaN</td>\n",
       "      <td>NaN</td>\n",
       "      <td>NaN</td>\n",
       "      <td>NaN</td>\n",
       "      <td>NaN</td>\n",
       "      <td>0.0</td>\n",
       "      <td>0.0</td>\n",
       "      <td>1.0</td>\n",
       "      <td>0.0</td>\n",
       "      <td>1</td>\n",
       "    </tr>\n",
       "    <tr>\n",
       "      <th>3</th>\n",
       "      <td>4</td>\n",
       "      <td>Justin Armour</td>\n",
       "      <td>WR</td>\n",
       "      <td>1973</td>\n",
       "      <td>1995</td>\n",
       "      <td>1999</td>\n",
       "      <td>0</td>\n",
       "      <td>0</td>\n",
       "      <td>1</td>\n",
       "      <td>7</td>\n",
       "      <td>...</td>\n",
       "      <td>0.0</td>\n",
       "      <td>4.0</td>\n",
       "      <td>-5.0</td>\n",
       "      <td>0.0</td>\n",
       "      <td>6.0</td>\n",
       "      <td>64.0</td>\n",
       "      <td>861.0</td>\n",
       "      <td>7.0</td>\n",
       "      <td>54.0</td>\n",
       "      <td>1</td>\n",
       "    </tr>\n",
       "    <tr>\n",
       "      <th>4</th>\n",
       "      <td>5</td>\n",
       "      <td>Marvin Austin</td>\n",
       "      <td>DL</td>\n",
       "      <td>1989</td>\n",
       "      <td>2012</td>\n",
       "      <td>2014</td>\n",
       "      <td>0</td>\n",
       "      <td>0</td>\n",
       "      <td>0</td>\n",
       "      <td>2</td>\n",
       "      <td>...</td>\n",
       "      <td>NaN</td>\n",
       "      <td>NaN</td>\n",
       "      <td>NaN</td>\n",
       "      <td>NaN</td>\n",
       "      <td>NaN</td>\n",
       "      <td>NaN</td>\n",
       "      <td>NaN</td>\n",
       "      <td>NaN</td>\n",
       "      <td>NaN</td>\n",
       "      <td>1</td>\n",
       "    </tr>\n",
       "  </tbody>\n",
       "</table>\n",
       "<p>5 rows × 28 columns</p>\n",
       "</div>"
      ],
      "text/plain": [
       "   rank_row             player position  born  first_year  last_year  ap1  pb  \\\n",
       "0         1        Grady Allen       LB  1946        1968       1972    0   0   \n",
       "1         2     Ralph Anderson        E  1937        1958       1960    0   0   \n",
       "2         3  Teddy Andrulewicz       WB  1905        1930       1930    0   0   \n",
       "3         4      Justin Armour       WR  1973        1995       1999    0   0   \n",
       "4         5      Marvin Austin       DL  1989        2012       2014    0   0   \n",
       "\n",
       "   st  car_av  ...    sk_yds  run_att  run_yds  run_td  run_long  rec_rec  \\\n",
       "0   3      21  ...       NaN      NaN      NaN     NaN       NaN      NaN   \n",
       "1   2       7  ...       NaN      NaN      NaN     NaN       NaN     55.0   \n",
       "2   0       0  ...       NaN      NaN      NaN     NaN       NaN      0.0   \n",
       "3   1       7  ...       0.0      4.0     -5.0     0.0       6.0     64.0   \n",
       "4   0       2  ...       NaN      NaN      NaN     NaN       NaN      NaN   \n",
       "\n",
       "   rec_yds  rec_td  rec_lng  month  \n",
       "0      NaN     NaN      NaN      1  \n",
       "1    791.0     6.0     46.0      1  \n",
       "2      0.0     1.0      0.0      1  \n",
       "3    861.0     7.0     54.0      1  \n",
       "4      NaN     NaN      NaN      1  \n",
       "\n",
       "[5 rows x 28 columns]"
      ]
     },
     "execution_count": 3,
     "metadata": {},
     "output_type": "execute_result"
    }
   ],
   "source": [
    "bday.head()"
   ]
  },
  {
   "cell_type": "code",
   "execution_count": 4,
   "metadata": {},
   "outputs": [
    {
     "data": {
      "text/plain": [
       "count    25546.000000\n",
       "mean      1956.567721\n",
       "std         27.743127\n",
       "min       1876.000000\n",
       "25%       1939.000000\n",
       "50%       1962.000000\n",
       "75%       1979.000000\n",
       "max       1998.000000\n",
       "Name: born, dtype: float64"
      ]
     },
     "execution_count": 4,
     "metadata": {},
     "output_type": "execute_result"
    }
   ],
   "source": [
    "bday.born.describe()"
   ]
  },
  {
   "cell_type": "markdown",
   "metadata": {},
   "source": [
    "As of this analsyis (Nov 2018) the youngest player in the NFL was 20 years old."
   ]
  },
  {
   "cell_type": "code",
   "execution_count": 5,
   "metadata": {},
   "outputs": [
    {
     "data": {
      "text/plain": [
       "count    25546.000000\n",
       "mean      1983.503249\n",
       "std         27.796302\n",
       "min       1920.000000\n",
       "25%       1966.000000\n",
       "50%       1987.000000\n",
       "75%       2007.000000\n",
       "max       2018.000000\n",
       "Name: last_year, dtype: float64"
      ]
     },
     "execution_count": 5,
     "metadata": {},
     "output_type": "execute_result"
    }
   ],
   "source": [
    "bday.last_year.describe()"
   ]
  },
  {
   "cell_type": "markdown",
   "metadata": {},
   "source": [
    "## Birthday Analysis"
   ]
  },
  {
   "cell_type": "code",
   "execution_count": 6,
   "metadata": {},
   "outputs": [
    {
     "data": {
      "image/png": "[encoded data removed]",
      "text/plain": [
       "<matplotlib.figure.Figure at 0x7fd64269ff98>"
      ]
     },
     "metadata": {},
     "output_type": "display_data"
    }
   ],
   "source": [
    "sns.catplot(x=\"month\", kind=\"count\", palette=\"ch:.25\", data=bday[bday.games > 7]);"
   ]
  },
  {
   "cell_type": "markdown",
   "metadata": {},
   "source": [
    "Active players birthdays"
   ]
  },
  {
   "cell_type": "code",
   "execution_count": 7,
   "metadata": {},
   "outputs": [
    {
     "data": {
      "image/png": "[encoded data removed]",
      "text/plain": [
       "<matplotlib.figure.Figure at 0x7fd643daebe0>"
      ]
     },
     "metadata": {},
     "output_type": "display_data"
    }
   ],
   "source": [
    "sns.catplot(x=\"month\", kind=\"count\", palette=\"ch:.25\", data=bday[bday.last_year == 2018]);"
   ]
  },
  {
   "cell_type": "markdown",
   "metadata": {},
   "source": [
    "Quarterback distribution of birthdays."
   ]
  },
  {
   "cell_type": "code",
   "execution_count": 8,
   "metadata": {
    "scrolled": true
   },
   "outputs": [
    {
     "data": {
      "image/png": "[encoded data removed]",
      "text/plain": [
       "<matplotlib.figure.Figure at 0x7fd643c9bf60>"
      ]
     },
     "metadata": {},
     "output_type": "display_data"
    }
   ],
   "source": [
    "sns.catplot(x=\"month\", kind=\"count\", data=bday[bday.position=='QB']);"
   ]
  },
  {
   "cell_type": "markdown",
   "metadata": {},
   "source": [
    "Lets see the distribution of birthdays by decade"
   ]
  },
  {
   "cell_type": "code",
   "execution_count": 18,
   "metadata": {},
   "outputs": [],
   "source": [
    "# NEAREST 10 FOR DECADE START\n",
    "bday['decade_start'] = (bday['born'] // 10) * 10 + 1"
   ]
  },
  {
   "cell_type": "code",
   "execution_count": 15,
   "metadata": {},
   "outputs": [
    {
     "data": {
      "text/plain": [
       "decade_start\n",
       "1871    7.000000\n",
       "1881    7.458333\n",
       "1891    6.773319\n",
       "1901    6.241141\n",
       "1911    6.666188\n",
       "1921    6.293223\n",
       "1931    6.363696\n",
       "1941    6.531646\n",
       "1951    6.366391\n",
       "1961    6.436613\n",
       "1971    6.592486\n",
       "1981    6.635589\n",
       "1991    6.270593\n",
       "Name: month, dtype: float64"
      ]
     },
     "execution_count": 15,
     "metadata": {},
     "output_type": "execute_result"
    }
   ],
   "source": [
    "bday.groupby('decade_start').month.mean()"
   ]
  },
  {
   "cell_type": "code",
   "execution_count": 17,
   "metadata": {},
   "outputs": [
    {
     "data": {
      "image/png": "[encoded data removed]",
      "text/plain": [
       "<matplotlib.figure.Figure at 0x7fd643ae3b70>"
      ]
     },
     "metadata": {},
     "output_type": "display_data"
    }
   ],
   "source": [
    "plt.figure(figsize=(15,5))\n",
    "sns.boxplot(x=\"decade_start\", y=\"month\", data=bday)   \n",
    "\n",
    "plt.show()\n",
    "plt.clf()\n",
    "plt.close()"
   ]
  },
  {
   "cell_type": "code",
   "execution_count": 12,
   "metadata": {},
   "outputs": [
    {
     "data": {
      "text/plain": [
       "count    25546.000000\n",
       "mean      1953.173726\n",
       "std         27.978260\n",
       "min       1871.000000\n",
       "25%       1931.000000\n",
       "50%       1961.000000\n",
       "75%       1971.000000\n",
       "max       1991.000000\n",
       "Name: decade_start, dtype: float64"
      ]
     },
     "execution_count": 12,
     "metadata": {},
     "output_type": "execute_result"
    }
   ],
   "source": [
    "bday.decade_start.describe()"
   ]
  }
 ],
 "metadata": {
  "kernelspec": {
   "display_name": "Python 3",
   "language": "python",
   "name": "python3"
  },
  "language_info": {
   "codemirror_mode": {
    "name": "ipython",
    "version": 3
   },
   "file_extension": ".py",
   "mimetype": "text/x-python",
   "name": "python",
   "nbconvert_exporter": "python",
   "pygments_lexer": "ipython3",
   "version": "3.6.4"
  }
 },
 "nbformat": 4,
 "nbformat_minor": 2
}
