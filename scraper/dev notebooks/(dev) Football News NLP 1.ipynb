{
 "cells": [
  {
   "cell_type": "markdown",
   "metadata": {},
   "source": [
    "![](https://3qeqpr26caki16dnhd19sv6by6v-wpengine.netdna-ssl.com/wp-content/uploads/2016/08/Text-Generation-With-LSTM-Recurrent-Neural-Networks-in-Python-with-Keras.jpg)\n",
    "\n",
    "Thanks for the help [DF Sarkar](https://towardsdatascience.com/a-practitioners-guide-to-natural-language-processing-part-i-processing-understanding-text-9f4abfd13e72)"
   ]
  },
  {
   "cell_type": "code",
   "execution_count": 27,
   "metadata": {},
   "outputs": [],
   "source": [
    "import pandas as pd"
   ]
  },
  {
   "cell_type": "code",
   "execution_count": 3,
   "metadata": {},
   "outputs": [],
   "source": [
    "doc =[\n",
    "    'hawks',\n",
    "    'patriots',\n",
    "    'steelers',\n",
    "    'cheese',\n",
    "    'panthers',\n",
    "    'cardinals'\n",
    "    \n",
    "]"
   ]
  },
  {
   "cell_type": "code",
   "execution_count": null,
   "metadata": {},
   "outputs": [],
   "source": [
    "import json\n",
    "def open_json(label):\n",
    "    doc = json.dumps(doc, indent=4, sort_keys=True, default=str)\n",
    "    with open(label+'_news.json', 'w') as outfile:\n",
    "        json.dump(doc, outfile)"
   ]
  },
  {
   "cell_type": "code",
   "execution_count": 18,
   "metadata": {},
   "outputs": [],
   "source": [
    "import json\n",
    "from pprint import pprint\n",
    "def open_json(doc):\n",
    "    with open(doc+'_news.json', encoding='utf-8') as f:\n",
    "        doc = json.load(f)\n",
    "    doc = json.loads(doc)\n",
    "    return doc"
   ]
  },
  {
   "cell_type": "code",
   "execution_count": 23,
   "metadata": {},
   "outputs": [],
   "source": [
    "# [open_json(x) for x in doc]\n",
    "hawks = open_json('hawks')\n",
    "patriots = open_json('patriots')\n",
    "steelers = open_json('steelers')\n",
    "cheese = open_json('cheese')\n",
    "panthers = open_json('panthers')\n",
    "cardinals = open_json('cardinals')\n"
   ]
  },
  {
   "cell_type": "code",
   "execution_count": 24,
   "metadata": {},
   "outputs": [
    {
     "data": {
      "text/plain": [
       "{'date': '2018-08-22 00:00:00',\n",
       " 'keywords': ['thing',\n",
       "  'mock',\n",
       "  'hit',\n",
       "  'midpreseason',\n",
       "  'followed',\n",
       "  'watch',\n",
       "  'seahawks',\n",
       "  'vs',\n",
       "  'draft',\n",
       "  '3000',\n",
       "  'thats',\n",
       "  'rob',\n",
       "  'weeks',\n",
       "  'nfl',\n",
       "  'vikings',\n",
       "  'twitter'],\n",
       " 'text': 'A new episode of 3000 NFL Mock Draft: A Seahawks Podcast!\\n\\nMe and Rob discuss Seattle’s loss to the Chargers, Germain Ifedi vs George Fant, Rasheem’s Green rapid development at defensive end, and more. Then go into what to expect in the next two preseason games, while Rob answers some quick-hit questions from me about who will make the team and whether that’s a good thing or a bad thing. Followed by some players to watch in next week’s NCAA opening schedule.\\n\\nThe Seahawks play the Minnesota Vikings on Friday at 5 PM PST, followed by the finale next Thursday against Marshawn Lynch and the Raiders.\\n\\nIf you like the show and want to support it, please consider donating to the Patreon. Follow Field Gulls on Twitter and Facebook. Rob on Twitter and a link to SeahawksDraftBlog.\\n\\nSubscribe to the show on iTunes by searching for Seaside Chats with Kenneth Arthur!',\n",
       " 'title': '3000 NFL Mock Draft: Seahawks hit midpreseason',\n",
       " 'url': 'https://www.fieldgulls.com/2018/8/22/17772216/3000-nfl-mock-draft-seahawks-hit-midpreseason-podcast-chargers-vikings-preview-nfl'}"
      ]
     },
     "execution_count": 24,
     "metadata": {},
     "output_type": "execute_result"
    }
   ],
   "source": [
    "hawks[0]"
   ]
  },
  {
   "cell_type": "markdown",
   "metadata": {},
   "source": [
    "## Build Dataset"
   ]
  },
  {
   "cell_type": "code",
   "execution_count": null,
   "metadata": {},
   "outputs": [],
   "source": [
    "doc =[\n",
    "    'hawks',\n",
    "    'patriots',\n",
    "    'steelers',\n",
    "    'cheese',\n",
    "    'panthers',\n",
    "    'cardinals'\n",
    "    \n",
    "]"
   ]
  },
  {
   "cell_type": "code",
   "execution_count": 52,
   "metadata": {},
   "outputs": [],
   "source": [
    "hawks_df = pd.DataFrame(hawks)\n",
    "hawks_df['team'] = 'seahawks'\n",
    "df['seahawks'] = hawks_df\n",
    "\n",
    "patriots_df = pd.DataFrame(patriots)\n",
    "patriots_df['team'] = 'patriots'\n",
    "df['patriots'] = patriots_df\n",
    "\n",
    "steelers_df = pd.DataFrame(steelers)\n",
    "steelers_df['team'] = 'steelers'\n",
    "df['steelers'] = steelers_df\n",
    "\n",
    "cheese_df = pd.DataFrame(cheese)\n",
    "cheese_df['team'] = 'cheese'\n",
    "df['cheese'] = cheese_df\n",
    "\n",
    "panthers_df = pd.DataFrame(panthers)\n",
    "panthers_df['team'] = 'panthers'\n",
    "df['panthers'] = panthers_df\n",
    "\n",
    "cardinals_df = pd.DataFrame(cardinals)\n",
    "cardinals_df['team'] = 'cardinals'\n",
    "df['cardinals'] = cardinals_df\n",
    "\n",
    "new_df = pd.concat(df.values())"
   ]
  },
  {
   "cell_type": "code",
   "execution_count": 53,
   "metadata": {},
   "outputs": [
    {
     "data": {
      "text/html": [
       "<div>\n",
       "<style>\n",
       "    .dataframe thead tr:only-child th {\n",
       "        text-align: right;\n",
       "    }\n",
       "\n",
       "    .dataframe thead th {\n",
       "        text-align: left;\n",
       "    }\n",
       "\n",
       "    .dataframe tbody tr th {\n",
       "        vertical-align: top;\n",
       "    }\n",
       "</style>\n",
       "<table border=\"1\" class=\"dataframe\">\n",
       "  <thead>\n",
       "    <tr style=\"text-align: right;\">\n",
       "      <th></th>\n",
       "      <th>date</th>\n",
       "      <th>keywords</th>\n",
       "      <th>text</th>\n",
       "      <th>title</th>\n",
       "      <th>url</th>\n",
       "      <th>team</th>\n",
       "    </tr>\n",
       "  </thead>\n",
       "  <tbody>\n",
       "    <tr>\n",
       "      <th>0</th>\n",
       "      <td>2018-08-22 00:00:00</td>\n",
       "      <td>[thing, mock, hit, midpreseason, followed, wat...</td>\n",
       "      <td>A new episode of 3000 NFL Mock Draft: A Seahaw...</td>\n",
       "      <td>3000 NFL Mock Draft: Seahawks hit midpreseason</td>\n",
       "      <td>https://www.fieldgulls.com/2018/8/22/17772216/...</td>\n",
       "      <td>seahawks</td>\n",
       "    </tr>\n",
       "    <tr>\n",
       "      <th>1</th>\n",
       "      <td>2018-08-22 00:00:00</td>\n",
       "      <td>[season, know, 2018, good, nfl, game, wont, zo...</td>\n",
       "      <td>The Seahawks knew they wouldn’t need Nick Vann...</td>\n",
       "      <td>NFL breakout players 2018: Seahawks have a new...</td>\n",
       "      <td>https://www.sbnation.com/nfl/2018/8/22/1765323...</td>\n",
       "      <td>seahawks</td>\n",
       "    </tr>\n",
       "    <tr>\n",
       "      <th>2</th>\n",
       "      <td>2018-08-22 00:00:00</td>\n",
       "      <td>[season, know, 2018, good, nfl, game, wont, zo...</td>\n",
       "      <td>The Seahawks knew they wouldn’t need Nick Vann...</td>\n",
       "      <td>NFL breakout players 2018: Seahawks have a new...</td>\n",
       "      <td>https://www.sbnation.com/nfl/2018/8/22/1765323...</td>\n",
       "      <td>seahawks</td>\n",
       "    </tr>\n",
       "    <tr>\n",
       "      <th>3</th>\n",
       "      <td>2018-08-22 00:00:00</td>\n",
       "      <td>[tape, seattle, play, darrell, bevell, defensi...</td>\n",
       "      <td>There’s excitement and intrigue surrounding th...</td>\n",
       "      <td>Seahawks on tape: Seattle’s offense should kee...</td>\n",
       "      <td>https://www.fieldgulls.com/2018/8/22/17770004/...</td>\n",
       "      <td>seahawks</td>\n",
       "    </tr>\n",
       "    <tr>\n",
       "      <th>4</th>\n",
       "      <td>2018-08-22 00:00:00</td>\n",
       "      <td>[tape, seattle, play, darrell, bevell, defensi...</td>\n",
       "      <td>There’s excitement and intrigue surrounding th...</td>\n",
       "      <td>Seahawks on tape: Seattle’s offense should kee...</td>\n",
       "      <td>https://www.fieldgulls.com/2018/8/22/17770004/...</td>\n",
       "      <td>seahawks</td>\n",
       "    </tr>\n",
       "  </tbody>\n",
       "</table>\n",
       "</div>"
      ],
      "text/plain": [
       "                  date                                           keywords  \\\n",
       "0  2018-08-22 00:00:00  [thing, mock, hit, midpreseason, followed, wat...   \n",
       "1  2018-08-22 00:00:00  [season, know, 2018, good, nfl, game, wont, zo...   \n",
       "2  2018-08-22 00:00:00  [season, know, 2018, good, nfl, game, wont, zo...   \n",
       "3  2018-08-22 00:00:00  [tape, seattle, play, darrell, bevell, defensi...   \n",
       "4  2018-08-22 00:00:00  [tape, seattle, play, darrell, bevell, defensi...   \n",
       "\n",
       "                                                text  \\\n",
       "0  A new episode of 3000 NFL Mock Draft: A Seahaw...   \n",
       "1  The Seahawks knew they wouldn’t need Nick Vann...   \n",
       "2  The Seahawks knew they wouldn’t need Nick Vann...   \n",
       "3  There’s excitement and intrigue surrounding th...   \n",
       "4  There’s excitement and intrigue surrounding th...   \n",
       "\n",
       "                                               title  \\\n",
       "0     3000 NFL Mock Draft: Seahawks hit midpreseason   \n",
       "1  NFL breakout players 2018: Seahawks have a new...   \n",
       "2  NFL breakout players 2018: Seahawks have a new...   \n",
       "3  Seahawks on tape: Seattle’s offense should kee...   \n",
       "4  Seahawks on tape: Seattle’s offense should kee...   \n",
       "\n",
       "                                                 url      team  \n",
       "0  https://www.fieldgulls.com/2018/8/22/17772216/...  seahawks  \n",
       "1  https://www.sbnation.com/nfl/2018/8/22/1765323...  seahawks  \n",
       "2  https://www.sbnation.com/nfl/2018/8/22/1765323...  seahawks  \n",
       "3  https://www.fieldgulls.com/2018/8/22/17770004/...  seahawks  \n",
       "4  https://www.fieldgulls.com/2018/8/22/17770004/...  seahawks  "
      ]
     },
     "execution_count": 53,
     "metadata": {},
     "output_type": "execute_result"
    }
   ],
   "source": [
    "new_df.head()"
   ]
  },
  {
   "cell_type": "markdown",
   "metadata": {},
   "source": [
    "remove duplicate articles"
   ]
  },
  {
   "cell_type": "code",
   "execution_count": 159,
   "metadata": {},
   "outputs": [],
   "source": [
    "nfl = new_df.drop_duplicates(subset='text')"
   ]
  },
  {
   "cell_type": "markdown",
   "metadata": {},
   "source": [
    "searching for keywords"
   ]
  },
  {
   "cell_type": "code",
   "execution_count": 167,
   "metadata": {
    "scrolled": true
   },
   "outputs": [
    {
     "data": {
      "text/html": [
       "<div>\n",
       "<style>\n",
       "    .dataframe thead tr:only-child th {\n",
       "        text-align: right;\n",
       "    }\n",
       "\n",
       "    .dataframe thead th {\n",
       "        text-align: left;\n",
       "    }\n",
       "\n",
       "    .dataframe tbody tr th {\n",
       "        vertical-align: top;\n",
       "    }\n",
       "</style>\n",
       "<table border=\"1\" class=\"dataframe\">\n",
       "  <thead>\n",
       "    <tr style=\"text-align: right;\">\n",
       "      <th></th>\n",
       "      <th>date</th>\n",
       "      <th>keywords</th>\n",
       "      <th>text</th>\n",
       "      <th>title</th>\n",
       "      <th>url</th>\n",
       "      <th>team</th>\n",
       "      <th>clean_text</th>\n",
       "    </tr>\n",
       "  </thead>\n",
       "  <tbody>\n",
       "    <tr>\n",
       "      <th>127</th>\n",
       "      <td>2018-08-22 00:00:00</td>\n",
       "      <td>[makes, way, happen, sign, thinks, think, rout...</td>\n",
       "      <td>The Patriots should sign Dez Bryant. It couldn...</td>\n",
       "      <td>Dez Bryant to the Patriots makes way too much ...</td>\n",
       "      <td>https://www.patspulpit.com/2018/8/22/17770742/...</td>\n",
       "      <td>patriots</td>\n",
       "      <td>patriot sign dez bryant could not obvious not ...</td>\n",
       "    </tr>\n",
       "    <tr>\n",
       "      <th>131</th>\n",
       "      <td>2018-08-22 00:00:00</td>\n",
       "      <td>[makes, way, midpreseason, roster, form, wont,...</td>\n",
       "      <td>Dez Bryant to the Patriots makes way too much ...</td>\n",
       "      <td>New England Patriots links 8/22/18 - 53-Man ro...</td>\n",
       "      <td>https://www.patspulpit.com/2018/8/22/17768074/...</td>\n",
       "      <td>patriots</td>\n",
       "      <td>dez bryant patriot make way much sense happen ...</td>\n",
       "    </tr>\n",
       "    <tr>\n",
       "      <th>163</th>\n",
       "      <td>2018-04-15 00:00:00</td>\n",
       "      <td>[season, panthers, carolina, play, free, agenc...</td>\n",
       "      <td>The Carolina Panthers are not expected to purs...</td>\n",
       "      <td>NFL free agency: Carolina Panthers not expecte...</td>\n",
       "      <td>https://www.catscratchreader.com/2018/4/15/172...</td>\n",
       "      <td>panthers</td>\n",
       "      <td>carolina panther not expect pursue recently re...</td>\n",
       "    </tr>\n",
       "  </tbody>\n",
       "</table>\n",
       "</div>"
      ],
      "text/plain": [
       "                    date                                           keywords  \\\n",
       "127  2018-08-22 00:00:00  [makes, way, happen, sign, thinks, think, rout...   \n",
       "131  2018-08-22 00:00:00  [makes, way, midpreseason, roster, form, wont,...   \n",
       "163  2018-04-15 00:00:00  [season, panthers, carolina, play, free, agenc...   \n",
       "\n",
       "                                                  text  \\\n",
       "127  The Patriots should sign Dez Bryant. It couldn...   \n",
       "131  Dez Bryant to the Patriots makes way too much ...   \n",
       "163  The Carolina Panthers are not expected to purs...   \n",
       "\n",
       "                                                 title  \\\n",
       "127  Dez Bryant to the Patriots makes way too much ...   \n",
       "131  New England Patriots links 8/22/18 - 53-Man ro...   \n",
       "163  NFL free agency: Carolina Panthers not expecte...   \n",
       "\n",
       "                                                   url      team  \\\n",
       "127  https://www.patspulpit.com/2018/8/22/17770742/...  patriots   \n",
       "131  https://www.patspulpit.com/2018/8/22/17768074/...  patriots   \n",
       "163  https://www.catscratchreader.com/2018/4/15/172...  panthers   \n",
       "\n",
       "                                            clean_text  \n",
       "127  patriot sign dez bryant could not obvious not ...  \n",
       "131  dez bryant patriot make way much sense happen ...  \n",
       "163  carolina panther not expect pursue recently re...  "
      ]
     },
     "execution_count": 167,
     "metadata": {},
     "output_type": "execute_result"
    }
   ],
   "source": [
    "nfl[nfl.keywords.apply(lambda x: 'bryant' in x)]"
   ]
  },
  {
   "cell_type": "markdown",
   "metadata": {},
   "source": [
    "## Text Wrangling & Preprocessing"
   ]
  },
  {
   "cell_type": "code",
   "execution_count": 56,
   "metadata": {},
   "outputs": [],
   "source": [
    "import spacy\n",
    "import pandas as pd\n",
    "import numpy as np\n",
    "import nltk\n",
    "from nltk.tokenize.toktok import ToktokTokenizer\n",
    "import re\n",
    "from bs4 import BeautifulSoup\n",
    "from contractions import CONTRACTION_MAP\n",
    "import unicodedata\n",
    "nlp = spacy.load('en', parse=True, tag=True, entity=True)\n",
    "#nlp_vec = spacy.load('en_vecs', parse = True, tag=True, #entity=True)\n",
    "tokenizer = ToktokTokenizer()\n",
    "stopword_list = nltk.corpus.stopwords.words('english')\n",
    "stopword_list.remove('no')\n",
    "stopword_list.remove('not')"
   ]
  },
  {
   "cell_type": "code",
   "execution_count": 62,
   "metadata": {},
   "outputs": [],
   "source": [
    "# https://towardsdatascience.com/a-practitioners-guide-to-natural-language-processing-part-i-processing-understanding-text-9f4abfd13e72\n",
    "def strip_html_tags(text):\n",
    "    soup = BeautifulSoup(text, \"html.parser\")\n",
    "    stripped_text = soup.get_text()\n",
    "    return stripped_text\n",
    "\n",
    "def simple_stemmer(text):\n",
    "    ps = nltk.porter.PorterStemmer()\n",
    "    text = ' '.join([ps.stem(word) for word in text.split()])\n",
    "    return text\n",
    "\n",
    "def lemmatize_text(text):\n",
    "    text = nlp(text)\n",
    "    text = ' '.join([word.lemma_ if word.lemma_ != '-PRON-' else word.text for word in text])\n",
    "    return text\n",
    "\n",
    "def remove_accented_chars(text):\n",
    "    text = unicodedata.normalize('NFKD', text).encode('ascii', 'ignore').decode('utf-8', 'ignore')\n",
    "    return text\n",
    "\n",
    "def remove_stopwords(text, is_lower_case=False):\n",
    "    tokens = tokenizer.tokenize(text)\n",
    "    tokens = [token.strip() for token in tokens]\n",
    "    if is_lower_case:\n",
    "        filtered_tokens = [token for token in tokens if token not in stopword_list]\n",
    "    else:\n",
    "        filtered_tokens = [token for token in tokens if token.lower() not in stopword_list]\n",
    "    filtered_text = ' '.join(filtered_tokens)    \n",
    "    return filtered_text\n",
    "\n",
    "def expand_contractions(text, contraction_mapping=CONTRACTION_MAP):\n",
    "    \n",
    "    contractions_pattern = re.compile('({})'.format('|'.join(contraction_mapping.keys())), \n",
    "                                      flags=re.IGNORECASE|re.DOTALL)\n",
    "    def expand_match(contraction):\n",
    "        match = contraction.group(0)\n",
    "        first_char = match[0]\n",
    "        expanded_contraction = contraction_mapping.get(match)\\\n",
    "                                if contraction_mapping.get(match)\\\n",
    "                                else contraction_mapping.get(match.lower())                       \n",
    "        expanded_contraction = first_char+expanded_contraction[1:]\n",
    "        return expanded_contraction\n",
    "        \n",
    "    expanded_text = contractions_pattern.sub(expand_match, text)\n",
    "    expanded_text = re.sub(\"'\", \"\", expanded_text)\n",
    "    return expanded_text\n",
    "\n",
    "def remove_special_characters(text, remove_digits=False):\n",
    "    pattern = r'[^a-zA-z0-9\\s]' if not remove_digits else r'[^a-zA-z\\s]'\n",
    "    text = re.sub(pattern, '', text)\n",
    "    return text"
   ]
  },
  {
   "cell_type": "code",
   "execution_count": 63,
   "metadata": {},
   "outputs": [],
   "source": [
    "def normalize_corpus(corpus, html_stripping=True, contraction_expansion=True,\n",
    "                     accented_char_removal=True, text_lower_case=True, \n",
    "                     text_lemmatization=True, special_char_removal=True, \n",
    "                     stopword_removal=True, remove_digits=True):\n",
    "    \n",
    "    normalized_corpus = []\n",
    "    # normalize each document in the corpus\n",
    "    for doc in corpus:\n",
    "        # strip HTML\n",
    "        if html_stripping:\n",
    "            doc = strip_html_tags(doc)\n",
    "        # remove accented characters\n",
    "        if accented_char_removal:\n",
    "            doc = remove_accented_chars(doc)\n",
    "        # expand contractions    \n",
    "        if contraction_expansion:\n",
    "            doc = expand_contractions(doc)\n",
    "        # lowercase the text    \n",
    "        if text_lower_case:\n",
    "            doc = doc.lower()\n",
    "        # remove extra newlines\n",
    "        doc = re.sub(r'[\\r|\\n|\\r\\n]+', ' ',doc)\n",
    "        # lemmatize text\n",
    "        if text_lemmatization:\n",
    "            doc = lemmatize_text(doc)\n",
    "        # remove special characters and\\or digits    \n",
    "        if special_char_removal:\n",
    "            # insert spaces between special characters to isolate them    \n",
    "            special_char_pattern = re.compile(r'([{.(-)!}])')\n",
    "            doc = special_char_pattern.sub(\" \\\\1 \", doc)\n",
    "            doc = remove_special_characters(doc, remove_digits=remove_digits)  \n",
    "        # remove extra whitespace\n",
    "        doc = re.sub(' +', ' ', doc)\n",
    "        # remove stopwords\n",
    "        if stopword_removal:\n",
    "            doc = remove_stopwords(doc, is_lower_case=text_lower_case)\n",
    "            \n",
    "        normalized_corpus.append(doc)\n",
    "        \n",
    "    return normalized_corpus"
   ]
  },
  {
   "cell_type": "code",
   "execution_count": 60,
   "metadata": {},
   "outputs": [],
   "source": [
    "news_df = new_df"
   ]
  },
  {
   "cell_type": "code",
   "execution_count": 64,
   "metadata": {},
   "outputs": [],
   "source": [
    "news_df['clean_text'] = normalize_corpus(news_df['text'])\n",
    "norm_corpus = list(news_df['clean_text'])"
   ]
  },
  {
   "cell_type": "code",
   "execution_count": 65,
   "metadata": {
    "scrolled": true
   },
   "outputs": [
    {
     "data": {
      "text/plain": [
       "{'clean_text': 'seahawk know would not need nick vannett set world fire right away spend third round pick vannett year trade jimmy graham first season vannett low fourth depth chart time behind graham luke willson brandon william last spring william sign colt allow vannett move least third team make decent contribution team primarily extra blocker run play even end start four game head season graham willson go finally vannetts time excellent opportunity step full time starter role season flourish offense predict next breakout star nfl team retire nfl defensive end stephen white grind tape summer figure player poise big leap forward team breakout player pound vannett give seattle quarterback russell wilson huge target pass game vannett not big lug either look fluid fast running route field pretty good hand well unlike graham vannett also damn good blocker mean not liability seahawk want run ball vannett probably not ever receive threat graham lot well rounded graham may not make spectacular catch plenty opportunity make gang routine reception season interesting no way know vannett ceiling right not really lot playing time target last season not get many rep pass game catch yard touchdown game stay healthy season may come close get target one game starter end last year essentially third team guy know may well guy make spectacular graham esque catch not give chance till combination size athleticism certainly good chance vannett actually end one hell red zone threat know sure watch tape kid not seem lack confidence swagger least not think pressure starter bother either fact may well thrive vannett make routine catch starter season see huge jump production think go much year however confidence level high',\n",
       " 'text': 'The Seahawks knew they wouldn’t need Nick Vannett to set the world on fire right away. They spent a third-round pick on Vannett in 2016, a year after they traded for Jimmy Graham. That first season, Vannett was as low as fourth on the depth chart at times behind Graham, Luke Willson, and Brandon Williams.\\n\\nLast spring, Williams signed with the Colts, which allowed Vannett to move up to at least third team and make a decent contribution to the team, primarily as an extra blocker on running plays. He even ended up starting four games.\\n\\nHeading into the 2018 season with both Graham and Willson gone, it is finally Vannett’s time.\\n\\nHe has an excellent opportunity to step up into the full-time starter’s role this season and flourish in that offense.\\n\\nPredicting the next breakout star for all 32 NFL teams Retired NFL defensive end Stephen White has been grinding tape all summer to figure out which players are poised for a big leap forward in 2018. Who’s your team’s breakout player?\\n\\nAt 6’6 and 261 pounds, Vannett gives Seattle quarterback Russell Wilson a huge target in the passing game. Vannett is not just some big lug, either. He looks fluid and fast running routes up the field, and he has some pretty good hands as well.\\n\\nUnlike Graham, Vannett is also a damn good blocker, which means he won’t be a liability when the Seahawks want to run the ball. Vannett probably won’t ever be the receiving threat that Graham is, but he is a lot more well-rounded than Graham. He may not make the spectacular catch, but there will be plenty of opportunities for him to make a gang of “routine” receptions this season.\\n\\nWhat’s interesting is there’s no way to know what Vannett’s ceiling is right now, because he hasn’t really had a lot of playing time or targets. Last season, when he didn’t get many reps in the passing game, he only had 12 catches for 124 yards and a touchdown in 15 games. If he can stay healthy this season, he may come close to getting more targets in one game as a starter than he ended up with all of last year (15) as, essentially, the third-team guy.\\n\\nFor all I know, he might well be a guy who can make spectacular Graham-esque catches too, but he just hasn’t been given a chance up till now.\\n\\nWith his combination of size and athleticism, there is certainly a good chance that Vannett will actually end up being one hell of a red zone threat.\\n\\nWhat I do know for sure, is that when I watch him on tape the kid does not seem to lack for confidence or swagger in the least. I don’t think the pressure of being the starter now will bother him at all, either. In fact, he may well thrive on it.\\n\\nIf Vannett can just make the routine catches as a starter this season, he should see a huge jump in production. I think he is going to do much more than that this year, however.\\n\\nConfidence level: High'}"
      ]
     },
     "execution_count": 65,
     "metadata": {},
     "output_type": "execute_result"
    }
   ],
   "source": [
    "news_df.iloc[1][['text', 'clean_text']].to_dict()"
   ]
  },
  {
   "cell_type": "markdown",
   "metadata": {},
   "source": [
    "save to csv"
   ]
  },
  {
   "cell_type": "code",
   "execution_count": 66,
   "metadata": {},
   "outputs": [],
   "source": [
    "news_df.to_csv('news.csv', index=False, encoding='utf-8')"
   ]
  },
  {
   "cell_type": "markdown",
   "metadata": {},
   "source": [
    "named entity recognition with `SpaCy` Here is the [Entity Meanings](https://spacy.io/api/annotation#named-entities)"
   ]
  },
  {
   "cell_type": "code",
   "execution_count": 68,
   "metadata": {
    "scrolled": true
   },
   "outputs": [
    {
     "name": "stdout",
     "output_type": "stream",
     "text": [
      "[(Nick, 'PERSON'), (Vannett, 'PERSON'), (third, 'ORDINAL'), (Vannett, 'PERSON'), (2016, 'DATE'), (a, 'DATE'), (year, 'DATE'), (Jimmy, 'PERSON'), (Graham, 'PERSON'), (first, 'ORDINAL'), (Vannett, 'PERSON'), (as, 'CARDINAL'), (low, 'CARDINAL'), (as, 'CARDINAL'), (fourth, 'CARDINAL'), (Graham, 'PERSON'), (Luke, 'PERSON'), (Willson, 'PERSON'), (Brandon, 'PERSON'), (Williams, 'PERSON'), (Last, 'DATE'), (spring, 'DATE'), (Williams, 'PERSON'), (Colts, 'PERSON'), (Vannett, 'PERSON'), (at, 'CARDINAL'), (least, 'CARDINAL'), (third, 'CARDINAL'), (four, 'CARDINAL'), (the, 'DATE'), (2018, 'DATE'), (season, 'DATE'), (Graham, 'PERSON'), (Willson, 'ORG'), (Vannett, 'PERSON'), (Predicting, 'GPE'), (32, 'CARDINAL'), (NFL, 'ORG'), (Retired, 'PERSON'), (NFL, 'PERSON'), (Stephen, 'PERSON'), (White, 'PERSON'), (all, 'DATE'), (summer, 'DATE'), (2018, 'DATE'), (6’6, 'CARDINAL'), (261, 'QUANTITY'), (pounds, 'QUANTITY'), (Vannett, 'PERSON'), (Seattle, 'GPE'), (Russell, 'PERSON'), (Wilson, 'PERSON'), (Graham, 'PERSON'), (Vannett, 'PERSON'), (Seahawks, 'ORG'), (Graham, 'PERSON'), (Graham, 'PERSON'), (this, 'DATE'), (season, 'DATE'), (Vannett, 'PERSON'), (Last, 'DATE'), (season, 'DATE'), (12, 'CARDINAL'), (124, 'QUANTITY'), (yards, 'QUANTITY'), (15, 'CARDINAL'), (this, 'DATE'), (season, 'DATE'), (one, 'CARDINAL'), (last, 'DATE'), (year, 'DATE'), (15, 'CARDINAL'), (third, 'ORDINAL'), (Graham, 'PERSON'), (-, 'PERSON'), (esque, 'PERSON'), (Vannett, 'PERSON'), (Vannett, 'PERSON'), (this, 'DATE'), (season, 'DATE'), (this, 'DATE'), (year, 'DATE')]\n"
     ]
    },
    {
     "data": {
      "text/html": [
       "<div class=\"entities\" style=\"line-height: 2.5\">The Seahawks knew they wouldn’t need \n",
       "<mark class=\"entity\" style=\"background: #aa9cfc; padding: 0.45em 0.6em; margin: 0 0.25em; line-height: 1; border-radius: 0.35em; box-decoration-break: clone; -webkit-box-decoration-break: clone\">\n",
       "    Nick Vannett\n",
       "    <span style=\"font-size: 0.8em; font-weight: bold; line-height: 1; border-radius: 0.35em; text-transform: uppercase; vertical-align: middle; margin-left: 0.5rem\">PERSON</span>\n",
       "</mark>\n",
       " to set the world on fire right away. They spent a \n",
       "<mark class=\"entity\" style=\"background: #e4e7d2; padding: 0.45em 0.6em; margin: 0 0.25em; line-height: 1; border-radius: 0.35em; box-decoration-break: clone; -webkit-box-decoration-break: clone\">\n",
       "    third\n",
       "    <span style=\"font-size: 0.8em; font-weight: bold; line-height: 1; border-radius: 0.35em; text-transform: uppercase; vertical-align: middle; margin-left: 0.5rem\">ORDINAL</span>\n",
       "</mark>\n",
       "-round pick on \n",
       "<mark class=\"entity\" style=\"background: #aa9cfc; padding: 0.45em 0.6em; margin: 0 0.25em; line-height: 1; border-radius: 0.35em; box-decoration-break: clone; -webkit-box-decoration-break: clone\">\n",
       "    Vannett\n",
       "    <span style=\"font-size: 0.8em; font-weight: bold; line-height: 1; border-radius: 0.35em; text-transform: uppercase; vertical-align: middle; margin-left: 0.5rem\">PERSON</span>\n",
       "</mark>\n",
       " in \n",
       "<mark class=\"entity\" style=\"background: #bfe1d9; padding: 0.45em 0.6em; margin: 0 0.25em; line-height: 1; border-radius: 0.35em; box-decoration-break: clone; -webkit-box-decoration-break: clone\">\n",
       "    2016\n",
       "    <span style=\"font-size: 0.8em; font-weight: bold; line-height: 1; border-radius: 0.35em; text-transform: uppercase; vertical-align: middle; margin-left: 0.5rem\">DATE</span>\n",
       "</mark>\n",
       ", \n",
       "<mark class=\"entity\" style=\"background: #bfe1d9; padding: 0.45em 0.6em; margin: 0 0.25em; line-height: 1; border-radius: 0.35em; box-decoration-break: clone; -webkit-box-decoration-break: clone\">\n",
       "    a year\n",
       "    <span style=\"font-size: 0.8em; font-weight: bold; line-height: 1; border-radius: 0.35em; text-transform: uppercase; vertical-align: middle; margin-left: 0.5rem\">DATE</span>\n",
       "</mark>\n",
       " after they traded for \n",
       "<mark class=\"entity\" style=\"background: #aa9cfc; padding: 0.45em 0.6em; margin: 0 0.25em; line-height: 1; border-radius: 0.35em; box-decoration-break: clone; -webkit-box-decoration-break: clone\">\n",
       "    Jimmy Graham\n",
       "    <span style=\"font-size: 0.8em; font-weight: bold; line-height: 1; border-radius: 0.35em; text-transform: uppercase; vertical-align: middle; margin-left: 0.5rem\">PERSON</span>\n",
       "</mark>\n",
       ". That \n",
       "<mark class=\"entity\" style=\"background: #e4e7d2; padding: 0.45em 0.6em; margin: 0 0.25em; line-height: 1; border-radius: 0.35em; box-decoration-break: clone; -webkit-box-decoration-break: clone\">\n",
       "    first\n",
       "    <span style=\"font-size: 0.8em; font-weight: bold; line-height: 1; border-radius: 0.35em; text-transform: uppercase; vertical-align: middle; margin-left: 0.5rem\">ORDINAL</span>\n",
       "</mark>\n",
       " season, \n",
       "<mark class=\"entity\" style=\"background: #aa9cfc; padding: 0.45em 0.6em; margin: 0 0.25em; line-height: 1; border-radius: 0.35em; box-decoration-break: clone; -webkit-box-decoration-break: clone\">\n",
       "    Vannett\n",
       "    <span style=\"font-size: 0.8em; font-weight: bold; line-height: 1; border-radius: 0.35em; text-transform: uppercase; vertical-align: middle; margin-left: 0.5rem\">PERSON</span>\n",
       "</mark>\n",
       " was \n",
       "<mark class=\"entity\" style=\"background: #e4e7d2; padding: 0.45em 0.6em; margin: 0 0.25em; line-height: 1; border-radius: 0.35em; box-decoration-break: clone; -webkit-box-decoration-break: clone\">\n",
       "    as low as fourth\n",
       "    <span style=\"font-size: 0.8em; font-weight: bold; line-height: 1; border-radius: 0.35em; text-transform: uppercase; vertical-align: middle; margin-left: 0.5rem\">CARDINAL</span>\n",
       "</mark>\n",
       " on the depth chart at times behind \n",
       "<mark class=\"entity\" style=\"background: #aa9cfc; padding: 0.45em 0.6em; margin: 0 0.25em; line-height: 1; border-radius: 0.35em; box-decoration-break: clone; -webkit-box-decoration-break: clone\">\n",
       "    Graham\n",
       "    <span style=\"font-size: 0.8em; font-weight: bold; line-height: 1; border-radius: 0.35em; text-transform: uppercase; vertical-align: middle; margin-left: 0.5rem\">PERSON</span>\n",
       "</mark>\n",
       ", \n",
       "<mark class=\"entity\" style=\"background: #aa9cfc; padding: 0.45em 0.6em; margin: 0 0.25em; line-height: 1; border-radius: 0.35em; box-decoration-break: clone; -webkit-box-decoration-break: clone\">\n",
       "    Luke Willson\n",
       "    <span style=\"font-size: 0.8em; font-weight: bold; line-height: 1; border-radius: 0.35em; text-transform: uppercase; vertical-align: middle; margin-left: 0.5rem\">PERSON</span>\n",
       "</mark>\n",
       ", and \n",
       "<mark class=\"entity\" style=\"background: #aa9cfc; padding: 0.45em 0.6em; margin: 0 0.25em; line-height: 1; border-radius: 0.35em; box-decoration-break: clone; -webkit-box-decoration-break: clone\">\n",
       "    Brandon Williams\n",
       "    <span style=\"font-size: 0.8em; font-weight: bold; line-height: 1; border-radius: 0.35em; text-transform: uppercase; vertical-align: middle; margin-left: 0.5rem\">PERSON</span>\n",
       "</mark>\n",
       ".</br></br>\n",
       "<mark class=\"entity\" style=\"background: #bfe1d9; padding: 0.45em 0.6em; margin: 0 0.25em; line-height: 1; border-radius: 0.35em; box-decoration-break: clone; -webkit-box-decoration-break: clone\">\n",
       "    Last spring\n",
       "    <span style=\"font-size: 0.8em; font-weight: bold; line-height: 1; border-radius: 0.35em; text-transform: uppercase; vertical-align: middle; margin-left: 0.5rem\">DATE</span>\n",
       "</mark>\n",
       ", \n",
       "<mark class=\"entity\" style=\"background: #aa9cfc; padding: 0.45em 0.6em; margin: 0 0.25em; line-height: 1; border-radius: 0.35em; box-decoration-break: clone; -webkit-box-decoration-break: clone\">\n",
       "    Williams\n",
       "    <span style=\"font-size: 0.8em; font-weight: bold; line-height: 1; border-radius: 0.35em; text-transform: uppercase; vertical-align: middle; margin-left: 0.5rem\">PERSON</span>\n",
       "</mark>\n",
       " signed with the \n",
       "<mark class=\"entity\" style=\"background: #aa9cfc; padding: 0.45em 0.6em; margin: 0 0.25em; line-height: 1; border-radius: 0.35em; box-decoration-break: clone; -webkit-box-decoration-break: clone\">\n",
       "    Colts\n",
       "    <span style=\"font-size: 0.8em; font-weight: bold; line-height: 1; border-radius: 0.35em; text-transform: uppercase; vertical-align: middle; margin-left: 0.5rem\">PERSON</span>\n",
       "</mark>\n",
       ", which allowed \n",
       "<mark class=\"entity\" style=\"background: #aa9cfc; padding: 0.45em 0.6em; margin: 0 0.25em; line-height: 1; border-radius: 0.35em; box-decoration-break: clone; -webkit-box-decoration-break: clone\">\n",
       "    Vannett\n",
       "    <span style=\"font-size: 0.8em; font-weight: bold; line-height: 1; border-radius: 0.35em; text-transform: uppercase; vertical-align: middle; margin-left: 0.5rem\">PERSON</span>\n",
       "</mark>\n",
       " to move up to \n",
       "<mark class=\"entity\" style=\"background: #e4e7d2; padding: 0.45em 0.6em; margin: 0 0.25em; line-height: 1; border-radius: 0.35em; box-decoration-break: clone; -webkit-box-decoration-break: clone\">\n",
       "    at least third\n",
       "    <span style=\"font-size: 0.8em; font-weight: bold; line-height: 1; border-radius: 0.35em; text-transform: uppercase; vertical-align: middle; margin-left: 0.5rem\">CARDINAL</span>\n",
       "</mark>\n",
       " team and make a decent contribution to the team, primarily as an extra blocker on running plays. He even ended up starting \n",
       "<mark class=\"entity\" style=\"background: #e4e7d2; padding: 0.45em 0.6em; margin: 0 0.25em; line-height: 1; border-radius: 0.35em; box-decoration-break: clone; -webkit-box-decoration-break: clone\">\n",
       "    four\n",
       "    <span style=\"font-size: 0.8em; font-weight: bold; line-height: 1; border-radius: 0.35em; text-transform: uppercase; vertical-align: middle; margin-left: 0.5rem\">CARDINAL</span>\n",
       "</mark>\n",
       " games.</br></br>Heading into \n",
       "<mark class=\"entity\" style=\"background: #bfe1d9; padding: 0.45em 0.6em; margin: 0 0.25em; line-height: 1; border-radius: 0.35em; box-decoration-break: clone; -webkit-box-decoration-break: clone\">\n",
       "    the 2018 season\n",
       "    <span style=\"font-size: 0.8em; font-weight: bold; line-height: 1; border-radius: 0.35em; text-transform: uppercase; vertical-align: middle; margin-left: 0.5rem\">DATE</span>\n",
       "</mark>\n",
       " with both \n",
       "<mark class=\"entity\" style=\"background: #aa9cfc; padding: 0.45em 0.6em; margin: 0 0.25em; line-height: 1; border-radius: 0.35em; box-decoration-break: clone; -webkit-box-decoration-break: clone\">\n",
       "    Graham\n",
       "    <span style=\"font-size: 0.8em; font-weight: bold; line-height: 1; border-radius: 0.35em; text-transform: uppercase; vertical-align: middle; margin-left: 0.5rem\">PERSON</span>\n",
       "</mark>\n",
       " and \n",
       "<mark class=\"entity\" style=\"background: #7aecec; padding: 0.45em 0.6em; margin: 0 0.25em; line-height: 1; border-radius: 0.35em; box-decoration-break: clone; -webkit-box-decoration-break: clone\">\n",
       "    Willson\n",
       "    <span style=\"font-size: 0.8em; font-weight: bold; line-height: 1; border-radius: 0.35em; text-transform: uppercase; vertical-align: middle; margin-left: 0.5rem\">ORG</span>\n",
       "</mark>\n",
       " gone, it is finally \n",
       "<mark class=\"entity\" style=\"background: #aa9cfc; padding: 0.45em 0.6em; margin: 0 0.25em; line-height: 1; border-radius: 0.35em; box-decoration-break: clone; -webkit-box-decoration-break: clone\">\n",
       "    Vannett\n",
       "    <span style=\"font-size: 0.8em; font-weight: bold; line-height: 1; border-radius: 0.35em; text-transform: uppercase; vertical-align: middle; margin-left: 0.5rem\">PERSON</span>\n",
       "</mark>\n",
       "’s time.</br></br>He has an excellent opportunity to step up into the full-time starter’s role this season and flourish in that offense.</br></br>\n",
       "<mark class=\"entity\" style=\"background: #feca74; padding: 0.45em 0.6em; margin: 0 0.25em; line-height: 1; border-radius: 0.35em; box-decoration-break: clone; -webkit-box-decoration-break: clone\">\n",
       "    Predicting\n",
       "    <span style=\"font-size: 0.8em; font-weight: bold; line-height: 1; border-radius: 0.35em; text-transform: uppercase; vertical-align: middle; margin-left: 0.5rem\">GPE</span>\n",
       "</mark>\n",
       " the next breakout star for all \n",
       "<mark class=\"entity\" style=\"background: #e4e7d2; padding: 0.45em 0.6em; margin: 0 0.25em; line-height: 1; border-radius: 0.35em; box-decoration-break: clone; -webkit-box-decoration-break: clone\">\n",
       "    32\n",
       "    <span style=\"font-size: 0.8em; font-weight: bold; line-height: 1; border-radius: 0.35em; text-transform: uppercase; vertical-align: middle; margin-left: 0.5rem\">CARDINAL</span>\n",
       "</mark>\n",
       " \n",
       "<mark class=\"entity\" style=\"background: #7aecec; padding: 0.45em 0.6em; margin: 0 0.25em; line-height: 1; border-radius: 0.35em; box-decoration-break: clone; -webkit-box-decoration-break: clone\">\n",
       "    NFL\n",
       "    <span style=\"font-size: 0.8em; font-weight: bold; line-height: 1; border-radius: 0.35em; text-transform: uppercase; vertical-align: middle; margin-left: 0.5rem\">ORG</span>\n",
       "</mark>\n",
       " teams \n",
       "<mark class=\"entity\" style=\"background: #aa9cfc; padding: 0.45em 0.6em; margin: 0 0.25em; line-height: 1; border-radius: 0.35em; box-decoration-break: clone; -webkit-box-decoration-break: clone\">\n",
       "    Retired NFL\n",
       "    <span style=\"font-size: 0.8em; font-weight: bold; line-height: 1; border-radius: 0.35em; text-transform: uppercase; vertical-align: middle; margin-left: 0.5rem\">PERSON</span>\n",
       "</mark>\n",
       " defensive end \n",
       "<mark class=\"entity\" style=\"background: #aa9cfc; padding: 0.45em 0.6em; margin: 0 0.25em; line-height: 1; border-radius: 0.35em; box-decoration-break: clone; -webkit-box-decoration-break: clone\">\n",
       "    Stephen White\n",
       "    <span style=\"font-size: 0.8em; font-weight: bold; line-height: 1; border-radius: 0.35em; text-transform: uppercase; vertical-align: middle; margin-left: 0.5rem\">PERSON</span>\n",
       "</mark>\n",
       " has been grinding tape \n",
       "<mark class=\"entity\" style=\"background: #bfe1d9; padding: 0.45em 0.6em; margin: 0 0.25em; line-height: 1; border-radius: 0.35em; box-decoration-break: clone; -webkit-box-decoration-break: clone\">\n",
       "    all summer\n",
       "    <span style=\"font-size: 0.8em; font-weight: bold; line-height: 1; border-radius: 0.35em; text-transform: uppercase; vertical-align: middle; margin-left: 0.5rem\">DATE</span>\n",
       "</mark>\n",
       " to figure out which players are poised for a big leap forward in \n",
       "<mark class=\"entity\" style=\"background: #bfe1d9; padding: 0.45em 0.6em; margin: 0 0.25em; line-height: 1; border-radius: 0.35em; box-decoration-break: clone; -webkit-box-decoration-break: clone\">\n",
       "    2018\n",
       "    <span style=\"font-size: 0.8em; font-weight: bold; line-height: 1; border-radius: 0.35em; text-transform: uppercase; vertical-align: middle; margin-left: 0.5rem\">DATE</span>\n",
       "</mark>\n",
       ". Who’s your team’s breakout player?</br></br>At \n",
       "<mark class=\"entity\" style=\"background: #e4e7d2; padding: 0.45em 0.6em; margin: 0 0.25em; line-height: 1; border-radius: 0.35em; box-decoration-break: clone; -webkit-box-decoration-break: clone\">\n",
       "    6’6\n",
       "    <span style=\"font-size: 0.8em; font-weight: bold; line-height: 1; border-radius: 0.35em; text-transform: uppercase; vertical-align: middle; margin-left: 0.5rem\">CARDINAL</span>\n",
       "</mark>\n",
       " and \n",
       "<mark class=\"entity\" style=\"background: #e4e7d2; padding: 0.45em 0.6em; margin: 0 0.25em; line-height: 1; border-radius: 0.35em; box-decoration-break: clone; -webkit-box-decoration-break: clone\">\n",
       "    261 pounds\n",
       "    <span style=\"font-size: 0.8em; font-weight: bold; line-height: 1; border-radius: 0.35em; text-transform: uppercase; vertical-align: middle; margin-left: 0.5rem\">QUANTITY</span>\n",
       "</mark>\n",
       ", \n",
       "<mark class=\"entity\" style=\"background: #aa9cfc; padding: 0.45em 0.6em; margin: 0 0.25em; line-height: 1; border-radius: 0.35em; box-decoration-break: clone; -webkit-box-decoration-break: clone\">\n",
       "    Vannett\n",
       "    <span style=\"font-size: 0.8em; font-weight: bold; line-height: 1; border-radius: 0.35em; text-transform: uppercase; vertical-align: middle; margin-left: 0.5rem\">PERSON</span>\n",
       "</mark>\n",
       " gives \n",
       "<mark class=\"entity\" style=\"background: #feca74; padding: 0.45em 0.6em; margin: 0 0.25em; line-height: 1; border-radius: 0.35em; box-decoration-break: clone; -webkit-box-decoration-break: clone\">\n",
       "    Seattle\n",
       "    <span style=\"font-size: 0.8em; font-weight: bold; line-height: 1; border-radius: 0.35em; text-transform: uppercase; vertical-align: middle; margin-left: 0.5rem\">GPE</span>\n",
       "</mark>\n",
       " quarterback \n",
       "<mark class=\"entity\" style=\"background: #aa9cfc; padding: 0.45em 0.6em; margin: 0 0.25em; line-height: 1; border-radius: 0.35em; box-decoration-break: clone; -webkit-box-decoration-break: clone\">\n",
       "    Russell Wilson\n",
       "    <span style=\"font-size: 0.8em; font-weight: bold; line-height: 1; border-radius: 0.35em; text-transform: uppercase; vertical-align: middle; margin-left: 0.5rem\">PERSON</span>\n",
       "</mark>\n",
       " a huge target in the passing game. Vannett is not just some big lug, either. He looks fluid and fast running routes up the field, and he has some pretty good hands as well.</br></br>Unlike \n",
       "<mark class=\"entity\" style=\"background: #aa9cfc; padding: 0.45em 0.6em; margin: 0 0.25em; line-height: 1; border-radius: 0.35em; box-decoration-break: clone; -webkit-box-decoration-break: clone\">\n",
       "    Graham\n",
       "    <span style=\"font-size: 0.8em; font-weight: bold; line-height: 1; border-radius: 0.35em; text-transform: uppercase; vertical-align: middle; margin-left: 0.5rem\">PERSON</span>\n",
       "</mark>\n",
       ", \n",
       "<mark class=\"entity\" style=\"background: #aa9cfc; padding: 0.45em 0.6em; margin: 0 0.25em; line-height: 1; border-radius: 0.35em; box-decoration-break: clone; -webkit-box-decoration-break: clone\">\n",
       "    Vannett\n",
       "    <span style=\"font-size: 0.8em; font-weight: bold; line-height: 1; border-radius: 0.35em; text-transform: uppercase; vertical-align: middle; margin-left: 0.5rem\">PERSON</span>\n",
       "</mark>\n",
       " is also a damn good blocker, which means he won’t be a liability when the \n",
       "<mark class=\"entity\" style=\"background: #7aecec; padding: 0.45em 0.6em; margin: 0 0.25em; line-height: 1; border-radius: 0.35em; box-decoration-break: clone; -webkit-box-decoration-break: clone\">\n",
       "    Seahawks\n",
       "    <span style=\"font-size: 0.8em; font-weight: bold; line-height: 1; border-radius: 0.35em; text-transform: uppercase; vertical-align: middle; margin-left: 0.5rem\">ORG</span>\n",
       "</mark>\n",
       " want to run the ball. Vannett probably won’t ever be the receiving threat that \n",
       "<mark class=\"entity\" style=\"background: #aa9cfc; padding: 0.45em 0.6em; margin: 0 0.25em; line-height: 1; border-radius: 0.35em; box-decoration-break: clone; -webkit-box-decoration-break: clone\">\n",
       "    Graham\n",
       "    <span style=\"font-size: 0.8em; font-weight: bold; line-height: 1; border-radius: 0.35em; text-transform: uppercase; vertical-align: middle; margin-left: 0.5rem\">PERSON</span>\n",
       "</mark>\n",
       " is, but he is a lot more well-rounded than \n",
       "<mark class=\"entity\" style=\"background: #aa9cfc; padding: 0.45em 0.6em; margin: 0 0.25em; line-height: 1; border-radius: 0.35em; box-decoration-break: clone; -webkit-box-decoration-break: clone\">\n",
       "    Graham\n",
       "    <span style=\"font-size: 0.8em; font-weight: bold; line-height: 1; border-radius: 0.35em; text-transform: uppercase; vertical-align: middle; margin-left: 0.5rem\">PERSON</span>\n",
       "</mark>\n",
       ". He may not make the spectacular catch, but there will be plenty of opportunities for him to make a gang of “routine” receptions \n",
       "<mark class=\"entity\" style=\"background: #bfe1d9; padding: 0.45em 0.6em; margin: 0 0.25em; line-height: 1; border-radius: 0.35em; box-decoration-break: clone; -webkit-box-decoration-break: clone\">\n",
       "    this season\n",
       "    <span style=\"font-size: 0.8em; font-weight: bold; line-height: 1; border-radius: 0.35em; text-transform: uppercase; vertical-align: middle; margin-left: 0.5rem\">DATE</span>\n",
       "</mark>\n",
       ".</br></br>What’s interesting is there’s no way to know what \n",
       "<mark class=\"entity\" style=\"background: #aa9cfc; padding: 0.45em 0.6em; margin: 0 0.25em; line-height: 1; border-radius: 0.35em; box-decoration-break: clone; -webkit-box-decoration-break: clone\">\n",
       "    Vannett\n",
       "    <span style=\"font-size: 0.8em; font-weight: bold; line-height: 1; border-radius: 0.35em; text-transform: uppercase; vertical-align: middle; margin-left: 0.5rem\">PERSON</span>\n",
       "</mark>\n",
       "’s ceiling is right now, because he hasn’t really had a lot of playing time or targets. \n",
       "<mark class=\"entity\" style=\"background: #bfe1d9; padding: 0.45em 0.6em; margin: 0 0.25em; line-height: 1; border-radius: 0.35em; box-decoration-break: clone; -webkit-box-decoration-break: clone\">\n",
       "    Last season\n",
       "    <span style=\"font-size: 0.8em; font-weight: bold; line-height: 1; border-radius: 0.35em; text-transform: uppercase; vertical-align: middle; margin-left: 0.5rem\">DATE</span>\n",
       "</mark>\n",
       ", when he didn’t get many reps in the passing game, he only had \n",
       "<mark class=\"entity\" style=\"background: #e4e7d2; padding: 0.45em 0.6em; margin: 0 0.25em; line-height: 1; border-radius: 0.35em; box-decoration-break: clone; -webkit-box-decoration-break: clone\">\n",
       "    12\n",
       "    <span style=\"font-size: 0.8em; font-weight: bold; line-height: 1; border-radius: 0.35em; text-transform: uppercase; vertical-align: middle; margin-left: 0.5rem\">CARDINAL</span>\n",
       "</mark>\n",
       " catches for \n",
       "<mark class=\"entity\" style=\"background: #e4e7d2; padding: 0.45em 0.6em; margin: 0 0.25em; line-height: 1; border-radius: 0.35em; box-decoration-break: clone; -webkit-box-decoration-break: clone\">\n",
       "    124 yards\n",
       "    <span style=\"font-size: 0.8em; font-weight: bold; line-height: 1; border-radius: 0.35em; text-transform: uppercase; vertical-align: middle; margin-left: 0.5rem\">QUANTITY</span>\n",
       "</mark>\n",
       " and a touchdown in \n",
       "<mark class=\"entity\" style=\"background: #e4e7d2; padding: 0.45em 0.6em; margin: 0 0.25em; line-height: 1; border-radius: 0.35em; box-decoration-break: clone; -webkit-box-decoration-break: clone\">\n",
       "    15\n",
       "    <span style=\"font-size: 0.8em; font-weight: bold; line-height: 1; border-radius: 0.35em; text-transform: uppercase; vertical-align: middle; margin-left: 0.5rem\">CARDINAL</span>\n",
       "</mark>\n",
       " games. If he can stay healthy \n",
       "<mark class=\"entity\" style=\"background: #bfe1d9; padding: 0.45em 0.6em; margin: 0 0.25em; line-height: 1; border-radius: 0.35em; box-decoration-break: clone; -webkit-box-decoration-break: clone\">\n",
       "    this season\n",
       "    <span style=\"font-size: 0.8em; font-weight: bold; line-height: 1; border-radius: 0.35em; text-transform: uppercase; vertical-align: middle; margin-left: 0.5rem\">DATE</span>\n",
       "</mark>\n",
       ", he may come close to getting more targets in \n",
       "<mark class=\"entity\" style=\"background: #e4e7d2; padding: 0.45em 0.6em; margin: 0 0.25em; line-height: 1; border-radius: 0.35em; box-decoration-break: clone; -webkit-box-decoration-break: clone\">\n",
       "    one\n",
       "    <span style=\"font-size: 0.8em; font-weight: bold; line-height: 1; border-radius: 0.35em; text-transform: uppercase; vertical-align: middle; margin-left: 0.5rem\">CARDINAL</span>\n",
       "</mark>\n",
       " game as a starter than he ended up with all of \n",
       "<mark class=\"entity\" style=\"background: #bfe1d9; padding: 0.45em 0.6em; margin: 0 0.25em; line-height: 1; border-radius: 0.35em; box-decoration-break: clone; -webkit-box-decoration-break: clone\">\n",
       "    last year\n",
       "    <span style=\"font-size: 0.8em; font-weight: bold; line-height: 1; border-radius: 0.35em; text-transform: uppercase; vertical-align: middle; margin-left: 0.5rem\">DATE</span>\n",
       "</mark>\n",
       " (\n",
       "<mark class=\"entity\" style=\"background: #e4e7d2; padding: 0.45em 0.6em; margin: 0 0.25em; line-height: 1; border-radius: 0.35em; box-decoration-break: clone; -webkit-box-decoration-break: clone\">\n",
       "    15\n",
       "    <span style=\"font-size: 0.8em; font-weight: bold; line-height: 1; border-radius: 0.35em; text-transform: uppercase; vertical-align: middle; margin-left: 0.5rem\">CARDINAL</span>\n",
       "</mark>\n",
       ") as, essentially, the \n",
       "<mark class=\"entity\" style=\"background: #e4e7d2; padding: 0.45em 0.6em; margin: 0 0.25em; line-height: 1; border-radius: 0.35em; box-decoration-break: clone; -webkit-box-decoration-break: clone\">\n",
       "    third\n",
       "    <span style=\"font-size: 0.8em; font-weight: bold; line-height: 1; border-radius: 0.35em; text-transform: uppercase; vertical-align: middle; margin-left: 0.5rem\">ORDINAL</span>\n",
       "</mark>\n",
       "-team guy.</br></br>For all I know, he might well be a guy who can make spectacular \n",
       "<mark class=\"entity\" style=\"background: #aa9cfc; padding: 0.45em 0.6em; margin: 0 0.25em; line-height: 1; border-radius: 0.35em; box-decoration-break: clone; -webkit-box-decoration-break: clone\">\n",
       "    Graham-esque\n",
       "    <span style=\"font-size: 0.8em; font-weight: bold; line-height: 1; border-radius: 0.35em; text-transform: uppercase; vertical-align: middle; margin-left: 0.5rem\">PERSON</span>\n",
       "</mark>\n",
       " catches too, but he just hasn’t been given a chance up till now.</br></br>With his combination of size and athleticism, there is certainly a good chance that \n",
       "<mark class=\"entity\" style=\"background: #aa9cfc; padding: 0.45em 0.6em; margin: 0 0.25em; line-height: 1; border-radius: 0.35em; box-decoration-break: clone; -webkit-box-decoration-break: clone\">\n",
       "    Vannett\n",
       "    <span style=\"font-size: 0.8em; font-weight: bold; line-height: 1; border-radius: 0.35em; text-transform: uppercase; vertical-align: middle; margin-left: 0.5rem\">PERSON</span>\n",
       "</mark>\n",
       " will actually end up being one hell of a red zone threat.</br></br>What I do know for sure, is that when I watch him on tape the kid does not seem to lack for confidence or swagger in the least. I don’t think the pressure of being the starter now will bother him at all, either. In fact, he may well thrive on it.</br></br>If \n",
       "<mark class=\"entity\" style=\"background: #aa9cfc; padding: 0.45em 0.6em; margin: 0 0.25em; line-height: 1; border-radius: 0.35em; box-decoration-break: clone; -webkit-box-decoration-break: clone\">\n",
       "    Vannett\n",
       "    <span style=\"font-size: 0.8em; font-weight: bold; line-height: 1; border-radius: 0.35em; text-transform: uppercase; vertical-align: middle; margin-left: 0.5rem\">PERSON</span>\n",
       "</mark>\n",
       " can just make the routine catches as a starter \n",
       "<mark class=\"entity\" style=\"background: #bfe1d9; padding: 0.45em 0.6em; margin: 0 0.25em; line-height: 1; border-radius: 0.35em; box-decoration-break: clone; -webkit-box-decoration-break: clone\">\n",
       "    this season\n",
       "    <span style=\"font-size: 0.8em; font-weight: bold; line-height: 1; border-radius: 0.35em; text-transform: uppercase; vertical-align: middle; margin-left: 0.5rem\">DATE</span>\n",
       "</mark>\n",
       ", he should see a huge jump in production. I think he is going to do much more than that \n",
       "<mark class=\"entity\" style=\"background: #bfe1d9; padding: 0.45em 0.6em; margin: 0 0.25em; line-height: 1; border-radius: 0.35em; box-decoration-break: clone; -webkit-box-decoration-break: clone\">\n",
       "    this year\n",
       "    <span style=\"font-size: 0.8em; font-weight: bold; line-height: 1; border-radius: 0.35em; text-transform: uppercase; vertical-align: middle; margin-left: 0.5rem\">DATE</span>\n",
       "</mark>\n",
       ", however.\n",
       "\n",
       "Confidence level: High</div>"
      ],
      "text/plain": [
       "<IPython.core.display.HTML object>"
      ]
     },
     "metadata": {},
     "output_type": "display_data"
    }
   ],
   "source": [
    "from spacy import displacy\n",
    "\n",
    "sentence = str(news_df.iloc[1].text)\n",
    "sentence_nlp = nlp(sentence)\n",
    "\n",
    "# print named entities in article\n",
    "print([(word, word.ent_type_) for word in sentence_nlp if word.ent_type_])\n",
    "\n",
    "# visualize named entities\n",
    "displacy.render(sentence_nlp, style='ent', jupyter=True)"
   ]
  },
  {
   "cell_type": "code",
   "execution_count": null,
   "metadata": {},
   "outputs": [],
   "source": []
  },
  {
   "cell_type": "markdown",
   "metadata": {},
   "source": [
    "## Sentiment Analysis with AFINN Lexicon"
   ]
  },
  {
   "cell_type": "markdown",
   "metadata": {},
   "source": [
    "Let’s now find out the most frequent named entities in our news corpus! For this, we will build out a data frame of all the named entities and their types using the following code."
   ]
  },
  {
   "cell_type": "code",
   "execution_count": 71,
   "metadata": {},
   "outputs": [],
   "source": [
    "# create a basic pre-processed corpus, don't lowercase to get POS context\n",
    "corpus = normalize_corpus(news_df['text'], text_lower_case=False, \n",
    "                          text_lemmatization=False, special_char_removal=False)"
   ]
  },
  {
   "cell_type": "code",
   "execution_count": 70,
   "metadata": {},
   "outputs": [],
   "source": [
    "# initialize afinn sentiment analyzer\n",
    "from afinn import Afinn\n",
    "af = Afinn()"
   ]
  },
  {
   "cell_type": "code",
   "execution_count": 73,
   "metadata": {},
   "outputs": [],
   "source": [
    "sentiment_scores = [af.score(article) for article in corpus]\n",
    "sentiment_category = ['positive' if score > 0 \n",
    "                          else 'negative' if score < 0 \n",
    "                              else 'neutral' \n",
    "                                  for score in sentiment_scores]"
   ]
  },
  {
   "cell_type": "code",
   "execution_count": 75,
   "metadata": {},
   "outputs": [],
   "source": [
    "df = pd.DataFrame([list(news_df['team']), sentiment_scores, sentiment_category]).T"
   ]
  },
  {
   "cell_type": "code",
   "execution_count": 76,
   "metadata": {},
   "outputs": [
    {
     "data": {
      "text/html": [
       "<div>\n",
       "<style>\n",
       "    .dataframe thead tr:only-child th {\n",
       "        text-align: right;\n",
       "    }\n",
       "\n",
       "    .dataframe thead th {\n",
       "        text-align: left;\n",
       "    }\n",
       "\n",
       "    .dataframe tbody tr th {\n",
       "        vertical-align: top;\n",
       "    }\n",
       "</style>\n",
       "<table border=\"1\" class=\"dataframe\">\n",
       "  <thead>\n",
       "    <tr>\n",
       "      <th></th>\n",
       "      <th colspan=\"8\" halign=\"left\">sentiment_score</th>\n",
       "    </tr>\n",
       "    <tr>\n",
       "      <th></th>\n",
       "      <th>count</th>\n",
       "      <th>mean</th>\n",
       "      <th>std</th>\n",
       "      <th>min</th>\n",
       "      <th>25%</th>\n",
       "      <th>50%</th>\n",
       "      <th>75%</th>\n",
       "      <th>max</th>\n",
       "    </tr>\n",
       "    <tr>\n",
       "      <th>team</th>\n",
       "      <th></th>\n",
       "      <th></th>\n",
       "      <th></th>\n",
       "      <th></th>\n",
       "      <th></th>\n",
       "      <th></th>\n",
       "      <th></th>\n",
       "      <th></th>\n",
       "    </tr>\n",
       "  </thead>\n",
       "  <tbody>\n",
       "    <tr>\n",
       "      <th>cardinals</th>\n",
       "      <td>141.0</td>\n",
       "      <td>17.070922</td>\n",
       "      <td>20.019507</td>\n",
       "      <td>-21.0</td>\n",
       "      <td>4.00</td>\n",
       "      <td>12.0</td>\n",
       "      <td>26.00</td>\n",
       "      <td>86.0</td>\n",
       "    </tr>\n",
       "    <tr>\n",
       "      <th>cheese</th>\n",
       "      <td>139.0</td>\n",
       "      <td>15.381295</td>\n",
       "      <td>28.868115</td>\n",
       "      <td>-57.0</td>\n",
       "      <td>0.50</td>\n",
       "      <td>8.0</td>\n",
       "      <td>22.00</td>\n",
       "      <td>175.0</td>\n",
       "    </tr>\n",
       "    <tr>\n",
       "      <th>panthers</th>\n",
       "      <td>166.0</td>\n",
       "      <td>12.487952</td>\n",
       "      <td>17.213363</td>\n",
       "      <td>-26.0</td>\n",
       "      <td>1.25</td>\n",
       "      <td>6.5</td>\n",
       "      <td>18.75</td>\n",
       "      <td>65.0</td>\n",
       "    </tr>\n",
       "    <tr>\n",
       "      <th>patriots</th>\n",
       "      <td>185.0</td>\n",
       "      <td>23.329730</td>\n",
       "      <td>54.724750</td>\n",
       "      <td>-67.0</td>\n",
       "      <td>0.00</td>\n",
       "      <td>13.0</td>\n",
       "      <td>28.00</td>\n",
       "      <td>448.0</td>\n",
       "    </tr>\n",
       "    <tr>\n",
       "      <th>seahawks</th>\n",
       "      <td>151.0</td>\n",
       "      <td>19.410596</td>\n",
       "      <td>30.898386</td>\n",
       "      <td>-45.0</td>\n",
       "      <td>0.00</td>\n",
       "      <td>11.0</td>\n",
       "      <td>32.50</td>\n",
       "      <td>135.0</td>\n",
       "    </tr>\n",
       "    <tr>\n",
       "      <th>steelers</th>\n",
       "      <td>38.0</td>\n",
       "      <td>9.394737</td>\n",
       "      <td>12.985521</td>\n",
       "      <td>-31.0</td>\n",
       "      <td>0.00</td>\n",
       "      <td>10.0</td>\n",
       "      <td>21.00</td>\n",
       "      <td>34.0</td>\n",
       "    </tr>\n",
       "  </tbody>\n",
       "</table>\n",
       "</div>"
      ],
      "text/plain": [
       "          sentiment_score                                                 \\\n",
       "                    count       mean        std   min   25%   50%    75%   \n",
       "team                                                                       \n",
       "cardinals           141.0  17.070922  20.019507 -21.0  4.00  12.0  26.00   \n",
       "cheese              139.0  15.381295  28.868115 -57.0  0.50   8.0  22.00   \n",
       "panthers            166.0  12.487952  17.213363 -26.0  1.25   6.5  18.75   \n",
       "patriots            185.0  23.329730  54.724750 -67.0  0.00  13.0  28.00   \n",
       "seahawks            151.0  19.410596  30.898386 -45.0  0.00  11.0  32.50   \n",
       "steelers             38.0   9.394737  12.985521 -31.0  0.00  10.0  21.00   \n",
       "\n",
       "                  \n",
       "             max  \n",
       "team              \n",
       "cardinals   86.0  \n",
       "cheese     175.0  \n",
       "panthers    65.0  \n",
       "patriots   448.0  \n",
       "seahawks   135.0  \n",
       "steelers    34.0  "
      ]
     },
     "execution_count": 76,
     "metadata": {},
     "output_type": "execute_result"
    }
   ],
   "source": [
    "df.columns = ['team', 'sentiment_score', 'sentiment_category']\n",
    "df['sentiment_score'] = df.sentiment_score.astype('float')\n",
    "df.groupby(by=['team']).describe()"
   ]
  },
  {
   "cell_type": "code",
   "execution_count": 80,
   "metadata": {},
   "outputs": [],
   "source": [
    "import matplotlib.pyplot as plt\n",
    "import seaborn as sns\n",
    "%matplotlib inline"
   ]
  },
  {
   "cell_type": "code",
   "execution_count": 81,
   "metadata": {},
   "outputs": [
    {
     "data": {
      "image/png": "[encoded data removed]",
      "text/plain": [
       "<matplotlib.figure.Figure at 0x7f4c0ad17c88>"
      ]
     },
     "metadata": {},
     "output_type": "display_data"
    }
   ],
   "source": [
    "\n",
    "f, (ax1, ax2) = plt.subplots(1, 2, figsize=(14, 4))\n",
    "sp = sns.stripplot(x='team', y=\"sentiment_score\", \n",
    "                   hue='team', data=df, ax=ax1)\n",
    "bp = sns.boxplot(x='team', y=\"sentiment_score\", \n",
    "                 hue='team', data=df, palette=\"Set2\", ax=ax2)\n",
    "t = f.suptitle('Visualizing News Sentiment', fontsize=14)"
   ]
  },
  {
   "cell_type": "code",
   "execution_count": 82,
   "metadata": {},
   "outputs": [
    {
     "name": "stderr",
     "output_type": "stream",
     "text": [
      "/home/redne/anaconda3/lib/python3.6/site-packages/seaborn/categorical.py:3666: UserWarning: The `factorplot` function has been renamed to `catplot`. The original name will be removed in a future release. Please update your code. Note that the default `kind` in `factorplot` (`'point'`) has changed `'strip'` in `catplot`.\n",
      "  warnings.warn(msg)\n"
     ]
    },
    {
     "data": {
      "image/png": "[encoded data removed]",
      "text/plain": [
       "<matplotlib.figure.Figure at 0x7f4c0ab78358>"
      ]
     },
     "metadata": {},
     "output_type": "display_data"
    }
   ],
   "source": [
    "fc = sns.factorplot(x=\"team\", hue=\"sentiment_category\", \n",
    "                    data=df, kind=\"count\", \n",
    "                    palette={\"negative\": \"#FE2020\", \n",
    "                             \"positive\": \"#BADD07\", \n",
    "                             \"neutral\": \"#68BFF5\"})"
   ]
  },
  {
   "cell_type": "markdown",
   "metadata": {},
   "source": [
    "Let’s dive deeper into the most positive and negative sentiment news articles for technology news."
   ]
  },
  {
   "cell_type": "code",
   "execution_count": 171,
   "metadata": {
    "scrolled": false
   },
   "outputs": [
    {
     "name": "stdout",
     "output_type": "stream",
     "text": [
      "Most Negative Tech News Article: Century Links 8/20: Who Impressed, Who Didn’t After Chargers Preseason Game\n",
      "\n",
      "Most Positive Tech News Article: A few pics from Training Camp 8/13\n"
     ]
    }
   ],
   "source": [
    "pos_idx = df[(df.team=='seahawks') & (df.sentiment_score == 6)].index[0]\n",
    "neg_idx = df[(df.team=='seahawks') & (df.sentiment_score == -15)].index[0]\n",
    "\n",
    "print('Most Negative Tech News Article:', news_df.iloc[neg_idx][['title']][0])\n",
    "print()\n",
    "print('Most Positive Tech News Article:', news_df.iloc[pos_idx][['title']][0])"
   ]
  },
  {
   "cell_type": "code",
   "execution_count": null,
   "metadata": {},
   "outputs": [],
   "source": []
  }
 ],
 "metadata": {
  "kernelspec": {
   "display_name": "Python 3",
   "language": "python",
   "name": "python3"
  },
  "language_info": {
   "codemirror_mode": {
    "name": "ipython",
    "version": 3
   },
   "file_extension": ".py",
   "mimetype": "text/x-python",
   "name": "python",
   "nbconvert_exporter": "python",
   "pygments_lexer": "ipython3",
   "version": "3.6.4"
  }
 },
 "nbformat": 4,
 "nbformat_minor": 2
}
