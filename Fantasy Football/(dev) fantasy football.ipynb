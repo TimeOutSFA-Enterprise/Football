{
 "cells": [
  {
   "cell_type": "code",
   "execution_count": 56,
   "metadata": {},
   "outputs": [
    {
     "ename": "NameError",
     "evalue": "name 'espnff' is not defined",
     "output_type": "error",
     "traceback": [
      "\u001b[0;31m---------------------------------------------------------------------------\u001b[0m",
      "\u001b[0;31mNameError\u001b[0m                                 Traceback (most recent call last)",
      "\u001b[0;32m<ipython-input-56-9a32fd31a414>\u001b[0m in \u001b[0;36m<module>\u001b[0;34m()\u001b[0m\n\u001b[0;32m----> 1\u001b[0;31m \u001b[0mespnff\u001b[0m\u001b[0;34m\u001b[0m\u001b[0m\n\u001b[0m",
      "\u001b[0;31mNameError\u001b[0m: name 'espnff' is not defined"
     ]
    }
   ],
   "source": [
    "espnff"
   ]
  },
  {
   "cell_type": "code",
   "execution_count": 40,
   "metadata": {},
   "outputs": [],
   "source": [
    "from espnff import League\n",
    "import pandas as pd"
   ]
  },
  {
   "cell_type": "code",
   "execution_count": 7,
   "metadata": {},
   "outputs": [],
   "source": [
    "league_id = 2275893\n",
    "year = 2018\n",
    "league = League(league_id, year)"
   ]
  },
  {
   "cell_type": "code",
   "execution_count": 8,
   "metadata": {},
   "outputs": [
    {
     "data": {
      "text/plain": [
       "League(2275893, 2018)"
      ]
     },
     "execution_count": 8,
     "metadata": {},
     "output_type": "execute_result"
    }
   ],
   "source": [
    "league"
   ]
  },
  {
   "cell_type": "code",
   "execution_count": 9,
   "metadata": {},
   "outputs": [
    {
     "data": {
      "text/plain": [
       "[Team(Team 1),\n",
       " Team(Team 2),\n",
       " Team(Gurley God),\n",
       " Team(Team 4),\n",
       " Team(Team salles3),\n",
       " Team(Rocket Man),\n",
       " Team(Money Makin' Mitch),\n",
       " Team(Mixon Cider)]"
      ]
     },
     "execution_count": 9,
     "metadata": {},
     "output_type": "execute_result"
    }
   ],
   "source": [
    "league.teams"
   ]
  },
  {
   "cell_type": "code",
   "execution_count": 10,
   "metadata": {},
   "outputs": [
    {
     "data": {
      "text/plain": [
       "<bound method League.power_rankings of League(2275893, 2018)>"
      ]
     },
     "execution_count": 10,
     "metadata": {},
     "output_type": "execute_result"
    }
   ],
   "source": [
    "league.power_rankings"
   ]
  },
  {
   "cell_type": "code",
   "execution_count": 11,
   "metadata": {},
   "outputs": [
    {
     "data": {
      "text/plain": [
       "[Team(Team 1),\n",
       " Team(Team 2),\n",
       " Team(Gurley God),\n",
       " Team(Team 4),\n",
       " Team(Team salles3),\n",
       " Team(Rocket Man),\n",
       " Team(Money Makin' Mitch),\n",
       " Team(Mixon Cider)]"
      ]
     },
     "execution_count": 11,
     "metadata": {},
     "output_type": "execute_result"
    }
   ],
   "source": [
    "league.teams"
   ]
  },
  {
   "cell_type": "code",
   "execution_count": 16,
   "metadata": {},
   "outputs": [
    {
     "data": {
      "text/plain": [
       "[141.04,\n",
       " 172.24,\n",
       " 165.76,\n",
       " 181.36,\n",
       " 149.12,\n",
       " 181.98,\n",
       " 123.04,\n",
       " 144.02,\n",
       " 160.7,\n",
       " 138.2,\n",
       " 160.42,\n",
       " 131.34,\n",
       " 144.4,\n",
       " 127.28,\n",
       " 143.92]"
      ]
     },
     "execution_count": 16,
     "metadata": {},
     "output_type": "execute_result"
    }
   ],
   "source": [
    "league.teams[5].scores"
   ]
  },
  {
   "cell_type": "code",
   "execution_count": 18,
   "metadata": {},
   "outputs": [
    {
     "data": {
      "text/plain": [
       "Settings(Dallas 8-Team PPR 2275893)"
      ]
     },
     "execution_count": 18,
     "metadata": {},
     "output_type": "execute_result"
    }
   ],
   "source": [
    "settings = league.settings\n",
    "settings"
   ]
  },
  {
   "cell_type": "markdown",
   "metadata": {},
   "source": [
    "## Scoreboard"
   ]
  },
  {
   "cell_type": "code",
   "execution_count": 19,
   "metadata": {
    "scrolled": true
   },
   "outputs": [
    {
     "data": {
      "text/plain": [
       "[Matchup(Team(Rocket Man), Team(Money Makin' Mitch)),\n",
       " Matchup(Team(Gurley God), Team(Mixon Cider)),\n",
       " Matchup(Team(Team 2), Team(Team 1)),\n",
       " Matchup(Team(Team salles3), Team(Team 4))]"
      ]
     },
     "execution_count": 19,
     "metadata": {},
     "output_type": "execute_result"
    }
   ],
   "source": [
    "league.scoreboard()"
   ]
  },
  {
   "cell_type": "code",
   "execution_count": 64,
   "metadata": {},
   "outputs": [
    {
     "data": {
      "text/plain": [
       "[Matchup(Team(Team salles3), Team(Team 2)),\n",
       " Matchup(Team(Mixon Cider), Team(Team 1)),\n",
       " Matchup(Team(Rocket Man), Team(Gurley God)),\n",
       " Matchup(Team(Money Makin' Mitch), Team(Team 4))]"
      ]
     },
     "execution_count": 64,
     "metadata": {},
     "output_type": "execute_result"
    }
   ],
   "source": [
    "scoreboard = league.scoreboard(week=12)\n",
    "scoreboard"
   ]
  },
  {
   "cell_type": "code",
   "execution_count": 36,
   "metadata": {},
   "outputs": [
    {
     "data": {
      "text/plain": [
       "Matchup(Team(Rocket Man), Team(Gurley God))"
      ]
     },
     "execution_count": 36,
     "metadata": {},
     "output_type": "execute_result"
    }
   ],
   "source": [
    "scoreboard[2]"
   ]
  },
  {
   "cell_type": "code",
   "execution_count": null,
   "metadata": {},
   "outputs": [],
   "source": []
  },
  {
   "cell_type": "code",
   "execution_count": 57,
   "metadata": {},
   "outputs": [
    {
     "data": {
      "text/plain": [
       "Matchup(Team(Rocket Man), Team(Gurley God))"
      ]
     },
     "execution_count": 57,
     "metadata": {},
     "output_type": "execute_result"
    }
   ],
   "source": [
    "matchup = scoreboard[2]\n",
    "matchup"
   ]
  },
  {
   "cell_type": "code",
   "execution_count": 58,
   "metadata": {
    "scrolled": true
   },
   "outputs": [
    {
     "data": {
      "text/plain": [
       "{'winner': 'home',\n",
       " 'teams': [{'score': 131.34,\n",
       "   'teamId': 6,\n",
       "   'team': {'division': {'size': 4, 'divisionName': 'West', 'divisionId': 1},\n",
       "    'teamAbbrev': 'OP',\n",
       "    'waiverRank': 6,\n",
       "    'teamId': 6,\n",
       "    'record': {'pointsAgainst': 1522.56,\n",
       "     'divisionTies': 0,\n",
       "     'streakLength': 5,\n",
       "     'homeTies': 0,\n",
       "     'overallWins': 12,\n",
       "     'pointsFor': 1993.62,\n",
       "     'divisionPercentage': 0.83333,\n",
       "     'homeLosses': 1,\n",
       "     'awayWins': 7,\n",
       "     'overallPercentage': 0.92308,\n",
       "     'overallLosses': 1,\n",
       "     'divisionLosses': 1,\n",
       "     'divisionWins': 5,\n",
       "     'homeWins': 5,\n",
       "     'awayPercentage': 0,\n",
       "     'streakType': 1,\n",
       "     'awayLosses': 0,\n",
       "     'overallTies': 0,\n",
       "     'divisionStanding': 1,\n",
       "     'overallStanding': 1,\n",
       "     'homePercentage': 0,\n",
       "     'awayTies': 0},\n",
       "    'teamLocation': 'Rocket',\n",
       "    'teamNickname': 'Man',\n",
       "    'logoType': 'vector',\n",
       "    'logoUrl': 'http://g.espncdn.com/lm-static/logo-packs/core/Incredibles/incredibles_13.svg'},\n",
       "   'playerIDs': [17586,\n",
       "    18210,\n",
       "    13295,\n",
       "    16913,\n",
       "    15880,\n",
       "    17840,\n",
       "    60003,\n",
       "    18292,\n",
       "    17794,\n",
       "    18409,\n",
       "    10452,\n",
       "    18823,\n",
       "    12649,\n",
       "    11283,\n",
       "    18839,\n",
       "    17795],\n",
       "   'home': True},\n",
       "  {'score': 102.44,\n",
       "   'teamId': 3,\n",
       "   'team': {'division': {'size': 4, 'divisionName': 'East', 'divisionId': 0},\n",
       "    'teamAbbrev': 'Kbt',\n",
       "    'waiverRank': 4,\n",
       "    'teamId': 3,\n",
       "    'record': {'pointsAgainst': 1552.92,\n",
       "     'divisionTies': 0,\n",
       "     'streakLength': 2,\n",
       "     'homeTies': 0,\n",
       "     'overallWins': 9,\n",
       "     'pointsFor': 1729.14,\n",
       "     'divisionPercentage': 1,\n",
       "     'homeLosses': 2,\n",
       "     'awayWins': 4,\n",
       "     'overallPercentage': 0.69231,\n",
       "     'overallLosses': 4,\n",
       "     'divisionLosses': 0,\n",
       "     'divisionWins': 6,\n",
       "     'homeWins': 5,\n",
       "     'awayPercentage': 0,\n",
       "     'streakType': 2,\n",
       "     'awayLosses': 2,\n",
       "     'overallTies': 0,\n",
       "     'divisionStanding': 1,\n",
       "     'overallStanding': 2,\n",
       "     'homePercentage': 0,\n",
       "     'awayTies': 0},\n",
       "    'teamLocation': 'Gurley',\n",
       "    'teamNickname': 'God',\n",
       "    'logoType': 'vector',\n",
       "    'logoUrl': 'http://g.espncdn.com/lm-static/logo-packs/ffl/CrazyHelmets-ToddDetwiler/Helmets_06.svg'},\n",
       "   'playerIDs': [17683,\n",
       "    17929,\n",
       "    15847,\n",
       "    12514,\n",
       "    13994,\n",
       "    17933,\n",
       "    14993,\n",
       "    60016,\n",
       "    14880,\n",
       "    18345,\n",
       "    15853,\n",
       "    18104,\n",
       "    17668,\n",
       "    18079,\n",
       "    15994,\n",
       "    18584],\n",
       "   'home': False}],\n",
       " 'bye': False}"
      ]
     },
     "execution_count": 58,
     "metadata": {},
     "output_type": "execute_result"
    }
   ],
   "source": [
    "matchup.data"
   ]
  },
  {
   "cell_type": "code",
   "execution_count": 59,
   "metadata": {},
   "outputs": [
    {
     "data": {
      "text/plain": [
       "dict"
      ]
     },
     "execution_count": 59,
     "metadata": {},
     "output_type": "execute_result"
    }
   ],
   "source": [
    "type(matchup.data)"
   ]
  },
  {
   "cell_type": "code",
   "execution_count": 65,
   "metadata": {},
   "outputs": [],
   "source": [
    "from pandas.io.json import json_normalize\n",
    "import pandas as pd\n",
    "# Display up to 120 columns of a dataframe\n",
    "pd.set_option('display.max_columns', 120)\n"
   ]
  },
  {
   "cell_type": "code",
   "execution_count": 66,
   "metadata": {},
   "outputs": [
    {
     "data": {
      "text/html": [
       "<div>\n",
       "<style scoped>\n",
       "    .dataframe tbody tr th:only-of-type {\n",
       "        vertical-align: middle;\n",
       "    }\n",
       "\n",
       "    .dataframe tbody tr th {\n",
       "        vertical-align: top;\n",
       "    }\n",
       "\n",
       "    .dataframe thead th {\n",
       "        text-align: right;\n",
       "    }\n",
       "</style>\n",
       "<table border=\"1\" class=\"dataframe\">\n",
       "  <thead>\n",
       "    <tr style=\"text-align: right;\">\n",
       "      <th></th>\n",
       "      <th>home</th>\n",
       "      <th>playerIDs</th>\n",
       "      <th>score</th>\n",
       "      <th>team.division.divisionId</th>\n",
       "      <th>team.division.divisionName</th>\n",
       "      <th>team.division.size</th>\n",
       "      <th>team.logoType</th>\n",
       "      <th>team.logoUrl</th>\n",
       "      <th>team.record.awayLosses</th>\n",
       "      <th>team.record.awayPercentage</th>\n",
       "      <th>team.record.awayTies</th>\n",
       "      <th>team.record.awayWins</th>\n",
       "      <th>team.record.divisionLosses</th>\n",
       "      <th>team.record.divisionPercentage</th>\n",
       "      <th>team.record.divisionStanding</th>\n",
       "      <th>team.record.divisionTies</th>\n",
       "      <th>team.record.divisionWins</th>\n",
       "      <th>team.record.homeLosses</th>\n",
       "      <th>team.record.homePercentage</th>\n",
       "      <th>team.record.homeTies</th>\n",
       "      <th>team.record.homeWins</th>\n",
       "      <th>team.record.overallLosses</th>\n",
       "      <th>team.record.overallPercentage</th>\n",
       "      <th>team.record.overallStanding</th>\n",
       "      <th>team.record.overallTies</th>\n",
       "      <th>team.record.overallWins</th>\n",
       "      <th>team.record.pointsAgainst</th>\n",
       "      <th>team.record.pointsFor</th>\n",
       "      <th>team.record.streakLength</th>\n",
       "      <th>team.record.streakType</th>\n",
       "      <th>team.teamAbbrev</th>\n",
       "      <th>team.teamId</th>\n",
       "      <th>team.teamLocation</th>\n",
       "      <th>team.teamNickname</th>\n",
       "      <th>team.waiverRank</th>\n",
       "      <th>teamId</th>\n",
       "    </tr>\n",
       "  </thead>\n",
       "  <tbody>\n",
       "    <tr>\n",
       "      <th>0</th>\n",
       "      <td>True</td>\n",
       "      <td>[17586, 18210, 13295, 16913, 15880, 17840, 600...</td>\n",
       "      <td>131.34</td>\n",
       "      <td>1</td>\n",
       "      <td>West</td>\n",
       "      <td>4</td>\n",
       "      <td>vector</td>\n",
       "      <td>http://g.espncdn.com/lm-static/logo-packs/core...</td>\n",
       "      <td>0</td>\n",
       "      <td>0</td>\n",
       "      <td>0</td>\n",
       "      <td>7</td>\n",
       "      <td>1</td>\n",
       "      <td>0.83333</td>\n",
       "      <td>1</td>\n",
       "      <td>0</td>\n",
       "      <td>5</td>\n",
       "      <td>1</td>\n",
       "      <td>0</td>\n",
       "      <td>0</td>\n",
       "      <td>5</td>\n",
       "      <td>1</td>\n",
       "      <td>0.92308</td>\n",
       "      <td>1</td>\n",
       "      <td>0</td>\n",
       "      <td>12</td>\n",
       "      <td>1522.56</td>\n",
       "      <td>1993.62</td>\n",
       "      <td>5</td>\n",
       "      <td>1</td>\n",
       "      <td>OP</td>\n",
       "      <td>6</td>\n",
       "      <td>Rocket</td>\n",
       "      <td>Man</td>\n",
       "      <td>6</td>\n",
       "      <td>6</td>\n",
       "    </tr>\n",
       "    <tr>\n",
       "      <th>1</th>\n",
       "      <td>False</td>\n",
       "      <td>[17683, 17929, 15847, 12514, 13994, 17933, 149...</td>\n",
       "      <td>102.44</td>\n",
       "      <td>0</td>\n",
       "      <td>East</td>\n",
       "      <td>4</td>\n",
       "      <td>vector</td>\n",
       "      <td>http://g.espncdn.com/lm-static/logo-packs/ffl/...</td>\n",
       "      <td>2</td>\n",
       "      <td>0</td>\n",
       "      <td>0</td>\n",
       "      <td>4</td>\n",
       "      <td>0</td>\n",
       "      <td>1.00000</td>\n",
       "      <td>1</td>\n",
       "      <td>0</td>\n",
       "      <td>6</td>\n",
       "      <td>2</td>\n",
       "      <td>0</td>\n",
       "      <td>0</td>\n",
       "      <td>5</td>\n",
       "      <td>4</td>\n",
       "      <td>0.69231</td>\n",
       "      <td>2</td>\n",
       "      <td>0</td>\n",
       "      <td>9</td>\n",
       "      <td>1552.92</td>\n",
       "      <td>1729.14</td>\n",
       "      <td>2</td>\n",
       "      <td>2</td>\n",
       "      <td>Kbt</td>\n",
       "      <td>3</td>\n",
       "      <td>Gurley</td>\n",
       "      <td>God</td>\n",
       "      <td>4</td>\n",
       "      <td>3</td>\n",
       "    </tr>\n",
       "  </tbody>\n",
       "</table>\n",
       "</div>"
      ],
      "text/plain": [
       "    home                                          playerIDs   score  \\\n",
       "0   True  [17586, 18210, 13295, 16913, 15880, 17840, 600...  131.34   \n",
       "1  False  [17683, 17929, 15847, 12514, 13994, 17933, 149...  102.44   \n",
       "\n",
       "   team.division.divisionId team.division.divisionName  team.division.size  \\\n",
       "0                         1                       West                   4   \n",
       "1                         0                       East                   4   \n",
       "\n",
       "  team.logoType                                       team.logoUrl  \\\n",
       "0        vector  http://g.espncdn.com/lm-static/logo-packs/core...   \n",
       "1        vector  http://g.espncdn.com/lm-static/logo-packs/ffl/...   \n",
       "\n",
       "   team.record.awayLosses  team.record.awayPercentage  team.record.awayTies  \\\n",
       "0                       0                           0                     0   \n",
       "1                       2                           0                     0   \n",
       "\n",
       "   team.record.awayWins  team.record.divisionLosses  \\\n",
       "0                     7                           1   \n",
       "1                     4                           0   \n",
       "\n",
       "   team.record.divisionPercentage  team.record.divisionStanding  \\\n",
       "0                         0.83333                             1   \n",
       "1                         1.00000                             1   \n",
       "\n",
       "   team.record.divisionTies  team.record.divisionWins  team.record.homeLosses  \\\n",
       "0                         0                         5                       1   \n",
       "1                         0                         6                       2   \n",
       "\n",
       "   team.record.homePercentage  team.record.homeTies  team.record.homeWins  \\\n",
       "0                           0                     0                     5   \n",
       "1                           0                     0                     5   \n",
       "\n",
       "   team.record.overallLosses  team.record.overallPercentage  \\\n",
       "0                          1                        0.92308   \n",
       "1                          4                        0.69231   \n",
       "\n",
       "   team.record.overallStanding  team.record.overallTies  \\\n",
       "0                            1                        0   \n",
       "1                            2                        0   \n",
       "\n",
       "   team.record.overallWins  team.record.pointsAgainst  team.record.pointsFor  \\\n",
       "0                       12                    1522.56                1993.62   \n",
       "1                        9                    1552.92                1729.14   \n",
       "\n",
       "   team.record.streakLength  team.record.streakType team.teamAbbrev  \\\n",
       "0                         5                       1              OP   \n",
       "1                         2                       2             Kbt   \n",
       "\n",
       "   team.teamId team.teamLocation team.teamNickname  team.waiverRank  teamId  \n",
       "0            6            Rocket               Man                6       6  \n",
       "1            3            Gurley               God                4       3  "
      ]
     },
     "execution_count": 66,
     "metadata": {},
     "output_type": "execute_result"
    }
   ],
   "source": [
    "json_normalize(matchup.data['teams'])"
   ]
  },
  {
   "cell_type": "code",
   "execution_count": 54,
   "metadata": {},
   "outputs": [
    {
     "data": {
      "text/plain": [
       "{'division': {'size': 4, 'divisionName': 'West', 'divisionId': 1},\n",
       " 'teamAbbrev': 'Mix',\n",
       " 'waiverRank': 7,\n",
       " 'teamId': 8,\n",
       " 'record': {'pointsAgainst': 1789.68,\n",
       "  'divisionTies': 0,\n",
       "  'streakLength': 3,\n",
       "  'homeTies': 0,\n",
       "  'overallWins': 6,\n",
       "  'pointsFor': 1658.98,\n",
       "  'divisionPercentage': 0.16667,\n",
       "  'homeLosses': 3,\n",
       "  'awayWins': 3,\n",
       "  'overallPercentage': 0.46154,\n",
       "  'overallLosses': 7,\n",
       "  'divisionLosses': 5,\n",
       "  'divisionWins': 1,\n",
       "  'homeWins': 3,\n",
       "  'awayPercentage': 0,\n",
       "  'streakType': 1,\n",
       "  'awayLosses': 4,\n",
       "  'overallTies': 0,\n",
       "  'divisionStanding': 3,\n",
       "  'overallStanding': 4,\n",
       "  'homePercentage': 0,\n",
       "  'awayTies': 0},\n",
       " 'teamLocation': 'Mixon',\n",
       " 'teamNickname': 'Cider'}"
      ]
     },
     "execution_count": 54,
     "metadata": {},
     "output_type": "execute_result"
    }
   ],
   "source": [
    "matchup.data['teams'][0]['team']"
   ]
  },
  {
   "cell_type": "code",
   "execution_count": null,
   "metadata": {},
   "outputs": [],
   "source": [
    "json_normalize()"
   ]
  },
  {
   "cell_type": "code",
   "execution_count": null,
   "metadata": {},
   "outputs": [],
   "source": []
  },
  {
   "cell_type": "code",
   "execution_count": 30,
   "metadata": {},
   "outputs": [
    {
     "data": {
      "text/plain": [
       "Team(Rocket Man)"
      ]
     },
     "execution_count": 30,
     "metadata": {},
     "output_type": "execute_result"
    }
   ],
   "source": [
    "rocket = league.teams[5]\n",
    "rocket"
   ]
  },
  {
   "cell_type": "code",
   "execution_count": 67,
   "metadata": {},
   "outputs": [
    {
     "data": {
      "text/plain": [
       "12"
      ]
     },
     "execution_count": 67,
     "metadata": {},
     "output_type": "execute_result"
    }
   ],
   "source": [
    "rocket."
   ]
  },
  {
   "cell_type": "code",
   "execution_count": 72,
   "metadata": {},
   "outputs": [
    {
     "data": {
      "text/plain": [
       "[('78.45', Team(Rocket Man)),\n",
       " ('73.35', Team(Money Makin' Mitch)),\n",
       " ('57.45', Team(Gurley God)),\n",
       " ('34.40', Team(Team salles3)),\n",
       " ('33.70', Team(Mixon Cider)),\n",
       " ('27.60', Team(Team 2)),\n",
       " ('24.60', Team(Team 4)),\n",
       " ('16.70', Team(Team 1))]"
      ]
     },
     "execution_count": 72,
     "metadata": {},
     "output_type": "execute_result"
    }
   ],
   "source": [
    "league.power_rankings(week=12)"
   ]
  },
  {
   "cell_type": "code",
   "execution_count": null,
   "metadata": {},
   "outputs": [],
   "source": [
    "league.scoreboard()"
   ]
  }
 ],
 "metadata": {
  "kernelspec": {
   "display_name": "Python 3",
   "language": "python",
   "name": "python3"
  },
  "language_info": {
   "codemirror_mode": {
    "name": "ipython",
    "version": 3
   },
   "file_extension": ".py",
   "mimetype": "text/x-python",
   "name": "python",
   "nbconvert_exporter": "python",
   "pygments_lexer": "ipython3",
   "version": "3.6.6"
  }
 },
 "nbformat": 4,
 "nbformat_minor": 2
}
